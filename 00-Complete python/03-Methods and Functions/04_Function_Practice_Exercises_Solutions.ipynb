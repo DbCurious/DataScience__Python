{
  "nbformat": 4,
  "nbformat_minor": 0,
  "metadata": {
    "kernelspec": {
      "display_name": "Python 3",
      "language": "python",
      "name": "python3"
    },
    "language_info": {
      "codemirror_mode": {
        "name": "ipython",
        "version": 3
      },
      "file_extension": ".py",
      "mimetype": "text/x-python",
      "name": "python",
      "nbconvert_exporter": "python",
      "pygments_lexer": "ipython3",
      "version": "3.6.2"
    },
    "colab": {
      "name": "04-Function Practice Exercises - Solutions.ipynb",
      "provenance": [],
      "collapsed_sections": [
        "a_JcimtKaW8G",
        "ug6TAU-caW8a",
        "tvIIddnjaW84",
        "HK6EAkyYaW9g",
        "vsDAbCxoaW-L",
        "GPGQ4pHRaW-f",
        "317rP_OvaW-8",
        "wmkAq6MtaW_Y",
        "NC5i4ZCsaW_2"
      ]
    }
  },
  "cells": [
    {
      "cell_type": "markdown",
      "metadata": {
        "id": "0buivzPfaW6L",
        "colab_type": "text"
      },
      "source": [
        "# Function Practice Exercises - Solutions\n",
        "\n",
        "Problems are arranged in increasing difficulty:\n",
        "* Warmup - these can be solved using basic comparisons and methods\n",
        "* Level 1 - these may involve if/then conditional statements and simple methods\n",
        "* Level 2 - these may require iterating over sequences, usually with some kind of loop\n",
        "* Challenging - these will take some creativity to solve"
      ]
    },
    {
      "cell_type": "markdown",
      "metadata": {
        "id": "aQJxWhvoaW6R",
        "colab_type": "text"
      },
      "source": [
        "## WARMUP SECTION:"
      ]
    },
    {
      "cell_type": "markdown",
      "metadata": {
        "id": "gfQUm-PxaW6V",
        "colab_type": "text"
      },
      "source": [
        "#### LESSER OF TWO EVENS: Write a function that returns the lesser of two given numbers *if* both numbers are even, but returns the greater if one or both numbers are odd\n",
        "    lesser_of_two_evens(2,4) --> 2\n",
        "    lesser_of_two_evens(2,5) --> 5"
      ]
    },
    {
      "cell_type": "code",
      "metadata": {
        "id": "5kwS_fnLaW6Y",
        "colab_type": "code",
        "colab": {}
      },
      "source": [
        "def lesser_of_two_evens(a,b):\n",
        "    if a%2 == 0 and b%2 == 0:\n",
        "        return min(a,b)\n",
        "    else:\n",
        "        return max(a,b)"
      ],
      "execution_count": null,
      "outputs": []
    },
    {
      "cell_type": "code",
      "metadata": {
        "id": "4IXhSceiaW6k",
        "colab_type": "code",
        "colab": {},
        "outputId": "b237f390-7ade-421f-81ae-0100c73302eb"
      },
      "source": [
        "# Check\n",
        "lesser_of_two_evens(2,4)"
      ],
      "execution_count": null,
      "outputs": [
        {
          "output_type": "execute_result",
          "data": {
            "text/plain": [
              "2"
            ]
          },
          "metadata": {
            "tags": []
          },
          "execution_count": 2
        }
      ]
    },
    {
      "cell_type": "code",
      "metadata": {
        "id": "u2utwRghaW6y",
        "colab_type": "code",
        "colab": {},
        "outputId": "af2d461a-f329-4a1e-dc7b-aaecf3b537c1"
      },
      "source": [
        "# Check\n",
        "lesser_of_two_evens(2,5)"
      ],
      "execution_count": null,
      "outputs": [
        {
          "output_type": "execute_result",
          "data": {
            "text/plain": [
              "5"
            ]
          },
          "metadata": {
            "tags": []
          },
          "execution_count": 3
        }
      ]
    },
    {
      "cell_type": "markdown",
      "metadata": {
        "id": "VhiTAAZvaW65",
        "colab_type": "text"
      },
      "source": [
        "#### ANIMAL CRACKERS: Write a function takes a two-word string and returns True if both words begin with same letter\n",
        "    animal_crackers('Levelheaded Llama') --> True\n",
        "    animal_crackers('Crazy Kangaroo') --> False"
      ]
    },
    {
      "cell_type": "code",
      "metadata": {
        "id": "gHO4nmXpaW67",
        "colab_type": "code",
        "colab": {}
      },
      "source": [
        "def animal_crackers(text):\n",
        "    wordlist = text.split()\n",
        "    return wordlist[0][0] == wordlist[1][0]"
      ],
      "execution_count": null,
      "outputs": []
    },
    {
      "cell_type": "code",
      "metadata": {
        "id": "4PwR8U49aW7G",
        "colab_type": "code",
        "colab": {},
        "outputId": "31aaee39-0955-40fa-90b4-85ea9239c58c"
      },
      "source": [
        "# Check\n",
        "animal_crackers('Levelheaded Llama')"
      ],
      "execution_count": null,
      "outputs": [
        {
          "output_type": "execute_result",
          "data": {
            "text/plain": [
              "True"
            ]
          },
          "metadata": {
            "tags": []
          },
          "execution_count": 5
        }
      ]
    },
    {
      "cell_type": "code",
      "metadata": {
        "id": "uvIF_Hw2aW7N",
        "colab_type": "code",
        "colab": {},
        "outputId": "2856259e-2d87-48de-db6e-de1e10ca28aa"
      },
      "source": [
        "# Check\n",
        "animal_crackers('Crazy Kangaroo')"
      ],
      "execution_count": null,
      "outputs": [
        {
          "output_type": "execute_result",
          "data": {
            "text/plain": [
              "False"
            ]
          },
          "metadata": {
            "tags": []
          },
          "execution_count": 6
        }
      ]
    },
    {
      "cell_type": "markdown",
      "metadata": {
        "id": "ND68HB3kaW7Z",
        "colab_type": "text"
      },
      "source": [
        "#### MAKES TWENTY: Given two integers, return True if the sum of the integers is 20 *or* if one of the integers is 20. If not, return False\n",
        "\n",
        "    makes_twenty(20,10) --> True\n",
        "    makes_twenty(12,8) --> True\n",
        "    makes_twenty(2,3) --> False"
      ]
    },
    {
      "cell_type": "code",
      "metadata": {
        "id": "SdpghMYwaW7c",
        "colab_type": "code",
        "colab": {}
      },
      "source": [
        "def makes_twenty(n1,n2):\n",
        "    return (n1+n2)==20 or n1==20 or n2==20"
      ],
      "execution_count": null,
      "outputs": []
    },
    {
      "cell_type": "code",
      "metadata": {
        "id": "bvbbJxz-aW7m",
        "colab_type": "code",
        "colab": {},
        "outputId": "08cfc5b4-d6af-4040-8617-f385a6dd408c"
      },
      "source": [
        "# Check\n",
        "makes_twenty(20,10)"
      ],
      "execution_count": null,
      "outputs": [
        {
          "output_type": "execute_result",
          "data": {
            "text/plain": [
              "True"
            ]
          },
          "metadata": {
            "tags": []
          },
          "execution_count": 8
        }
      ]
    },
    {
      "cell_type": "code",
      "metadata": {
        "id": "Kl3mafMIaW7w",
        "colab_type": "code",
        "colab": {},
        "outputId": "b52c043a-41d6-45bd-b055-f87b5686e428"
      },
      "source": [
        "# Check\n",
        "makes_twenty(12,8)"
      ],
      "execution_count": null,
      "outputs": [
        {
          "output_type": "execute_result",
          "data": {
            "text/plain": [
              "True"
            ]
          },
          "metadata": {
            "tags": []
          },
          "execution_count": 9
        }
      ]
    },
    {
      "cell_type": "code",
      "metadata": {
        "id": "EvsNI8qJaW75",
        "colab_type": "code",
        "colab": {},
        "outputId": "0aeaa6c9-d66d-4b98-f5c3-8057efe349a1"
      },
      "source": [
        "#Check\n",
        "makes_twenty(2,3)"
      ],
      "execution_count": null,
      "outputs": [
        {
          "output_type": "execute_result",
          "data": {
            "text/plain": [
              "False"
            ]
          },
          "metadata": {
            "tags": []
          },
          "execution_count": 10
        }
      ]
    },
    {
      "cell_type": "markdown",
      "metadata": {
        "id": "I6DS_UoeaW8C",
        "colab_type": "text"
      },
      "source": [
        "# LEVEL 1 PROBLEMS"
      ]
    },
    {
      "cell_type": "markdown",
      "metadata": {
        "id": "a_JcimtKaW8G",
        "colab_type": "text"
      },
      "source": [
        "#### OLD MACDONALD: Write a function that capitalizes the first and fourth letters of a name\n",
        "     \n",
        "    old_macdonald('macdonald') --> MacDonald\n",
        "    \n",
        "Note: `'macdonald'.capitalize()` returns `'Macdonald'`"
      ]
    },
    {
      "cell_type": "code",
      "metadata": {
        "id": "Ld_lYnGkaW8J",
        "colab_type": "code",
        "colab": {}
      },
      "source": [
        "def old_macdonald(name):\n",
        "    if len(name) > 3:\n",
        "        return name[:3].capitalize() + name[3:].capitalize()\n",
        "    else:\n",
        "        return 'Name is too short!'"
      ],
      "execution_count": null,
      "outputs": []
    },
    {
      "cell_type": "code",
      "metadata": {
        "id": "ZOSKcSDuaW8R",
        "colab_type": "code",
        "colab": {},
        "outputId": "cc417320-4c23-4ed1-ce95-07f1eb4993b4"
      },
      "source": [
        "# Check\n",
        "old_macdonald('macdonald')"
      ],
      "execution_count": null,
      "outputs": [
        {
          "output_type": "execute_result",
          "data": {
            "text/plain": [
              "'MacDonald'"
            ]
          },
          "metadata": {
            "tags": []
          },
          "execution_count": 12
        }
      ]
    },
    {
      "cell_type": "markdown",
      "metadata": {
        "id": "ug6TAU-caW8a",
        "colab_type": "text"
      },
      "source": [
        "#### MASTER YODA: Given a sentence, return a sentence with the words reversed\n",
        "\n",
        "    master_yoda('I am home') --> 'home am I'\n",
        "    master_yoda('We are ready') --> 'ready are We'"
      ]
    },
    {
      "cell_type": "code",
      "metadata": {
        "id": "6PKCkO0jaW8b",
        "colab_type": "code",
        "colab": {}
      },
      "source": [
        "def master_yoda(text):\n",
        "    return ' '.join(text.split()[::-1])"
      ],
      "execution_count": null,
      "outputs": []
    },
    {
      "cell_type": "code",
      "metadata": {
        "id": "BsRTSIQIaW8k",
        "colab_type": "code",
        "colab": {},
        "outputId": "8d354a77-3504-492d-8349-2fe3ee3e4e8c"
      },
      "source": [
        "# Check\n",
        "master_yoda('I am home')"
      ],
      "execution_count": null,
      "outputs": [
        {
          "output_type": "execute_result",
          "data": {
            "text/plain": [
              "'home am I'"
            ]
          },
          "metadata": {
            "tags": []
          },
          "execution_count": 14
        }
      ]
    },
    {
      "cell_type": "code",
      "metadata": {
        "id": "_Ur4IzaBaW8s",
        "colab_type": "code",
        "colab": {},
        "outputId": "441466a3-909b-46c5-e2f9-f8714e61af23"
      },
      "source": [
        "# Check\n",
        "master_yoda('We are ready')"
      ],
      "execution_count": null,
      "outputs": [
        {
          "output_type": "execute_result",
          "data": {
            "text/plain": [
              "'ready are We'"
            ]
          },
          "metadata": {
            "tags": []
          },
          "execution_count": 15
        }
      ]
    },
    {
      "cell_type": "markdown",
      "metadata": {
        "id": "tvIIddnjaW84",
        "colab_type": "text"
      },
      "source": [
        "#### ALMOST THERE: Given an integer n, return True if n is within 10 of either 100 or 200\n",
        "\n",
        "    almost_there(90) --> True\n",
        "    almost_there(104) --> True\n",
        "    almost_there(150) --> False\n",
        "    almost_there(209) --> True\n",
        "    \n",
        "NOTE: `abs(num)` returns the absolute value of a number"
      ]
    },
    {
      "cell_type": "code",
      "metadata": {
        "id": "RXk_OSSgaW86",
        "colab_type": "code",
        "colab": {}
      },
      "source": [
        "def almost_there(n):\n",
        "    return ((abs(100 - n) <= 10) or (abs(200 - n) <= 10))"
      ],
      "execution_count": null,
      "outputs": []
    },
    {
      "cell_type": "code",
      "metadata": {
        "id": "veAaToppaW9B",
        "colab_type": "code",
        "colab": {},
        "outputId": "1e74b345-55de-4038-a837-16f24a2c5fce"
      },
      "source": [
        "# Check\n",
        "almost_there(90)"
      ],
      "execution_count": null,
      "outputs": [
        {
          "output_type": "execute_result",
          "data": {
            "text/plain": [
              "True"
            ]
          },
          "metadata": {
            "tags": []
          },
          "execution_count": 17
        }
      ]
    },
    {
      "cell_type": "code",
      "metadata": {
        "id": "1lYo5RfDaW9J",
        "colab_type": "code",
        "colab": {},
        "outputId": "c2f395ed-8411-42de-cd20-dfa234b2ab9d"
      },
      "source": [
        "# Check\n",
        "almost_there(104)"
      ],
      "execution_count": null,
      "outputs": [
        {
          "output_type": "execute_result",
          "data": {
            "text/plain": [
              "True"
            ]
          },
          "metadata": {
            "tags": []
          },
          "execution_count": 18
        }
      ]
    },
    {
      "cell_type": "code",
      "metadata": {
        "id": "e9n8dOLIaW9Q",
        "colab_type": "code",
        "colab": {},
        "outputId": "787b4df8-2ba1-4dc9-b6e3-0563f0b760da"
      },
      "source": [
        "# Check\n",
        "almost_there(150)"
      ],
      "execution_count": null,
      "outputs": [
        {
          "output_type": "execute_result",
          "data": {
            "text/plain": [
              "False"
            ]
          },
          "metadata": {
            "tags": []
          },
          "execution_count": 19
        }
      ]
    },
    {
      "cell_type": "code",
      "metadata": {
        "id": "VurADejjaW9X",
        "colab_type": "code",
        "colab": {},
        "outputId": "219a4d01-8f01-4a70-8ad0-406560c4d876"
      },
      "source": [
        "# Check\n",
        "almost_there(209)"
      ],
      "execution_count": null,
      "outputs": [
        {
          "output_type": "execute_result",
          "data": {
            "text/plain": [
              "True"
            ]
          },
          "metadata": {
            "tags": []
          },
          "execution_count": 20
        }
      ]
    },
    {
      "cell_type": "markdown",
      "metadata": {
        "id": "d_5pb03kaW9d",
        "colab_type": "text"
      },
      "source": [
        "# LEVEL 2 PROBLEMS"
      ]
    },
    {
      "cell_type": "markdown",
      "metadata": {
        "id": "HK6EAkyYaW9g",
        "colab_type": "text"
      },
      "source": [
        "#### FIND 33: \n",
        "\n",
        "Given a list of ints, return True if the array contains a 3 next to a 3 somewhere.\n",
        "\n",
        "    has_33([1, 3, 3]) → True\n",
        "    has_33([1, 3, 1, 3]) → False\n",
        "    has_33([3, 1, 3]) → False"
      ]
    },
    {
      "cell_type": "code",
      "metadata": {
        "id": "v2MPu1NkaW9h",
        "colab_type": "code",
        "colab": {}
      },
      "source": [
        "def has_33(nums):\n",
        "    for i in range(0, len(nums)-1):\n",
        "      \n",
        "        # nicer looking alternative in commented code\n",
        "        #if nums[i] == 3 and nums[i+1] == 3:\n",
        "    \n",
        "        if nums[i:i+2] == [3,3]:\n",
        "            return True  \n",
        "    \n",
        "    return False"
      ],
      "execution_count": null,
      "outputs": []
    },
    {
      "cell_type": "code",
      "metadata": {
        "id": "zxFcxSxMaW9o",
        "colab_type": "code",
        "colab": {},
        "outputId": "c5d0db5f-2fcf-479b-cf6c-9e442c3fa6f9"
      },
      "source": [
        "# Check\n",
        "has_33([1, 3, 3])"
      ],
      "execution_count": null,
      "outputs": [
        {
          "output_type": "execute_result",
          "data": {
            "text/plain": [
              "True"
            ]
          },
          "metadata": {
            "tags": []
          },
          "execution_count": 22
        }
      ]
    },
    {
      "cell_type": "code",
      "metadata": {
        "id": "8o0aXRsbaW9w",
        "colab_type": "code",
        "colab": {},
        "outputId": "1faff808-1821-4fd3-ea89-ef2d5895b73a"
      },
      "source": [
        "# Check\n",
        "has_33([1, 3, 1, 3])"
      ],
      "execution_count": null,
      "outputs": [
        {
          "output_type": "execute_result",
          "data": {
            "text/plain": [
              "False"
            ]
          },
          "metadata": {
            "tags": []
          },
          "execution_count": 23
        }
      ]
    },
    {
      "cell_type": "code",
      "metadata": {
        "id": "fbEahlqraW-A",
        "colab_type": "code",
        "colab": {},
        "outputId": "c3e86d60-854e-449d-f539-bad974023ecb"
      },
      "source": [
        "# Check\n",
        "has_33([3, 1, 3])"
      ],
      "execution_count": null,
      "outputs": [
        {
          "output_type": "execute_result",
          "data": {
            "text/plain": [
              "False"
            ]
          },
          "metadata": {
            "tags": []
          },
          "execution_count": 24
        }
      ]
    },
    {
      "cell_type": "markdown",
      "metadata": {
        "id": "vsDAbCxoaW-L",
        "colab_type": "text"
      },
      "source": [
        "#### PAPER DOLL: Given a string, return a string where for every character in the original there are three characters\n",
        "    paper_doll('Hello') --> 'HHHeeellllllooo'\n",
        "    paper_doll('Mississippi') --> 'MMMiiissssssiiippppppiii'"
      ]
    },
    {
      "cell_type": "code",
      "metadata": {
        "id": "e-JltWU9aW-M",
        "colab_type": "code",
        "colab": {}
      },
      "source": [
        "def paper_doll(text):\n",
        "    result = ''\n",
        "    for char in text:\n",
        "        result += char * 3\n",
        "    return result"
      ],
      "execution_count": null,
      "outputs": []
    },
    {
      "cell_type": "code",
      "metadata": {
        "id": "h1flBtuzaW-R",
        "colab_type": "code",
        "colab": {},
        "outputId": "ad955533-6c6b-48b1-e853-0bc224bb36c4"
      },
      "source": [
        "# Check\n",
        "paper_doll('Hello')"
      ],
      "execution_count": null,
      "outputs": [
        {
          "output_type": "execute_result",
          "data": {
            "text/plain": [
              "'HHHeeellllllooo'"
            ]
          },
          "metadata": {
            "tags": []
          },
          "execution_count": 26
        }
      ]
    },
    {
      "cell_type": "code",
      "metadata": {
        "id": "rXQPID75aW-X",
        "colab_type": "code",
        "colab": {},
        "outputId": "3e68429b-7ff5-4713-8175-0530c06dbd13"
      },
      "source": [
        "# Check\n",
        "paper_doll('Mississippi')"
      ],
      "execution_count": null,
      "outputs": [
        {
          "output_type": "execute_result",
          "data": {
            "text/plain": [
              "'MMMiiissssssiiissssssiiippppppiii'"
            ]
          },
          "metadata": {
            "tags": []
          },
          "execution_count": 27
        }
      ]
    },
    {
      "cell_type": "markdown",
      "metadata": {
        "id": "GPGQ4pHRaW-f",
        "colab_type": "text"
      },
      "source": [
        "#### BLACKJACK: Given three integers between 1 and 11, if their sum is less than or equal to 21, return their sum. If their sum exceeds 21 *and* there's an eleven, reduce the total sum by 10. Finally, if the sum (even after adjustment) exceeds 21, return 'BUST'\n",
        "    blackjack(5,6,7) --> 18\n",
        "    blackjack(9,9,9) --> 'BUST'\n",
        "    blackjack(9,9,11) --> 19"
      ]
    },
    {
      "cell_type": "code",
      "metadata": {
        "id": "uQnaHRlsaW-h",
        "colab_type": "code",
        "colab": {}
      },
      "source": [
        "def blackjack(a,b,c):\n",
        "    \n",
        "    if sum((a,b,c)) <= 21:\n",
        "        return sum((a,b,c))\n",
        "    elif sum((a,b,c)) <=31 and 11 in (a,b,c):\n",
        "        return sum((a,b,c)) - 10\n",
        "    else:\n",
        "        return 'BUST'"
      ],
      "execution_count": null,
      "outputs": []
    },
    {
      "cell_type": "code",
      "metadata": {
        "id": "3s-VepJIaW-p",
        "colab_type": "code",
        "colab": {},
        "outputId": "428b4732-232c-47fa-906c-aff419698dca"
      },
      "source": [
        "# Check\n",
        "blackjack(5,6,7)"
      ],
      "execution_count": null,
      "outputs": [
        {
          "output_type": "execute_result",
          "data": {
            "text/plain": [
              "18"
            ]
          },
          "metadata": {
            "tags": []
          },
          "execution_count": 29
        }
      ]
    },
    {
      "cell_type": "code",
      "metadata": {
        "id": "iqRUCqK7aW-v",
        "colab_type": "code",
        "colab": {},
        "outputId": "51a86521-0739-426c-9190-01e8ec442e8d"
      },
      "source": [
        "# Check\n",
        "blackjack(9,9,9)"
      ],
      "execution_count": null,
      "outputs": [
        {
          "output_type": "execute_result",
          "data": {
            "text/plain": [
              "'BUST'"
            ]
          },
          "metadata": {
            "tags": []
          },
          "execution_count": 30
        }
      ]
    },
    {
      "cell_type": "code",
      "metadata": {
        "id": "SCLzmwDLaW-1",
        "colab_type": "code",
        "colab": {},
        "outputId": "6e26e40c-3772-4348-8615-d18f4a2eae2f"
      },
      "source": [
        "# Check\n",
        "blackjack(9,9,11)"
      ],
      "execution_count": null,
      "outputs": [
        {
          "output_type": "execute_result",
          "data": {
            "text/plain": [
              "19"
            ]
          },
          "metadata": {
            "tags": []
          },
          "execution_count": 31
        }
      ]
    },
    {
      "cell_type": "markdown",
      "metadata": {
        "id": "317rP_OvaW-8",
        "colab_type": "text"
      },
      "source": [
        "#### SUMMER OF '69: Return the sum of the numbers in the array, except ignore sections of numbers starting with a 6 and extending to the next 9 (every 6 will be followed by at least one 9). Return 0 for no numbers.\n",
        " \n",
        "    summer_69([1, 3, 5]) --> 9\n",
        "    summer_69([4, 5, 6, 7, 8, 9]) --> 9\n",
        "    summer_69([2, 1, 6, 9, 11]) --> 14"
      ]
    },
    {
      "cell_type": "code",
      "metadata": {
        "id": "-HiQrYKbaW-9",
        "colab_type": "code",
        "colab": {}
      },
      "source": [
        "def summer_69(arr):\n",
        "    total = 0\n",
        "    add = True\n",
        "    for num in arr:\n",
        "        while add:\n",
        "            if num != 6:\n",
        "                total += num\n",
        "                break\n",
        "            else:\n",
        "                add = False\n",
        "        while not add:\n",
        "            if num != 9:\n",
        "                break\n",
        "            else:\n",
        "                add = True\n",
        "                break\n",
        "    return total"
      ],
      "execution_count": null,
      "outputs": []
    },
    {
      "cell_type": "code",
      "metadata": {
        "id": "paquU3WzaW_D",
        "colab_type": "code",
        "colab": {},
        "outputId": "406b3a42-1253-42a8-da83-68a82d88e143"
      },
      "source": [
        "# Check\n",
        "summer_69([1, 3, 5])"
      ],
      "execution_count": null,
      "outputs": [
        {
          "output_type": "execute_result",
          "data": {
            "text/plain": [
              "9"
            ]
          },
          "metadata": {
            "tags": []
          },
          "execution_count": 33
        }
      ]
    },
    {
      "cell_type": "code",
      "metadata": {
        "id": "KhPrcshfaW_I",
        "colab_type": "code",
        "colab": {},
        "outputId": "998e0905-3549-4c01-eeec-8b7f4519818b"
      },
      "source": [
        "# Check\n",
        "summer_69([4, 5, 6, 7, 8, 9])"
      ],
      "execution_count": null,
      "outputs": [
        {
          "output_type": "execute_result",
          "data": {
            "text/plain": [
              "9"
            ]
          },
          "metadata": {
            "tags": []
          },
          "execution_count": 34
        }
      ]
    },
    {
      "cell_type": "code",
      "metadata": {
        "id": "rh9h8B2qaW_Q",
        "colab_type": "code",
        "colab": {},
        "outputId": "d1c169d8-e9f0-47a4-d58b-408174cef2e2"
      },
      "source": [
        "# Check\n",
        "summer_69([2, 1, 6, 9, 11])"
      ],
      "execution_count": null,
      "outputs": [
        {
          "output_type": "execute_result",
          "data": {
            "text/plain": [
              "14"
            ]
          },
          "metadata": {
            "tags": []
          },
          "execution_count": 35
        }
      ]
    },
    {
      "cell_type": "markdown",
      "metadata": {
        "id": "SiNRhMgLaW_X",
        "colab_type": "text"
      },
      "source": [
        "# CHALLENGING PROBLEMS"
      ]
    },
    {
      "cell_type": "markdown",
      "metadata": {
        "id": "wmkAq6MtaW_Y",
        "colab_type": "text"
      },
      "source": [
        "#### SPY GAME: Write a function that takes in a list of integers and returns True if it contains 007 in order\n",
        "\n",
        "     spy_game([1,2,4,0,0,7,5]) --> True\n",
        "     spy_game([1,0,2,4,0,5,7]) --> True\n",
        "     spy_game([1,7,2,0,4,5,0]) --> False\n"
      ]
    },
    {
      "cell_type": "code",
      "metadata": {
        "id": "uigsXf10aW_a",
        "colab_type": "code",
        "colab": {}
      },
      "source": [
        "def spy_game(nums):\n",
        "\n",
        "    code = [0,0,7,'x']\n",
        "    \n",
        "    for num in nums:\n",
        "        if num == code[0]:\n",
        "            code.pop(0)   # code.remove(num) also works\n",
        "       \n",
        "    return len(code) == 1"
      ],
      "execution_count": null,
      "outputs": []
    },
    {
      "cell_type": "code",
      "metadata": {
        "id": "QnFDjN7vaW_h",
        "colab_type": "code",
        "colab": {},
        "outputId": "ac46f452-9247-4902-a017-5df3c5f16a58"
      },
      "source": [
        "# Check\n",
        "spy_game([1,2,4,0,0,7,5])"
      ],
      "execution_count": null,
      "outputs": [
        {
          "output_type": "execute_result",
          "data": {
            "text/plain": [
              "True"
            ]
          },
          "metadata": {
            "tags": []
          },
          "execution_count": 37
        }
      ]
    },
    {
      "cell_type": "code",
      "metadata": {
        "id": "S-1EHR6KaW_n",
        "colab_type": "code",
        "colab": {},
        "outputId": "c39c5a01-dbff-4fb0-9bc5-8e12eefb4694"
      },
      "source": [
        "# Check\n",
        "spy_game([1,0,2,4,0,5,7])"
      ],
      "execution_count": null,
      "outputs": [
        {
          "output_type": "execute_result",
          "data": {
            "text/plain": [
              "True"
            ]
          },
          "metadata": {
            "tags": []
          },
          "execution_count": 38
        }
      ]
    },
    {
      "cell_type": "code",
      "metadata": {
        "id": "m8kBu1CeaW_w",
        "colab_type": "code",
        "colab": {},
        "outputId": "d0aacf87-35ab-4acf-e687-184892110d65"
      },
      "source": [
        "# Check\n",
        "spy_game([1,7,2,0,4,5,0])"
      ],
      "execution_count": null,
      "outputs": [
        {
          "output_type": "execute_result",
          "data": {
            "text/plain": [
              "False"
            ]
          },
          "metadata": {
            "tags": []
          },
          "execution_count": 39
        }
      ]
    },
    {
      "cell_type": "markdown",
      "metadata": {
        "id": "NC5i4ZCsaW_2",
        "colab_type": "text"
      },
      "source": [
        "#### COUNT PRIMES: Write a function that returns the *number* of prime numbers that exist up to and including a given number\n",
        "    count_primes(100) --> 25\n",
        "\n",
        "By convention, 0 and 1 are not prime."
      ]
    },
    {
      "cell_type": "code",
      "metadata": {
        "id": "O7-A087kaW_3",
        "colab_type": "code",
        "colab": {}
      },
      "source": [
        "def count_primes(num):\n",
        "    primes = [2]\n",
        "    x = 3\n",
        "    if num < 2:  # for the case of num = 0 or 1\n",
        "        return 0\n",
        "    while x <= num:\n",
        "        for y in range(3,x,2):  # test all odd factors up to x-1\n",
        "            if x%y == 0:\n",
        "                x += 2\n",
        "                break\n",
        "        else:\n",
        "            primes.append(x)\n",
        "            x += 2\n",
        "    print(primes)\n",
        "    return len(primes)\n",
        "                "
      ],
      "execution_count": null,
      "outputs": []
    },
    {
      "cell_type": "code",
      "metadata": {
        "id": "nwA9Xx47aXAE",
        "colab_type": "code",
        "colab": {},
        "outputId": "de04a9e5-ead4-40a3-c4dd-ff8dafbc9db4"
      },
      "source": [
        "# Check\n",
        "count_primes(100)"
      ],
      "execution_count": null,
      "outputs": [
        {
          "output_type": "stream",
          "text": [
            "[2, 3, 5, 7, 11, 13, 17, 19, 23, 29, 31, 37, 41, 43, 47, 53, 59, 61, 67, 71, 73, 79, 83, 89, 97]\n"
          ],
          "name": "stdout"
        },
        {
          "output_type": "execute_result",
          "data": {
            "text/plain": [
              "25"
            ]
          },
          "metadata": {
            "tags": []
          },
          "execution_count": 41
        }
      ]
    },
    {
      "cell_type": "markdown",
      "metadata": {
        "id": "B-F22ICLaXAW",
        "colab_type": "text"
      },
      "source": [
        "BONUS: Here's a faster version that makes use of the prime numbers we're collecting as we go!"
      ]
    },
    {
      "cell_type": "code",
      "metadata": {
        "id": "ea3ekAwaaXAZ",
        "colab_type": "code",
        "colab": {}
      },
      "source": [
        "def count_primes2(num):\n",
        "    primes = [2]\n",
        "    x = 3\n",
        "    if num < 2:\n",
        "        return 0\n",
        "    while x <= num:\n",
        "        for y in primes:  # use the primes list!\n",
        "            if x%y == 0:\n",
        "                x += 2\n",
        "                break\n",
        "        else:\n",
        "            primes.append(x)\n",
        "            x += 2\n",
        "    print(primes)\n",
        "    return len(primes)"
      ],
      "execution_count": null,
      "outputs": []
    },
    {
      "cell_type": "code",
      "metadata": {
        "id": "ItB5sek7aXAo",
        "colab_type": "code",
        "colab": {},
        "outputId": "de548974-38de-471a-ceb5-1c06bbe4bc8d"
      },
      "source": [
        "count_primes2(100)"
      ],
      "execution_count": null,
      "outputs": [
        {
          "output_type": "stream",
          "text": [
            "[2, 3, 5, 7, 11, 13, 17, 19, 23, 29, 31, 37, 41, 43, 47, 53, 59, 61, 67, 71, 73, 79, 83, 89, 97]\n"
          ],
          "name": "stdout"
        },
        {
          "output_type": "execute_result",
          "data": {
            "text/plain": [
              "25"
            ]
          },
          "metadata": {
            "tags": []
          },
          "execution_count": 43
        }
      ]
    },
    {
      "cell_type": "markdown",
      "metadata": {
        "id": "cW2zhJL-aXAw",
        "colab_type": "text"
      },
      "source": [
        "-----\n",
        "### Just for fun, not a real problem :)\n",
        "\n",
        "#### PRINT BIG: Write a function that takes in a single letter, and returns a 5x5 representation of that letter\n",
        "    print_big('a')\n",
        "    \n",
        "    out:   *  \n",
        "          * *\n",
        "         *****\n",
        "         *   *\n",
        "         *   *\n",
        "HINT: Consider making a dictionary of possible patterns, and mapping the alphabet to specific 5-line combinations of patterns. <br>For purposes of this exercise, it's ok if your dictionary stops at \"E\"."
      ]
    },
    {
      "cell_type": "code",
      "metadata": {
        "id": "2kX8SeLpaXAw",
        "colab_type": "code",
        "colab": {}
      },
      "source": [
        "def print_big(letter):\n",
        "    patterns = {1:'  *  ',2:' * * ',3:'*   *',4:'*****',5:'**** ',6:'   * ',7:' *   ',8:'*   * ',9:'*    '}\n",
        "    alphabet = {'A':[1,2,4,3,3],'B':[5,3,5,3,5],'C':[4,9,9,9,4],'D':[5,3,3,3,5],'E':[4,9,4,9,4]}\n",
        "    for pattern in alphabet[letter.upper()]:\n",
        "        print(patterns[pattern])"
      ],
      "execution_count": null,
      "outputs": []
    },
    {
      "cell_type": "code",
      "metadata": {
        "id": "GVVffCqOaXA6",
        "colab_type": "code",
        "colab": {},
        "outputId": "b4143e18-cd2b-4238-a399-0efffc764082"
      },
      "source": [
        "print_big('a')"
      ],
      "execution_count": null,
      "outputs": [
        {
          "output_type": "stream",
          "text": [
            "  *  \n",
            " * * \n",
            "*****\n",
            "*   *\n",
            "*   *\n"
          ],
          "name": "stdout"
        }
      ]
    }
  ]
}