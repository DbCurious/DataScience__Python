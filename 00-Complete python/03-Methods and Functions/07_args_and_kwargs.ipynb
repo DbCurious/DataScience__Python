{
  "nbformat": 4,
  "nbformat_minor": 0,
  "metadata": {
    "kernelspec": {
      "display_name": "Python 3",
      "language": "python",
      "name": "python3"
    },
    "language_info": {
      "codemirror_mode": {
        "name": "ipython",
        "version": 3
      },
      "file_extension": ".py",
      "mimetype": "text/x-python",
      "name": "python",
      "nbconvert_exporter": "python",
      "pygments_lexer": "ipython3",
      "version": "3.6.2"
    },
    "colab": {
      "name": "07-args and kwargs.ipynb",
      "provenance": [],
      "collapsed_sections": []
    }
  },
  "cells": [
    {
      "cell_type": "markdown",
      "metadata": {
        "id": "Mw5UsR9i-csD",
        "colab_type": "text"
      },
      "source": [
        "# `*args` and `**kwargs`\n",
        "\n",
        "Work with Python long enough, and eventually you will encounter `*args` and `**kwargs`. These strange terms show up as parameters in function definitions. "
      ]
    },
    {
      "cell_type": "code",
      "metadata": {
        "id": "mE3zO6NX-csE",
        "colab_type": "code",
        "colab": {},
        "outputId": "fa362d9d-a85d-4595-a5fc-8b0dc3a4f842"
      },
      "source": [
        "def myfunc(a,b):\n",
        "    return sum((a,b))*.05\n",
        "\n",
        "myfunc(40,60)"
      ],
      "execution_count": null,
      "outputs": [
        {
          "output_type": "execute_result",
          "data": {
            "text/plain": [
              "5.0"
            ]
          },
          "metadata": {
            "tags": []
          },
          "execution_count": 1
        }
      ]
    },
    {
      "cell_type": "markdown",
      "metadata": {
        "id": "74dndaeP-csK",
        "colab_type": "text"
      },
      "source": [
        "This function returns 5% of the sum of **a** and **b**. In this example, **a** and **b** are *positional* arguments; that is, 40 is assigned to **a** because it is the first argument, and 60 to **b**. Notice also that to work with multiple positional arguments in the `sum()` function we had to pass them in as a tuple.\n",
        "\n",
        "What if we want to work with more than two numbers? One way would be to assign a *lot* of parameters, and give each one a default value."
      ]
    },
    {
      "cell_type": "code",
      "metadata": {
        "id": "lRBA64tg-csL",
        "colab_type": "code",
        "colab": {},
        "outputId": "c82da035-aa9f-4e5d-f6e5-8f2b59a036a5"
      },
      "source": [
        "def myfunc(a=0,b=0,c=0,d=0,e=0):\n",
        "    return sum((a,b,c,d,e))*.05\n",
        "\n",
        "myfunc(40,60,20)"
      ],
      "execution_count": null,
      "outputs": [
        {
          "output_type": "execute_result",
          "data": {
            "text/plain": [
              "6.0"
            ]
          },
          "metadata": {
            "tags": []
          },
          "execution_count": 2
        }
      ]
    },
    {
      "cell_type": "markdown",
      "metadata": {
        "id": "6qcjj9EV-csP",
        "colab_type": "text"
      },
      "source": [
        "Obviously this is not a very efficient solution, and that's where `*args` comes in.\n",
        "\n",
        "## `*args`\n",
        "\n",
        "When a function parameter starts with an asterisk, it allows for an *arbitrary number* of arguments, and the function takes them in as a tuple of values. Rewriting the above function:"
      ]
    },
    {
      "cell_type": "code",
      "metadata": {
        "id": "0W_tLE70-csQ",
        "colab_type": "code",
        "colab": {},
        "outputId": "d2ac13aa-634c-4654-d33c-dffbe7e01570"
      },
      "source": [
        "def myfunc(*args):\n",
        "    return sum(args)*.05\n",
        "\n",
        "myfunc(40,60,20)"
      ],
      "execution_count": null,
      "outputs": [
        {
          "output_type": "execute_result",
          "data": {
            "text/plain": [
              "6.0"
            ]
          },
          "metadata": {
            "tags": []
          },
          "execution_count": 3
        }
      ]
    },
    {
      "cell_type": "markdown",
      "metadata": {
        "id": "h-EzDntS-csV",
        "colab_type": "text"
      },
      "source": [
        "Notice how passing the keyword \"args\" into the `sum()` function did the same thing as a tuple of arguments.\n",
        "\n",
        "It is worth noting that the word \"args\" is itself arbitrary - any word will do so long as it's preceded by an asterisk. To demonstrate this:"
      ]
    },
    {
      "cell_type": "code",
      "metadata": {
        "id": "IgWRHO8n-csW",
        "colab_type": "code",
        "colab": {},
        "outputId": "8fddb241-fd70-48ea-8434-ac04d6994020"
      },
      "source": [
        "def myfunc(*spam):\n",
        "    return sum(spam)*.05\n",
        "\n",
        "myfunc(40,60,20)"
      ],
      "execution_count": null,
      "outputs": [
        {
          "output_type": "execute_result",
          "data": {
            "text/plain": [
              "6.0"
            ]
          },
          "metadata": {
            "tags": []
          },
          "execution_count": 4
        }
      ]
    },
    {
      "cell_type": "markdown",
      "metadata": {
        "id": "9H9jM3G5-csa",
        "colab_type": "text"
      },
      "source": [
        "## `**kwargs`\n",
        "\n",
        "Similarly, Python offers a way to handle arbitrary numbers of *keyworded* arguments. Instead of creating a tuple of values, `**kwargs` builds a dictionary of key/value pairs. For example:"
      ]
    },
    {
      "cell_type": "code",
      "metadata": {
        "id": "9WHkoMt2-csa",
        "colab_type": "code",
        "colab": {},
        "outputId": "149c5904-310e-46aa-e593-14d0967b6b46"
      },
      "source": [
        "def myfunc(**kwargs):\n",
        "    if 'fruit' in kwargs:\n",
        "        print(f\"My favorite fruit is {kwargs['fruit']}\")  # review String Formatting and f-strings if this syntax is unfamiliar\n",
        "    else:\n",
        "        print(\"I don't like fruit\")\n",
        "        \n",
        "myfunc(fruit='pineapple')"
      ],
      "execution_count": null,
      "outputs": [
        {
          "output_type": "stream",
          "text": [
            "My favorite fruit is pineapple\n"
          ],
          "name": "stdout"
        }
      ]
    },
    {
      "cell_type": "code",
      "metadata": {
        "id": "fjiUTNdZ-cse",
        "colab_type": "code",
        "colab": {},
        "outputId": "e66512fd-c9ba-476e-9742-faa853572201"
      },
      "source": [
        "myfunc()"
      ],
      "execution_count": null,
      "outputs": [
        {
          "output_type": "stream",
          "text": [
            "I don't like fruit\n"
          ],
          "name": "stdout"
        }
      ]
    },
    {
      "cell_type": "markdown",
      "metadata": {
        "id": "qNE1YMHd-csi",
        "colab_type": "text"
      },
      "source": [
        "## `*args` and `**kwargs` combined\n",
        "\n",
        "You can pass `*args` and `**kwargs` into the same function, but `*args` have to appear before `**kwargs`"
      ]
    },
    {
      "cell_type": "code",
      "metadata": {
        "id": "b0NRCFt1-csj",
        "colab_type": "code",
        "colab": {},
        "outputId": "6dfe09f4-da52-4c0b-d98a-64f752f52ec8"
      },
      "source": [
        "def myfunc(*args, **kwargs):\n",
        "    if 'fruit' and 'juice' in kwargs:\n",
        "        print(f\"I like {' and '.join(args)} and my favorite fruit is {kwargs['fruit']}\")\n",
        "        print(f\"May I have some {kwargs['juice']} juice?\")\n",
        "    else:\n",
        "        pass\n",
        "        \n",
        "myfunc('eggs','spam',fruit='cherries',juice='orange')"
      ],
      "execution_count": null,
      "outputs": [
        {
          "output_type": "stream",
          "text": [
            "I like eggs and spam and my favorite fruit is cherries\n",
            "May I have some orange juice?\n"
          ],
          "name": "stdout"
        }
      ]
    },
    {
      "cell_type": "markdown",
      "metadata": {
        "id": "CK1YgL0T-csm",
        "colab_type": "text"
      },
      "source": [
        "Placing keyworded arguments ahead of positional arguments raises an exception:"
      ]
    },
    {
      "cell_type": "code",
      "metadata": {
        "id": "LSRfxP9R-csn",
        "colab_type": "code",
        "colab": {},
        "outputId": "13f85f69-0090-4360-d549-c93bb2446f51"
      },
      "source": [
        "myfunc(fruit='cherries',juice='orange','eggs','spam')"
      ],
      "execution_count": null,
      "outputs": [
        {
          "output_type": "error",
          "ename": "SyntaxError",
          "evalue": "positional argument follows keyword argument (<ipython-input-8-fc6ff65addcc>, line 1)",
          "traceback": [
            "\u001b[1;36m  File \u001b[1;32m\"<ipython-input-8-fc6ff65addcc>\"\u001b[1;36m, line \u001b[1;32m1\u001b[0m\n\u001b[1;33m    myfunc(fruit='cherries',juice='orange','eggs','spam')\u001b[0m\n\u001b[1;37m                                          ^\u001b[0m\n\u001b[1;31mSyntaxError\u001b[0m\u001b[1;31m:\u001b[0m positional argument follows keyword argument\n"
          ]
        }
      ]
    },
    {
      "cell_type": "markdown",
      "metadata": {
        "id": "WWUsP9oR-csq",
        "colab_type": "text"
      },
      "source": [
        "As with \"args\", you can use any name you'd like for keyworded arguments - \"kwargs\" is just a popular convention.\n"
      ]
    }
  ]
}