{
  "nbformat": 4,
  "nbformat_minor": 0,
  "metadata": {
    "kernelspec": {
      "display_name": "Python 3",
      "language": "python",
      "name": "python3"
    },
    "language_info": {
      "codemirror_mode": {
        "name": "ipython",
        "version": 3
      },
      "file_extension": ".py",
      "mimetype": "text/x-python",
      "name": "python",
      "nbconvert_exporter": "python",
      "pygments_lexer": "ipython3",
      "version": "3.6.1"
    },
    "colab": {
      "name": "05-Lambda-Expressions-Map-and-Filter.ipynb",
      "provenance": [],
      "collapsed_sections": []
    }
  },
  "cells": [
    {
      "cell_type": "markdown",
      "metadata": {
        "id": "QXpXE7Y1fkVP",
        "colab_type": "text"
      },
      "source": [
        "# Lambda Expressions, Map, and Filter\n",
        "\n"
      ]
    },
    {
      "cell_type": "markdown",
      "metadata": {
        "id": "uvXqzSwyfkVR",
        "colab_type": "text"
      },
      "source": [
        "## map function\n",
        "\n",
        "The **map** function allows you to \"map\" a function to an iterable object."
      ]
    },
    {
      "cell_type": "code",
      "metadata": {
        "id": "M9UDOFJMfkVS",
        "colab_type": "code",
        "colab": {}
      },
      "source": [
        "def square(num):\n",
        "    return num**2"
      ],
      "execution_count": null,
      "outputs": []
    },
    {
      "cell_type": "code",
      "metadata": {
        "id": "2Ow71Rj_fkVb",
        "colab_type": "code",
        "colab": {}
      },
      "source": [
        "my_nums = [1,2,3,4,5]"
      ],
      "execution_count": null,
      "outputs": []
    },
    {
      "cell_type": "code",
      "metadata": {
        "id": "RIxIxj2TfkVm",
        "colab_type": "code",
        "colab": {},
        "outputId": "109a3ffd-2d81-4f29-fd8a-4f8b527891b7"
      },
      "source": [
        "map(square,my_nums)"
      ],
      "execution_count": null,
      "outputs": [
        {
          "output_type": "execute_result",
          "data": {
            "text/plain": [
              "<map at 0x205baec21d0>"
            ]
          },
          "metadata": {
            "tags": []
          },
          "execution_count": 5
        }
      ]
    },
    {
      "cell_type": "code",
      "metadata": {
        "id": "nIAOmX_cfkVr",
        "colab_type": "code",
        "colab": {},
        "outputId": "58b04c7c-f401-4fc3-de93-3136c13ed51c"
      },
      "source": [
        "# To get the results, either iterate through map() \n",
        "# or just cast to a list\n",
        "list(map(square,my_nums))"
      ],
      "execution_count": null,
      "outputs": [
        {
          "output_type": "execute_result",
          "data": {
            "text/plain": [
              "[1, 4, 9, 16, 25]"
            ]
          },
          "metadata": {
            "tags": []
          },
          "execution_count": 7
        }
      ]
    },
    {
      "cell_type": "markdown",
      "metadata": {
        "id": "vozzWJW6fkVu",
        "colab_type": "text"
      },
      "source": [
        "The functions can also be more complex"
      ]
    },
    {
      "cell_type": "code",
      "metadata": {
        "id": "7dH42SvrfkVv",
        "colab_type": "code",
        "colab": {}
      },
      "source": [
        "def splicer(mystring):\n",
        "    if len(mystring) % 2 == 0:\n",
        "        return 'even'\n",
        "    else:\n",
        "        return mystring[0]"
      ],
      "execution_count": null,
      "outputs": []
    },
    {
      "cell_type": "code",
      "metadata": {
        "id": "Fy-Rh5TqfkVz",
        "colab_type": "code",
        "colab": {}
      },
      "source": [
        "mynames = ['John','Cindy','Sarah','Kelly','Mike']"
      ],
      "execution_count": null,
      "outputs": []
    },
    {
      "cell_type": "code",
      "metadata": {
        "id": "LNQitm20fkV4",
        "colab_type": "code",
        "colab": {},
        "outputId": "2a1f8464-775e-4e21-d357-fa0323bd2571"
      },
      "source": [
        "list(map(splicer,mynames))"
      ],
      "execution_count": null,
      "outputs": [
        {
          "output_type": "execute_result",
          "data": {
            "text/plain": [
              "['even', 'C', 'S', 'K', 'even']"
            ]
          },
          "metadata": {
            "tags": []
          },
          "execution_count": 10
        }
      ]
    },
    {
      "cell_type": "markdown",
      "metadata": {
        "id": "L42AoW3MfkV-",
        "colab_type": "text"
      },
      "source": [
        "## filter function\n",
        "\n",
        "The filter function returns an iterator yielding those items of iterable for which function(item)\n",
        "is true. Meaning you need to filter by a function that returns either True or False. Then passing that into filter (along with your iterable) and you will get back only the results that would return True when passed to the function."
      ]
    },
    {
      "cell_type": "code",
      "metadata": {
        "id": "RPD7hxmSfkV-",
        "colab_type": "code",
        "colab": {}
      },
      "source": [
        "def check_even(num):\n",
        "    return num % 2 == 0 "
      ],
      "execution_count": null,
      "outputs": []
    },
    {
      "cell_type": "code",
      "metadata": {
        "id": "5AN18lEGfkWC",
        "colab_type": "code",
        "colab": {}
      },
      "source": [
        "nums = [0,1,2,3,4,5,6,7,8,9,10]"
      ],
      "execution_count": null,
      "outputs": []
    },
    {
      "cell_type": "code",
      "metadata": {
        "id": "oZGvXjjQfkWF",
        "colab_type": "code",
        "colab": {},
        "outputId": "b3dd19eb-0260-4a6c-ed5f-c2e5d3a4481c"
      },
      "source": [
        "filter(check_even,nums)"
      ],
      "execution_count": null,
      "outputs": [
        {
          "output_type": "execute_result",
          "data": {
            "text/plain": [
              "<filter at 0x205baed4710>"
            ]
          },
          "metadata": {
            "tags": []
          },
          "execution_count": 15
        }
      ]
    },
    {
      "cell_type": "code",
      "metadata": {
        "id": "fo82EcyLfkWJ",
        "colab_type": "code",
        "colab": {},
        "outputId": "4b989901-4a64-4e00-c421-0954f939b92d"
      },
      "source": [
        "list(filter(check_even,nums))"
      ],
      "execution_count": null,
      "outputs": [
        {
          "output_type": "execute_result",
          "data": {
            "text/plain": [
              "[0, 2, 4, 6, 8, 10]"
            ]
          },
          "metadata": {
            "tags": []
          },
          "execution_count": 16
        }
      ]
    },
    {
      "cell_type": "markdown",
      "metadata": {
        "collapsed": true,
        "id": "PnE7X5uhfkWO",
        "colab_type": "text"
      },
      "source": [
        "## lambda expression\n",
        "\n",
        "One of Pythons most useful (and for beginners, confusing) tools is the lambda expression. lambda expressions allow us to create \"anonymous\" functions. This basically means we can quickly make ad-hoc functions without needing to properly define a function using def.\n",
        "\n",
        "Function objects returned by running lambda expressions work exactly the same as those created and assigned by defs. There is key difference that makes lambda useful in specialized roles:\n",
        "\n",
        "**lambda's body is a single expression, not a block of statements.**\n",
        "\n",
        "* The lambda's body is similar to what we would put in a def body's return statement. We simply type the result as an expression instead of explicitly returning it. Because it is limited to an expression, a lambda is less general that a def. We can only squeeze design, to limit program nesting. lambda is designed for coding simple functions, and def handles the larger tasks."
      ]
    },
    {
      "cell_type": "code",
      "metadata": {
        "id": "XmDISMF0fkWP",
        "colab_type": "code",
        "colab": {}
      },
      "source": [
        "def square(num):\n",
        "    result = num**2\n",
        "    return result"
      ],
      "execution_count": null,
      "outputs": []
    },
    {
      "cell_type": "code",
      "metadata": {
        "id": "hpQRG4sbfkWT",
        "colab_type": "code",
        "colab": {},
        "outputId": "fcb72815-c720-4d03-dcf4-5fe4a97dff2c"
      },
      "source": [
        "square(2)"
      ],
      "execution_count": null,
      "outputs": [
        {
          "output_type": "execute_result",
          "data": {
            "text/plain": [
              "4"
            ]
          },
          "metadata": {
            "tags": []
          },
          "execution_count": 18
        }
      ]
    },
    {
      "cell_type": "markdown",
      "metadata": {
        "id": "rwBo6hRPfkWX",
        "colab_type": "text"
      },
      "source": [
        "We could simplify it:"
      ]
    },
    {
      "cell_type": "code",
      "metadata": {
        "id": "_4tDtoLtfkWY",
        "colab_type": "code",
        "colab": {}
      },
      "source": [
        "def square(num):\n",
        "    return num**2"
      ],
      "execution_count": null,
      "outputs": []
    },
    {
      "cell_type": "code",
      "metadata": {
        "id": "VXpdEZ9JfkWb",
        "colab_type": "code",
        "colab": {},
        "outputId": "e9bd3285-e386-420d-9a1a-3091af89febb"
      },
      "source": [
        "square(2)"
      ],
      "execution_count": null,
      "outputs": [
        {
          "output_type": "execute_result",
          "data": {
            "text/plain": [
              "4"
            ]
          },
          "metadata": {
            "tags": []
          },
          "execution_count": 20
        }
      ]
    },
    {
      "cell_type": "markdown",
      "metadata": {
        "id": "glwl2m6EfkWe",
        "colab_type": "text"
      },
      "source": [
        "We could actually even write this all on one line."
      ]
    },
    {
      "cell_type": "code",
      "metadata": {
        "id": "p0NMM3GZfkWf",
        "colab_type": "code",
        "colab": {}
      },
      "source": [
        "def square(num): return num**2"
      ],
      "execution_count": null,
      "outputs": []
    },
    {
      "cell_type": "code",
      "metadata": {
        "id": "wXc_lRlyfkWk",
        "colab_type": "code",
        "colab": {},
        "outputId": "2cb05e54-a1d2-46f7-a4c9-c6e6a53e9b45"
      },
      "source": [
        "square(2)"
      ],
      "execution_count": null,
      "outputs": [
        {
          "output_type": "execute_result",
          "data": {
            "text/plain": [
              "4"
            ]
          },
          "metadata": {
            "tags": []
          },
          "execution_count": 22
        }
      ]
    },
    {
      "cell_type": "markdown",
      "metadata": {
        "id": "Gp71MB9kfkWo",
        "colab_type": "text"
      },
      "source": [
        "This is the form a function that a lambda expression intends to replicate. A lambda expression can then be written as:"
      ]
    },
    {
      "cell_type": "code",
      "metadata": {
        "id": "Dmh4TkAEfkWp",
        "colab_type": "code",
        "colab": {},
        "outputId": "5f4ec64c-503a-4fa3-92ed-dbde1ea77950"
      },
      "source": [
        "lambda num: num ** 2"
      ],
      "execution_count": null,
      "outputs": [
        {
          "output_type": "execute_result",
          "data": {
            "text/plain": [
              "<function __main__.<lambda>>"
            ]
          },
          "metadata": {
            "tags": []
          },
          "execution_count": 23
        }
      ]
    },
    {
      "cell_type": "code",
      "metadata": {
        "id": "on5NZ0E_fkWs",
        "colab_type": "code",
        "colab": {}
      },
      "source": [
        "# You wouldn't usually assign a name to a lambda expression, this is just for demonstration!\n",
        "square = lambda num: num **2"
      ],
      "execution_count": null,
      "outputs": []
    },
    {
      "cell_type": "code",
      "metadata": {
        "id": "RqFXUaYAfkWu",
        "colab_type": "code",
        "colab": {},
        "outputId": "23e77403-831b-4b18-9747-143d8d400d8a"
      },
      "source": [
        "square(2)"
      ],
      "execution_count": null,
      "outputs": [
        {
          "output_type": "execute_result",
          "data": {
            "text/plain": [
              "4"
            ]
          },
          "metadata": {
            "tags": []
          },
          "execution_count": 26
        }
      ]
    },
    {
      "cell_type": "markdown",
      "metadata": {
        "id": "SC6IfTUZfkWx",
        "colab_type": "text"
      },
      "source": [
        "So why would use this? Many function calls need a function passed in, such as map and filter. Often you only need to use the function you are passing in once, so instead of formally defining it, you just use the lambda expression, repeat some of the examples from above with a lambda expression"
      ]
    },
    {
      "cell_type": "code",
      "metadata": {
        "id": "R1UOrIPCfkWy",
        "colab_type": "code",
        "colab": {},
        "outputId": "40e18de1-7e89-45ec-fca1-63e0e00384e2"
      },
      "source": [
        "list(map(lambda num: num ** 2, my_nums))"
      ],
      "execution_count": null,
      "outputs": [
        {
          "output_type": "execute_result",
          "data": {
            "text/plain": [
              "[1, 4, 9, 16, 25]"
            ]
          },
          "metadata": {
            "tags": []
          },
          "execution_count": 29
        }
      ]
    },
    {
      "cell_type": "code",
      "metadata": {
        "id": "TFHgDEYCfkW0",
        "colab_type": "code",
        "colab": {},
        "outputId": "2ec848a7-9a6d-4e01-d6fe-396ee407e559"
      },
      "source": [
        "list(filter(lambda n: n % 2 == 0,nums))"
      ],
      "execution_count": null,
      "outputs": [
        {
          "output_type": "execute_result",
          "data": {
            "text/plain": [
              "[0, 2, 4, 6, 8, 10]"
            ]
          },
          "metadata": {
            "tags": []
          },
          "execution_count": 30
        }
      ]
    },
    {
      "cell_type": "markdown",
      "metadata": {
        "id": "dv6SmSvPfkW4",
        "colab_type": "text"
      },
      "source": [
        "Here are a few more examples, keep in mind the more comples a function is, the harder it is to translate into a lambda expression, meaning sometimes its just easier (and often the only way) to create the def keyword function."
      ]
    },
    {
      "cell_type": "markdown",
      "metadata": {
        "id": "arkQ-Nq3fkW7",
        "colab_type": "text"
      },
      "source": [
        "** Lambda expression for grabbing the first character of a string: **"
      ]
    },
    {
      "cell_type": "code",
      "metadata": {
        "id": "XVWqmRKXfkW8",
        "colab_type": "code",
        "colab": {},
        "outputId": "a8599944-79a7-4295-a258-7b5c97346d64"
      },
      "source": [
        "lambda s: s[0]"
      ],
      "execution_count": null,
      "outputs": [
        {
          "output_type": "execute_result",
          "data": {
            "text/plain": [
              "<function __main__.<lambda>>"
            ]
          },
          "metadata": {
            "tags": []
          },
          "execution_count": 31
        }
      ]
    },
    {
      "cell_type": "markdown",
      "metadata": {
        "id": "o9zIMBuFfkXB",
        "colab_type": "text"
      },
      "source": [
        "** Lambda expression for reversing a string: **"
      ]
    },
    {
      "cell_type": "code",
      "metadata": {
        "id": "LvxJ265IfkXB",
        "colab_type": "code",
        "colab": {},
        "outputId": "e75ddd11-12a2-4b04-beec-28e195184ae2"
      },
      "source": [
        "lambda s: s[::-1]"
      ],
      "execution_count": null,
      "outputs": [
        {
          "output_type": "execute_result",
          "data": {
            "text/plain": [
              "<function __main__.<lambda>>"
            ]
          },
          "metadata": {
            "tags": []
          },
          "execution_count": 32
        }
      ]
    },
    {
      "cell_type": "markdown",
      "metadata": {
        "id": "QlHikr7QfkXE",
        "colab_type": "text"
      },
      "source": [
        "You can even pass in multiple arguments into a lambda expression. Again, keep in mind that not every function can be translated into a lambda expression."
      ]
    },
    {
      "cell_type": "code",
      "metadata": {
        "id": "q4Jh8toWfkXE",
        "colab_type": "code",
        "colab": {},
        "outputId": "4e6b507b-5dc2-4a47-c2dd-bd7b78bd5dad"
      },
      "source": [
        "lambda x,y : x + y"
      ],
      "execution_count": null,
      "outputs": [
        {
          "output_type": "execute_result",
          "data": {
            "text/plain": [
              "<function __main__.<lambda>>"
            ]
          },
          "metadata": {
            "tags": []
          },
          "execution_count": 34
        }
      ]
    },
    {
      "cell_type": "markdown",
      "metadata": {
        "id": "XdPntvkrfkXH",
        "colab_type": "text"
      },
      "source": [
        "You will find yourself using lambda expressions often with certain non-built-in libraries, for example the pandas library for data analysis works very well with lambda expressions."
      ]
    }
  ]
}