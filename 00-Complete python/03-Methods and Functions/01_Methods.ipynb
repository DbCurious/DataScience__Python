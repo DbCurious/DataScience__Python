{
  "nbformat": 4,
  "nbformat_minor": 0,
  "metadata": {
    "kernelspec": {
      "display_name": "Python 3",
      "language": "python",
      "name": "python3"
    },
    "language_info": {
      "codemirror_mode": {
        "name": "ipython",
        "version": 3
      },
      "file_extension": ".py",
      "mimetype": "text/x-python",
      "name": "python",
      "nbconvert_exporter": "python",
      "pygments_lexer": "ipython3",
      "version": "3.6.2"
    },
    "colab": {
      "name": "01-Methods.ipynb",
      "provenance": [],
      "collapsed_sections": []
    }
  },
  "cells": [
    {
      "cell_type": "markdown",
      "metadata": {
        "id": "ZKWIsX1Xz3EY",
        "colab_type": "text"
      },
      "source": [
        "# Methods\n",
        "\n",
        "Methods are essentially functions built into objects.\n",
        "\n",
        "Methods perform specific actions on an object and can also take arguments, just like a function. This lecture will serve as just a brief introduction to methods and get you thinking about overall design methods that we will touch back upon when we reach OOP in the course.\n",
        "\n",
        "Methods are in the form:\n",
        "\n",
        "    object.method(arg1,arg2,etc...)\n",
        "    \n"
      ]
    },
    {
      "cell_type": "code",
      "metadata": {
        "id": "N9by2kvLz3Ed",
        "colab_type": "code",
        "colab": {}
      },
      "source": [
        "# Create a simple list\n",
        "lst = [1,2,3,4,5]"
      ],
      "execution_count": null,
      "outputs": []
    },
    {
      "cell_type": "markdown",
      "metadata": {
        "id": "zNahAtgTz3Ez",
        "colab_type": "text"
      },
      "source": [
        "Fortunately, with iPython and the Jupyter Notebook we can quickly see all the possible methods using the tab key. The methods for a list are:\n",
        "\n",
        "* append\n",
        "* count\n",
        "* extend\n",
        "* insert\n",
        "* pop\n",
        "* remove\n",
        "* reverse\n",
        "* sort\n"
      ]
    },
    {
      "cell_type": "markdown",
      "metadata": {
        "id": "8XrEr_1yz3E1",
        "colab_type": "text"
      },
      "source": [
        "append() allows us to add elements to the end of a list:"
      ]
    },
    {
      "cell_type": "code",
      "metadata": {
        "id": "l7-x-uvmz3E4",
        "colab_type": "code",
        "colab": {}
      },
      "source": [
        "lst.append(6)"
      ],
      "execution_count": null,
      "outputs": []
    },
    {
      "cell_type": "code",
      "metadata": {
        "id": "Cjs8OCgLz3FG",
        "colab_type": "code",
        "colab": {},
        "outputId": "461d6ca8-653c-4255-b9b9-587b4070ca06"
      },
      "source": [
        "lst"
      ],
      "execution_count": null,
      "outputs": [
        {
          "output_type": "execute_result",
          "data": {
            "text/plain": [
              "[1, 2, 3, 4, 5, 6]"
            ]
          },
          "metadata": {
            "tags": []
          },
          "execution_count": 3
        }
      ]
    },
    {
      "cell_type": "markdown",
      "metadata": {
        "id": "RT1D9z5yz3FW",
        "colab_type": "text"
      },
      "source": [
        "Great! Now how about count()? The count() method will count the number of occurrences of an element in a list."
      ]
    },
    {
      "cell_type": "code",
      "metadata": {
        "id": "X4Ht8c5mz3FY",
        "colab_type": "code",
        "colab": {},
        "outputId": "3a6fe75e-38d4-42f0-ff29-67d04fc71b4b"
      },
      "source": [
        "# Check how many times 2 shows up in the list\n",
        "lst.count(2)"
      ],
      "execution_count": null,
      "outputs": [
        {
          "output_type": "execute_result",
          "data": {
            "text/plain": [
              "1"
            ]
          },
          "metadata": {
            "tags": []
          },
          "execution_count": 4
        }
      ]
    },
    {
      "cell_type": "markdown",
      "metadata": {
        "id": "W0XjQvcfz3Fp",
        "colab_type": "text"
      },
      "source": [
        "You can always use Shift+Tab in the Jupyter Notebook to get more help about the method. In general Python you can use the help() function: "
      ]
    },
    {
      "cell_type": "code",
      "metadata": {
        "id": "peP2VFccz3Fr",
        "colab_type": "code",
        "colab": {},
        "outputId": "4516af95-10af-4479-db14-bc3f7457c101"
      },
      "source": [
        "help(lst.count)"
      ],
      "execution_count": null,
      "outputs": [
        {
          "output_type": "stream",
          "text": [
            "Help on built-in function count:\n",
            "\n",
            "count(...) method of builtins.list instance\n",
            "    L.count(value) -> integer -- return number of occurrences of value\n",
            "\n"
          ],
          "name": "stdout"
        }
      ]
    }
  ]
}