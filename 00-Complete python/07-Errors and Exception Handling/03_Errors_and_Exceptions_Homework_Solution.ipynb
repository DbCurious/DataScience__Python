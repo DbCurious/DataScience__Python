{
  "nbformat": 4,
  "nbformat_minor": 0,
  "metadata": {
    "kernelspec": {
      "display_name": "Python 3",
      "language": "python",
      "name": "python3"
    },
    "language_info": {
      "codemirror_mode": {
        "name": "ipython",
        "version": 3
      },
      "file_extension": ".py",
      "mimetype": "text/x-python",
      "name": "python",
      "nbconvert_exporter": "python",
      "pygments_lexer": "ipython3",
      "version": "3.6.2"
    },
    "colab": {
      "name": "03-Errors and Exceptions Homework - Solution.ipynb",
      "provenance": [],
      "collapsed_sections": []
    }
  },
  "cells": [
    {
      "cell_type": "markdown",
      "metadata": {
        "id": "wXX0eZ8OWzdx"
      },
      "source": [
        "# Errors and Exceptions Homework - Solution"
      ]
    },
    {
      "cell_type": "markdown",
      "metadata": {
        "id": "0sjrM2I9Wzd2"
      },
      "source": [
        "### Problem 1\n",
        "Handle the exception thrown by the code below by using <code>try</code> and <code>except</code> blocks."
      ]
    },
    {
      "cell_type": "code",
      "metadata": {
        "id": "dRp4j9NtWzd4",
        "outputId": "86d6e64b-9133-464c-f368-c1e90eacc0a0"
      },
      "source": [
        "try:\n",
        "    for i in ['a','b','c']:\n",
        "        print(i**2)\n",
        "except:\n",
        "    print(\"An error occurred!\")"
      ],
      "execution_count": null,
      "outputs": [
        {
          "output_type": "stream",
          "text": [
            "An error occurred!\n"
          ],
          "name": "stdout"
        }
      ]
    },
    {
      "cell_type": "markdown",
      "metadata": {
        "id": "ZTzhFZ6xWzeQ"
      },
      "source": [
        "### Problem 2\n",
        "Handle the exception thrown by the code below by using <code>try</code> and <code>except</code> blocks. Then use a <code>finally</code> block to print 'All Done.'"
      ]
    },
    {
      "cell_type": "code",
      "metadata": {
        "id": "tyjttPPFWzeT",
        "outputId": "542e8acf-d523-4130-dbfc-11e66fbfb54c"
      },
      "source": [
        "x = 5\n",
        "y = 0\n",
        "try:\n",
        "    z = x/y\n",
        "except ZeroDivisionError:\n",
        "    print(\"Can't divide by Zero!\")\n",
        "finally:\n",
        "    print('All Done!')"
      ],
      "execution_count": null,
      "outputs": [
        {
          "output_type": "stream",
          "text": [
            "Can't divide by Zero!\n",
            "All Done!\n"
          ],
          "name": "stdout"
        }
      ]
    },
    {
      "cell_type": "markdown",
      "metadata": {
        "id": "l9-X9HuxWzek"
      },
      "source": [
        "### Problem 3\n",
        "Write a function that asks for an integer and prints the square of it. Use a <code>while</code> loop with a <code>try</code>, <code>except</code>, <code>else</code> block to account for incorrect inputs."
      ]
    },
    {
      "cell_type": "code",
      "metadata": {
        "id": "cfdD89oWWzem"
      },
      "source": [
        "def ask():\n",
        "    \n",
        "    while True:\n",
        "        try:\n",
        "            n = int(input('Input an integer: '))\n",
        "        except:\n",
        "            print('An error occurred! Please try again!')\n",
        "            continue\n",
        "        else:\n",
        "            break\n",
        "            \n",
        "        \n",
        "    print('Thank you, your number squared is: ',n**2)"
      ],
      "execution_count": null,
      "outputs": []
    },
    {
      "cell_type": "code",
      "metadata": {
        "id": "om3h_4CuWzey",
        "outputId": "a01403e5-337b-4e29-a296-506f7f1ed97d"
      },
      "source": [
        "ask()"
      ],
      "execution_count": null,
      "outputs": [
        {
          "output_type": "stream",
          "text": [
            "Input an integer: null\n",
            "An error occurred! Please try again!\n",
            "Input an integer: 2\n",
            "Thank you, your number squared is:  4\n"
          ],
          "name": "stdout"
        }
      ]
    }
  ]
}