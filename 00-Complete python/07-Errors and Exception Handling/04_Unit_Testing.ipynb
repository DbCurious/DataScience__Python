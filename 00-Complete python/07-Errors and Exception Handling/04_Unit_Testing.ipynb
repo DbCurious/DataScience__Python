{
  "nbformat": 4,
  "nbformat_minor": 0,
  "metadata": {
    "kernelspec": {
      "display_name": "Python 3",
      "language": "python",
      "name": "python3"
    },
    "language_info": {
      "codemirror_mode": {
        "name": "ipython",
        "version": 3
      },
      "file_extension": ".py",
      "mimetype": "text/x-python",
      "name": "python",
      "nbconvert_exporter": "python",
      "pygments_lexer": "ipython3",
      "version": "3.6.2"
    },
    "colab": {
      "name": "04-Unit Testing.ipynb",
      "provenance": [],
      "collapsed_sections": []
    }
  },
  "cells": [
    {
      "cell_type": "markdown",
      "metadata": {
        "id": "TDM4LstMjAla"
      },
      "source": [
        "# Unit Testing\n",
        "\n",
        "Equally important as writing good code is writing good tests.\n",
        "\n",
        "## Testing tools\n",
        "\n",
        "There are dozens of good testing libraries out there. Most are third-party packages that require an install, such as:\n",
        "\n",
        "* [pylint](https://www.pylint.org/)\n",
        "* [pyflakes](https://pypi.python.org/pypi/pyflakes/)\n",
        "* [pep8](https://pypi.python.org/pypi/pep8)\n",
        "\n",
        "These are simple tools that merely look at your code, and they'll tell you if there are style issues or simple problems like variable names being called before assignment.\n",
        "\n",
        "A far better way to test your code is to write tests that send sample data to your program, and compare what's returned to a desired outcome.<br>Two such tools are available from the standard library:\n",
        "\n",
        "* [unittest](https://docs.python.org/3/library/unittest.html)\n",
        "* [doctest](https://docs.python.org/3/library/doctest.html)\n",
        "\n",
        "Look at pylint first, then we'll do some heavier lifting with unittest.\n"
      ]
    },
    {
      "cell_type": "markdown",
      "metadata": {
        "id": "rDfQoRqVjAld"
      },
      "source": [
        "## `pylint`\n",
        "\n",
        "`pylint` tests for style as well as some very basic program logic."
      ]
    },
    {
      "cell_type": "markdown",
      "metadata": {
        "id": "Mfej22-ojAle"
      },
      "source": [
        "First, if you don't have it already (and you probably do, as it's part of the Anaconda distribution), you should install `pylint`.<br>Once that's done feel free to comment out the cell, you won't need it anymore."
      ]
    },
    {
      "cell_type": "code",
      "metadata": {
        "id": "zA4_4LMMjAlg"
      },
      "source": [
        "! pip install pylint"
      ],
      "execution_count": null,
      "outputs": []
    },
    {
      "cell_type": "markdown",
      "metadata": {
        "id": "2FSZnXcAjAlo"
      },
      "source": [
        "Save a very simple script:"
      ]
    },
    {
      "cell_type": "code",
      "metadata": {
        "id": "zcZsGTAfjAlp",
        "outputId": "20135f3e-bce1-4795-8410-f931412f41e7"
      },
      "source": [
        "%%writefile simple1.py\n",
        "a = 1\n",
        "b = 2\n",
        "print(a)\n",
        "print(B)"
      ],
      "execution_count": null,
      "outputs": [
        {
          "output_type": "stream",
          "text": [
            "Overwriting simple1.py\n"
          ],
          "name": "stdout"
        }
      ]
    },
    {
      "cell_type": "markdown",
      "metadata": {
        "id": "3xmlIh1gjAlw"
      },
      "source": [
        "Now check it using pylint"
      ]
    },
    {
      "cell_type": "code",
      "metadata": {
        "id": "P883I2NIjAlw",
        "outputId": "06c1e915-590e-42d2-b03b-39dd3620e6f7"
      },
      "source": [
        "! pylint simple1.py"
      ],
      "execution_count": null,
      "outputs": [
        {
          "output_type": "stream",
          "text": [
            "************* Module simple1\n",
            "C:  4, 0: Final newline missing (missing-final-newline)\n",
            "C:  1, 0: Missing module docstring (missing-docstring)\n",
            "C:  1, 0: Invalid constant name \"a\" (invalid-name)\n",
            "C:  2, 0: Invalid constant name \"b\" (invalid-name)\n",
            "E:  4, 6: Undefined variable 'B' (undefined-variable)\n",
            "\n",
            "---------------------------------------------------------------------\n",
            "\n",
            "Your code has been rated at -12.50/10 (previous run: 8.33/10, -20.83)\n",
            "\n",
            "\n",
            "\n"
          ],
          "name": "stdout"
        },
        {
          "output_type": "stream",
          "text": [
            "No config file found, using default configuration\n"
          ],
          "name": "stderr"
        }
      ]
    },
    {
      "cell_type": "markdown",
      "metadata": {
        "id": "NTYS8aDljAl1"
      },
      "source": [
        "Pylint first lists some styling issues - it would like to see an extra newline at the end, modules and function definitions should have descriptive docstrings, and single characters are a poor choice for variable names.\n",
        "\n",
        "More importantly, however, pylint identified an error in the program - a variable called before assignment. This needs fixing.\n",
        "\n",
        "Note that pylint scored our program a negative 12.5 out of 10, try to improve that!"
      ]
    },
    {
      "cell_type": "code",
      "metadata": {
        "id": "4FcpRL7JjAl2",
        "outputId": "85886e70-7783-45a5-ddfd-34ec095c9223"
      },
      "source": [
        "%%writefile simple1.py\n",
        "\"\"\"\n",
        "A very simple script.\n",
        "\"\"\"\n",
        "\n",
        "def myfunc():\n",
        "    \"\"\"\n",
        "    An extremely simple function.\n",
        "    \"\"\"\n",
        "    first = 1\n",
        "    second = 2\n",
        "    print(first)\n",
        "    print(second)\n",
        "\n",
        "myfunc()"
      ],
      "execution_count": null,
      "outputs": [
        {
          "output_type": "stream",
          "text": [
            "Overwriting simple1.py\n"
          ],
          "name": "stdout"
        }
      ]
    },
    {
      "cell_type": "code",
      "metadata": {
        "id": "saViefTmjAl5",
        "outputId": "2f870db6-610e-4289-d5c2-3f0cffe52d0d"
      },
      "source": [
        "! pylint simple1.py"
      ],
      "execution_count": null,
      "outputs": [
        {
          "output_type": "stream",
          "text": [
            "************* Module simple1\n",
            "C: 14, 0: Final newline missing (missing-final-newline)\n",
            "\n",
            "---------------------------------------------------------------------\n",
            "\n",
            "Your code has been rated at 8.33/10 (previous run: -12.50/10, +20.83)\n",
            "\n",
            "\n",
            "\n"
          ],
          "name": "stdout"
        },
        {
          "output_type": "stream",
          "text": [
            "No config file found, using default configuration\n"
          ],
          "name": "stderr"
        }
      ]
    },
    {
      "cell_type": "markdown",
      "metadata": {
        "id": "KDS8dy7yjAl8"
      },
      "source": [
        "Much better! Our score climbed to 8.33 out of 10. Unfortunately, the final newline has to do with how jupyter writes to a file, and there's not much we can do about that here. Still, pylint helped us troubleshoot some of our problems. But what if the problem was more complex?"
      ]
    },
    {
      "cell_type": "code",
      "metadata": {
        "id": "eRedKRXCjAl9",
        "outputId": "e194f5c8-c9c6-4f2f-8e66-52fc744dd76c"
      },
      "source": [
        "%%writefile simple2.py\n",
        "\"\"\"\n",
        "A very simple script.\n",
        "\"\"\"\n",
        "\n",
        "def myfunc():\n",
        "    \"\"\"\n",
        "    An extremely simple function.\n",
        "    \"\"\"\n",
        "    first = 1\n",
        "    second = 2\n",
        "    print(first)\n",
        "    print('second')\n",
        "\n",
        "myfunc()"
      ],
      "execution_count": null,
      "outputs": [
        {
          "output_type": "stream",
          "text": [
            "Overwriting simple2.py\n"
          ],
          "name": "stdout"
        }
      ]
    },
    {
      "cell_type": "code",
      "metadata": {
        "id": "TfIyj-T_jAmA",
        "outputId": "929aef8d-c6da-454d-d16c-b60da2529335"
      },
      "source": [
        "! pylint simple2.py"
      ],
      "execution_count": null,
      "outputs": [
        {
          "output_type": "stream",
          "text": [
            "************* Module simple2\n",
            "C: 14, 0: Final newline missing (missing-final-newline)\n",
            "W: 10, 4: Unused variable 'second' (unused-variable)\n",
            "\n",
            "------------------------------------------------------------------\n",
            "\n",
            "Your code has been rated at 6.67/10 (previous run: 6.67/10, +0.00)\n",
            "\n",
            "\n",
            "\n"
          ],
          "name": "stdout"
        },
        {
          "output_type": "stream",
          "text": [
            "No config file found, using default configuration\n"
          ],
          "name": "stderr"
        }
      ]
    },
    {
      "cell_type": "markdown",
      "metadata": {
        "id": "0cBvYXOfjAmE"
      },
      "source": [
        "pylint tells us there's an unused variable in line 10, but it doesn't know that we might get an unexpected output from line 12! For this we need a more robust set of tools. That's where `unittest` comes in."
      ]
    },
    {
      "cell_type": "markdown",
      "metadata": {
        "id": "W3vxlxUTjAmF"
      },
      "source": [
        "## `unittest`\n",
        "`unittest` lets you write your own test programs. The goal is to send a specific set of data to your program, and analyze the returned results against an expected result. \n",
        "\n",
        "Generate a simple script that capitalizes words in a given string. We'll call it **cap.py**."
      ]
    },
    {
      "cell_type": "code",
      "metadata": {
        "id": "qYAN0Bm9jAmF",
        "outputId": "072e9647-9c69-44ac-f057-e739976bad20"
      },
      "source": [
        "%%writefile cap.py\n",
        "def cap_text(text):\n",
        "    return text.capitalize()"
      ],
      "execution_count": null,
      "outputs": [
        {
          "output_type": "stream",
          "text": [
            "Overwriting cap.py\n"
          ],
          "name": "stdout"
        }
      ]
    },
    {
      "cell_type": "markdown",
      "metadata": {
        "id": "xsVjYKU6jAmI"
      },
      "source": [
        "Now we'll write a test script. We can call it whatever we want, but **test_cap.py** seems an obvious choice.\n",
        "\n",
        "When writing test functions, it's best to go from simple to complex, as each function will be run in order. Here we'll test simple, one-word strings, followed by a test of multiple word strings."
      ]
    },
    {
      "cell_type": "code",
      "metadata": {
        "id": "iVdp36Q3jAmJ",
        "outputId": "e1e9b357-13bb-4bad-ccc5-92f27442d6da"
      },
      "source": [
        "%%writefile test_cap.py\n",
        "import unittest\n",
        "import cap\n",
        "\n",
        "class TestCap(unittest.TestCase):\n",
        "    \n",
        "    def test_one_word(self):\n",
        "        text = 'python'\n",
        "        result = cap.cap_text(text)\n",
        "        self.assertEqual(result, 'Python')\n",
        "        \n",
        "    def test_multiple_words(self):\n",
        "        text = 'monty python'\n",
        "        result = cap.cap_text(text)\n",
        "        self.assertEqual(result, 'Monty Python')\n",
        "        \n",
        "if __name__ == '__main__':\n",
        "    unittest.main()"
      ],
      "execution_count": null,
      "outputs": [
        {
          "output_type": "stream",
          "text": [
            "Overwriting test_cap.py\n"
          ],
          "name": "stdout"
        }
      ]
    },
    {
      "cell_type": "code",
      "metadata": {
        "id": "bGjHf_PSjAmL",
        "outputId": "626b930f-ecd0-448a-f14d-cef4170fcdea"
      },
      "source": [
        "! python test_cap.py"
      ],
      "execution_count": null,
      "outputs": [
        {
          "output_type": "stream",
          "text": [
            "F.\n",
            "======================================================================\n",
            "FAIL: test_multiple_words (__main__.TestCap)\n",
            "----------------------------------------------------------------------\n",
            "Traceback (most recent call last):\n",
            "  File \"test_cap.py\", line 14, in test_multiple_words\n",
            "    self.assertEqual(result, 'Monty Python')\n",
            "AssertionError: 'Monty python' != 'Monty Python'\n",
            "- Monty python\n",
            "?       ^\n",
            "+ Monty Python\n",
            "?       ^\n",
            "\n",
            "\n",
            "----------------------------------------------------------------------\n",
            "Ran 2 tests in 0.000s\n",
            "\n",
            "FAILED (failures=1)\n"
          ],
          "name": "stderr"
        }
      ]
    },
    {
      "cell_type": "markdown",
      "metadata": {
        "id": "K3oO2Ie9jAmP"
      },
      "source": [
        "What happened? It turns out that the `.capitalize()` method only capitalizes the first letter of the first word in a string. Doing a little research on string methods, we find that `.title()` might give us what we want."
      ]
    },
    {
      "cell_type": "code",
      "metadata": {
        "id": "eOhIZHPPjAmQ",
        "outputId": "8ae91f9e-b7c9-45a5-d942-75f3b9e986e2"
      },
      "source": [
        "%%writefile cap.py\n",
        "def cap_text(text):\n",
        "    return text.title()  # replace .capitalize() with .title()"
      ],
      "execution_count": null,
      "outputs": [
        {
          "output_type": "stream",
          "text": [
            "Overwriting cap.py\n"
          ],
          "name": "stdout"
        }
      ]
    },
    {
      "cell_type": "code",
      "metadata": {
        "id": "HLRvuACajAmV",
        "outputId": "7305a722-7520-4cdf-90d2-7dda475b06df"
      },
      "source": [
        "! python test_cap.py"
      ],
      "execution_count": null,
      "outputs": [
        {
          "output_type": "stream",
          "text": [
            "..\n",
            "----------------------------------------------------------------------\n",
            "Ran 2 tests in 0.000s\n",
            "\n",
            "OK\n"
          ],
          "name": "stderr"
        }
      ]
    },
    {
      "cell_type": "markdown",
      "metadata": {
        "id": "vJddh0qsjAmZ"
      },
      "source": [
        "Hey, it passed! But have we tested all cases? add another test to **test_cap.py** to see if it handles words with apostrophes, like *don't*.\n",
        "\n",
        "In a text editor this would be easy, but in Jupyter we have to start from scratch."
      ]
    },
    {
      "cell_type": "code",
      "metadata": {
        "id": "IgT1pTxGjAmZ",
        "outputId": "6353538c-e139-4e2d-88cb-b4701f3c9590"
      },
      "source": [
        "%%writefile test_cap.py\n",
        "import unittest\n",
        "import cap\n",
        "\n",
        "class TestCap(unittest.TestCase):\n",
        "    \n",
        "    def test_one_word(self):\n",
        "        text = 'python'\n",
        "        result = cap.cap_text(text)\n",
        "        self.assertEqual(result, 'Python')\n",
        "        \n",
        "    def test_multiple_words(self):\n",
        "        text = 'monty python'\n",
        "        result = cap.cap_text(text)\n",
        "        self.assertEqual(result, 'Monty Python')\n",
        "        \n",
        "    def test_with_apostrophes(self):\n",
        "        text = \"monty python's flying circus\"\n",
        "        result = cap.cap_text(text)\n",
        "        self.assertEqual(result, \"Monty Python's Flying Circus\")\n",
        "        \n",
        "if __name__ == '__main__':\n",
        "    unittest.main()"
      ],
      "execution_count": null,
      "outputs": [
        {
          "output_type": "stream",
          "text": [
            "Overwriting test_cap.py\n"
          ],
          "name": "stdout"
        }
      ]
    },
    {
      "cell_type": "code",
      "metadata": {
        "id": "2Tb5YgqkjAmb",
        "outputId": "679054b4-8d90-445e-fdf1-b3bca996907c"
      },
      "source": [
        "! python test_cap.py"
      ],
      "execution_count": null,
      "outputs": [
        {
          "output_type": "stream",
          "text": [
            "..F\n",
            "======================================================================\n",
            "FAIL: test_with_apostrophes (__main__.TestCap)\n",
            "----------------------------------------------------------------------\n",
            "Traceback (most recent call last):\n",
            "  File \"test_cap.py\", line 19, in test_with_apostrophes\n",
            "    self.assertEqual(result, \"Monty Python's Flying Circus\")\n",
            "AssertionError: \"Monty Python'S Flying Circus\" != \"Monty Python's Flying Circus\"\n",
            "- Monty Python'S Flying Circus\n",
            "?              ^\n",
            "+ Monty Python's Flying Circus\n",
            "?              ^\n",
            "\n",
            "\n",
            "----------------------------------------------------------------------\n",
            "Ran 3 tests in 0.000s\n",
            "\n",
            "FAILED (failures=1)\n"
          ],
          "name": "stderr"
        }
      ]
    },
    {
      "cell_type": "markdown",
      "metadata": {
        "id": "3neBjIp0jAme"
      },
      "source": [
        "Now we have to find a solution that handles apostrophes! There is one (look up `capwords` from the `string` module) but we'll leave that as an exercise for the reader."
      ]
    }
  ]
}