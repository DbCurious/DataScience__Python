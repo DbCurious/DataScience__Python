{
  "nbformat": 4,
  "nbformat_minor": 0,
  "metadata": {
    "kernelspec": {
      "display_name": "Python 3",
      "language": "python",
      "name": "python3"
    },
    "language_info": {
      "codemirror_mode": {
        "name": "ipython",
        "version": 3
      },
      "file_extension": ".py",
      "mimetype": "text/x-python",
      "name": "python",
      "nbconvert_exporter": "python",
      "pygments_lexer": "ipython3",
      "version": "3.6.2"
    },
    "colab": {
      "name": "02-Strings.ipynb",
      "provenance": [],
      "collapsed_sections": []
    }
  },
  "cells": [
    {
      "cell_type": "markdown",
      "metadata": {
        "id": "ZyBCpJ8Zf3Oy",
        "colab_type": "text"
      },
      "source": [
        "# Strings"
      ]
    },
    {
      "cell_type": "markdown",
      "metadata": {
        "id": "yEjbvFacf3Oz",
        "colab_type": "text"
      },
      "source": [
        "Strings are used in Python to record text information, such as names. Strings in Python are actually a *sequence*, which basically means Python keeps track of every element in the string as a sequence. For example, Python understands the string \"hello' to be a sequence of letters in a specific order.\n",
        "\n",
        "\n",
        "    1.) Creating Strings\n",
        "    2.) Printing Strings\n",
        "    3.) String Indexing and Slicing\n",
        "    4.) String Properties\n",
        "    5.) String Methods\n",
        "    6.) Print Formatting"
      ]
    },
    {
      "cell_type": "markdown",
      "metadata": {
        "id": "eIyMpG0Zf3O0",
        "colab_type": "text"
      },
      "source": [
        "## Creating a String\n"
      ]
    },
    {
      "cell_type": "code",
      "metadata": {
        "id": "Tot17DFQf3O1",
        "colab_type": "code",
        "colab": {},
        "outputId": "7ba76b63-1f6d-45d6-eb54-32d9bef215fc"
      },
      "source": [
        "# Single word\n",
        "'hello'"
      ],
      "execution_count": 0,
      "outputs": [
        {
          "output_type": "execute_result",
          "data": {
            "text/plain": [
              "'hello'"
            ]
          },
          "metadata": {
            "tags": []
          },
          "execution_count": 1
        }
      ]
    },
    {
      "cell_type": "code",
      "metadata": {
        "id": "ok0DL7Ybf3O7",
        "colab_type": "code",
        "colab": {},
        "outputId": "856d6629-9226-49a7-a099-1feefe24c5ec"
      },
      "source": [
        "# Entire phrase \n",
        "'This is also a string'"
      ],
      "execution_count": 0,
      "outputs": [
        {
          "output_type": "execute_result",
          "data": {
            "text/plain": [
              "'This is also a string'"
            ]
          },
          "metadata": {
            "tags": []
          },
          "execution_count": 2
        }
      ]
    },
    {
      "cell_type": "code",
      "metadata": {
        "id": "kDQVHXOkf3O_",
        "colab_type": "code",
        "colab": {},
        "outputId": "5d1e957f-f0ee-46d8-a73c-590879c5cd44"
      },
      "source": [
        "# We can also use double quote\n",
        "\"String built with double quotes\""
      ],
      "execution_count": 0,
      "outputs": [
        {
          "output_type": "execute_result",
          "data": {
            "text/plain": [
              "'String built with double quotes'"
            ]
          },
          "metadata": {
            "tags": []
          },
          "execution_count": 3
        }
      ]
    },
    {
      "cell_type": "code",
      "metadata": {
        "id": "ftoae2v6f3PD",
        "colab_type": "code",
        "colab": {},
        "outputId": "1cffc5c0-b243-4727-c358-c7a6b45025c5"
      },
      "source": [
        "# Be careful with quotes!\n",
        "' I'm using single quotes, but this will create an error'"
      ],
      "execution_count": 0,
      "outputs": [
        {
          "output_type": "error",
          "ename": "SyntaxError",
          "evalue": "invalid syntax (<ipython-input-4-da9a34b3dc31>, line 2)",
          "traceback": [
            "\u001b[1;36m  File \u001b[1;32m\"<ipython-input-4-da9a34b3dc31>\"\u001b[1;36m, line \u001b[1;32m2\u001b[0m\n\u001b[1;33m    ' I'm using single quotes, but this will create an error'\u001b[0m\n\u001b[1;37m        ^\u001b[0m\n\u001b[1;31mSyntaxError\u001b[0m\u001b[1;31m:\u001b[0m invalid syntax\n"
          ]
        }
      ]
    },
    {
      "cell_type": "markdown",
      "metadata": {
        "id": "zpgYTNwef3PG",
        "colab_type": "text"
      },
      "source": [
        "The reason for the error above is because the single quote in <code>I'm</code> stopped the string. You can use combinations of double and single quotes to get the complete statement."
      ]
    },
    {
      "cell_type": "code",
      "metadata": {
        "id": "_rsLVji9f3PH",
        "colab_type": "code",
        "colab": {},
        "outputId": "07e157a8-bf9f-40cd-f701-b9e37d12a307"
      },
      "source": [
        "\"Now I'm ready to use the single quotes inside a string!\""
      ],
      "execution_count": 0,
      "outputs": [
        {
          "output_type": "execute_result",
          "data": {
            "text/plain": [
              "\"Now I'm ready to use the single quotes inside a string!\""
            ]
          },
          "metadata": {
            "tags": []
          },
          "execution_count": 5
        }
      ]
    },
    {
      "cell_type": "markdown",
      "metadata": {
        "id": "foIWvPdsf3PL",
        "colab_type": "text"
      },
      "source": [
        "## Printing a String\n",
        "\n",
        "Using Jupyter notebook with just a string in a cell will automatically output strings, but the correct way to display strings in your output is by using a print function."
      ]
    },
    {
      "cell_type": "code",
      "metadata": {
        "id": "_BJa5Uahf3PM",
        "colab_type": "code",
        "colab": {},
        "outputId": "024ea8a2-be04-4656-a7b0-6a05116d5147"
      },
      "source": [
        "# We can simply declare a string\n",
        "'Hello World'"
      ],
      "execution_count": 0,
      "outputs": [
        {
          "output_type": "execute_result",
          "data": {
            "text/plain": [
              "'Hello World'"
            ]
          },
          "metadata": {
            "tags": []
          },
          "execution_count": 6
        }
      ]
    },
    {
      "cell_type": "code",
      "metadata": {
        "id": "1hYw1gAhf3PQ",
        "colab_type": "code",
        "colab": {},
        "outputId": "f651e01b-b0d3-49fc-beb2-b754797a90b2"
      },
      "source": [
        "# Note that we can't output multiple strings this way\n",
        "'Hello World 1'\n",
        "'Hello World 2'"
      ],
      "execution_count": 0,
      "outputs": [
        {
          "output_type": "execute_result",
          "data": {
            "text/plain": [
              "'Hello World 2'"
            ]
          },
          "metadata": {
            "tags": []
          },
          "execution_count": 7
        }
      ]
    },
    {
      "cell_type": "markdown",
      "metadata": {
        "id": "1rzaqNEkf3PU",
        "colab_type": "text"
      },
      "source": [
        "We can use a print statement to print a string."
      ]
    },
    {
      "cell_type": "code",
      "metadata": {
        "id": "0mwp_HcCf3PV",
        "colab_type": "code",
        "colab": {},
        "outputId": "6464252c-1b74-4819-80a6-9b96cd561dc9"
      },
      "source": [
        "print('Hello World 1')\n",
        "print('Hello World 2')\n",
        "print('Use \\n to print a new line')\n",
        "print('\\n')\n",
        "print('See what I mean?')"
      ],
      "execution_count": 0,
      "outputs": [
        {
          "output_type": "stream",
          "text": [
            "Hello World 1\n",
            "Hello World 2\n",
            "Use \n",
            " to print a new line\n",
            "\n",
            "\n",
            "See what I mean?\n"
          ],
          "name": "stdout"
        }
      ]
    },
    {
      "cell_type": "markdown",
      "metadata": {
        "id": "0fTvk1Y2f3PY",
        "colab_type": "text"
      },
      "source": [
        "## String Basics"
      ]
    },
    {
      "cell_type": "markdown",
      "metadata": {
        "id": "bGbyqELlf3PZ",
        "colab_type": "text"
      },
      "source": [
        "We can also use a function called len() to check the length of a string!"
      ]
    },
    {
      "cell_type": "code",
      "metadata": {
        "id": "O4nathSlf3PZ",
        "colab_type": "code",
        "colab": {},
        "outputId": "aba44635-ac7c-4c98-dc71-327dfebc5303"
      },
      "source": [
        "len('Hello World')"
      ],
      "execution_count": 0,
      "outputs": [
        {
          "output_type": "execute_result",
          "data": {
            "text/plain": [
              "11"
            ]
          },
          "metadata": {
            "tags": []
          },
          "execution_count": 9
        }
      ]
    },
    {
      "cell_type": "markdown",
      "metadata": {
        "id": "TZqBniHif3Pf",
        "colab_type": "text"
      },
      "source": [
        "Python's built-in len() function counts all of the characters in the string, including spaces and punctuation."
      ]
    },
    {
      "cell_type": "markdown",
      "metadata": {
        "id": "DcBxUdRAf3Pg",
        "colab_type": "text"
      },
      "source": [
        "## String Indexing\n",
        "We know strings are a sequence, which means Python can use indexes to call parts of the sequence. Let's learn how this works.\n",
        "\n",
        "In Python, we use brackets <code>[]</code> after an object to call its index. We should also note that indexing starts at 0 for Python. Let's create a new object called <code>s</code> and then walk through a few examples of indexing."
      ]
    },
    {
      "cell_type": "code",
      "metadata": {
        "id": "BB78ampCf3Pi",
        "colab_type": "code",
        "colab": {}
      },
      "source": [
        "# Assign s as a string\n",
        "s = 'Hello World'"
      ],
      "execution_count": 0,
      "outputs": []
    },
    {
      "cell_type": "code",
      "metadata": {
        "id": "un7zgIOpf3Pm",
        "colab_type": "code",
        "colab": {},
        "outputId": "d192a88b-f379-4a3e-b74f-bb6046ec5e7b"
      },
      "source": [
        "#Check\n",
        "s"
      ],
      "execution_count": 0,
      "outputs": [
        {
          "output_type": "execute_result",
          "data": {
            "text/plain": [
              "'Hello World'"
            ]
          },
          "metadata": {
            "tags": []
          },
          "execution_count": 11
        }
      ]
    },
    {
      "cell_type": "code",
      "metadata": {
        "id": "bwSLm3Rzf3Pq",
        "colab_type": "code",
        "colab": {},
        "outputId": "3f6d451a-8a44-4555-e0b1-d122fdb70ebe"
      },
      "source": [
        "# Print the object\n",
        "print(s) "
      ],
      "execution_count": 0,
      "outputs": [
        {
          "output_type": "stream",
          "text": [
            "Hello World\n"
          ],
          "name": "stdout"
        }
      ]
    },
    {
      "cell_type": "markdown",
      "metadata": {
        "id": "s7pPIajsf3Pt",
        "colab_type": "text"
      },
      "source": [
        "Let's start indexing!"
      ]
    },
    {
      "cell_type": "code",
      "metadata": {
        "id": "3sOIfxi0f3Pu",
        "colab_type": "code",
        "colab": {},
        "outputId": "bdf05db1-caa4-414d-d518-dd6a9d598015"
      },
      "source": [
        "# Show first element (in this case a letter)\n",
        "s[0]"
      ],
      "execution_count": 0,
      "outputs": [
        {
          "output_type": "execute_result",
          "data": {
            "text/plain": [
              "'H'"
            ]
          },
          "metadata": {
            "tags": []
          },
          "execution_count": 13
        }
      ]
    },
    {
      "cell_type": "code",
      "metadata": {
        "id": "k3TwSefrf3Px",
        "colab_type": "code",
        "colab": {},
        "outputId": "59215d7e-6998-4b3b-c9ec-b7bd7aceaa2a"
      },
      "source": [
        "s[1]"
      ],
      "execution_count": 0,
      "outputs": [
        {
          "output_type": "execute_result",
          "data": {
            "text/plain": [
              "'e'"
            ]
          },
          "metadata": {
            "tags": []
          },
          "execution_count": 14
        }
      ]
    },
    {
      "cell_type": "code",
      "metadata": {
        "id": "Rifwkgazf3P1",
        "colab_type": "code",
        "colab": {},
        "outputId": "b80a8852-d5e0-4ba4-c52d-60c517be5c74"
      },
      "source": [
        "s[2]"
      ],
      "execution_count": 0,
      "outputs": [
        {
          "output_type": "execute_result",
          "data": {
            "text/plain": [
              "'l'"
            ]
          },
          "metadata": {
            "tags": []
          },
          "execution_count": 15
        }
      ]
    },
    {
      "cell_type": "markdown",
      "metadata": {
        "id": "Wv52PUgNf3P6",
        "colab_type": "text"
      },
      "source": [
        "We can use a <code>:</code> to perform *slicing* which grabs everything up to a designated point. For example:"
      ]
    },
    {
      "cell_type": "code",
      "metadata": {
        "id": "l7M3wjOTf3P7",
        "colab_type": "code",
        "colab": {},
        "outputId": "1082a80b-7ac6-4787-d285-d1d8dbb93d4e"
      },
      "source": [
        "# Grab everything past the first term all the way to the length of s which is len(s)\n",
        "s[1:]"
      ],
      "execution_count": 0,
      "outputs": [
        {
          "output_type": "execute_result",
          "data": {
            "text/plain": [
              "'ello World'"
            ]
          },
          "metadata": {
            "tags": []
          },
          "execution_count": 16
        }
      ]
    },
    {
      "cell_type": "code",
      "metadata": {
        "id": "b0YuczCzf3P_",
        "colab_type": "code",
        "colab": {},
        "outputId": "544193fc-73a2-4816-d2c2-292b33e4dcc9"
      },
      "source": [
        "# Note that there is no change to the original s\n",
        "s"
      ],
      "execution_count": 0,
      "outputs": [
        {
          "output_type": "execute_result",
          "data": {
            "text/plain": [
              "'Hello World'"
            ]
          },
          "metadata": {
            "tags": []
          },
          "execution_count": 17
        }
      ]
    },
    {
      "cell_type": "code",
      "metadata": {
        "id": "H3u1AXZUf3QD",
        "colab_type": "code",
        "colab": {},
        "outputId": "0a2ee453-59c8-4b14-82ed-4be8f92395d7"
      },
      "source": [
        "# Grab everything UP TO the 3rd index\n",
        "s[:3]"
      ],
      "execution_count": 0,
      "outputs": [
        {
          "output_type": "execute_result",
          "data": {
            "text/plain": [
              "'Hel'"
            ]
          },
          "metadata": {
            "tags": []
          },
          "execution_count": 18
        }
      ]
    },
    {
      "cell_type": "markdown",
      "metadata": {
        "id": "rJDfj3Icf3QG",
        "colab_type": "text"
      },
      "source": [
        "Note the above slicing. Here we're telling Python to grab everything from 0 up to 3. It doesn't include the 3rd index. You'll notice this a lot in Python, where statements and are usually in the context of \"up to, but not including\"."
      ]
    },
    {
      "cell_type": "code",
      "metadata": {
        "id": "TFJhWO6Hf3QH",
        "colab_type": "code",
        "colab": {},
        "outputId": "fc8a6f07-7a6c-49e9-fbe4-f78773f6eeb1"
      },
      "source": [
        "#Everything\n",
        "s[:]"
      ],
      "execution_count": 0,
      "outputs": [
        {
          "output_type": "execute_result",
          "data": {
            "text/plain": [
              "'Hello World'"
            ]
          },
          "metadata": {
            "tags": []
          },
          "execution_count": 19
        }
      ]
    },
    {
      "cell_type": "markdown",
      "metadata": {
        "id": "-dFTQc8pf3QL",
        "colab_type": "text"
      },
      "source": [
        "We can also use negative indexing to go backwards."
      ]
    },
    {
      "cell_type": "code",
      "metadata": {
        "id": "iMRUDV9jf3QL",
        "colab_type": "code",
        "colab": {},
        "outputId": "ebbac759-8441-4d12-b1a9-14087404872a"
      },
      "source": [
        "# Last letter (one index behind 0 so it loops back around)\n",
        "s[-1]"
      ],
      "execution_count": 0,
      "outputs": [
        {
          "output_type": "execute_result",
          "data": {
            "text/plain": [
              "'d'"
            ]
          },
          "metadata": {
            "tags": []
          },
          "execution_count": 20
        }
      ]
    },
    {
      "cell_type": "code",
      "metadata": {
        "id": "Kutuv8o4f3QP",
        "colab_type": "code",
        "colab": {},
        "outputId": "8ac7a882-21c0-43fc-fab3-bd18792991ec"
      },
      "source": [
        "# Grab everything but the last letter\n",
        "s[:-1]"
      ],
      "execution_count": 0,
      "outputs": [
        {
          "output_type": "execute_result",
          "data": {
            "text/plain": [
              "'Hello Worl'"
            ]
          },
          "metadata": {
            "tags": []
          },
          "execution_count": 21
        }
      ]
    },
    {
      "cell_type": "markdown",
      "metadata": {
        "id": "QxcjV0JDf3QT",
        "colab_type": "text"
      },
      "source": [
        "We can also use index and slice notation to grab elements of a sequence by a specified step size (the default is 1). For instance we can use two colons in a row and then a number specifying the frequency to grab elements. For example:"
      ]
    },
    {
      "cell_type": "code",
      "metadata": {
        "id": "z0VHWHDBf3QU",
        "colab_type": "code",
        "colab": {},
        "outputId": "993f988f-ef50-4734-ab42-9aa6f8ad4563"
      },
      "source": [
        "# Grab everything, but go in steps size of 1\n",
        "s[::1]"
      ],
      "execution_count": 0,
      "outputs": [
        {
          "output_type": "execute_result",
          "data": {
            "text/plain": [
              "'Hello World'"
            ]
          },
          "metadata": {
            "tags": []
          },
          "execution_count": 22
        }
      ]
    },
    {
      "cell_type": "code",
      "metadata": {
        "id": "llkdYc_if3QY",
        "colab_type": "code",
        "colab": {},
        "outputId": "beaf195e-621c-4f23-a206-548749c4d31f"
      },
      "source": [
        "# Grab everything, but go in step sizes of 2\n",
        "s[::2]"
      ],
      "execution_count": 0,
      "outputs": [
        {
          "output_type": "execute_result",
          "data": {
            "text/plain": [
              "'HloWrd'"
            ]
          },
          "metadata": {
            "tags": []
          },
          "execution_count": 23
        }
      ]
    },
    {
      "cell_type": "code",
      "metadata": {
        "id": "xsGRhqTff3Qb",
        "colab_type": "code",
        "colab": {},
        "outputId": "140fa957-1de3-478d-bcd6-9dcecf634d6f"
      },
      "source": [
        "# We can use this to print a string backwards\n",
        "s[::-1]"
      ],
      "execution_count": 0,
      "outputs": [
        {
          "output_type": "execute_result",
          "data": {
            "text/plain": [
              "'dlroW olleH'"
            ]
          },
          "metadata": {
            "tags": []
          },
          "execution_count": 24
        }
      ]
    },
    {
      "cell_type": "markdown",
      "metadata": {
        "collapsed": true,
        "id": "5YnR8bUcf3Qe",
        "colab_type": "text"
      },
      "source": [
        "## String Properties\n",
        "It's important to note that strings have an important property known as *immutability*. This means that once a string is created, the elements within it can not be changed or replaced. For example:"
      ]
    },
    {
      "cell_type": "code",
      "metadata": {
        "id": "hHMQzMXVf3Qf",
        "colab_type": "code",
        "colab": {},
        "outputId": "6410c128-5d36-404d-abeb-9f3c7e7d9ff2"
      },
      "source": [
        "s"
      ],
      "execution_count": 0,
      "outputs": [
        {
          "output_type": "execute_result",
          "data": {
            "text/plain": [
              "'Hello World'"
            ]
          },
          "metadata": {
            "tags": []
          },
          "execution_count": 25
        }
      ]
    },
    {
      "cell_type": "markdown",
      "metadata": {
        "id": "rAmv7P-uf3Qk",
        "colab_type": "text"
      },
      "source": [
        "Notice how the error tells us directly what we can't do, change the item assignment!\n",
        "\n",
        "Something we *can* do is concatenate strings!"
      ]
    },
    {
      "cell_type": "code",
      "metadata": {
        "id": "dXNf767of3Qm",
        "colab_type": "code",
        "colab": {},
        "outputId": "365f48f9-f4ab-4514-847d-7e98d741f078"
      },
      "source": [
        "s"
      ],
      "execution_count": 0,
      "outputs": [
        {
          "output_type": "execute_result",
          "data": {
            "text/plain": [
              "'Hello World'"
            ]
          },
          "metadata": {
            "tags": []
          },
          "execution_count": 27
        }
      ]
    },
    {
      "cell_type": "code",
      "metadata": {
        "id": "maJEOXddf3Qp",
        "colab_type": "code",
        "colab": {},
        "outputId": "5615fab8-e669-46e4-943f-7bd614cf088a"
      },
      "source": [
        "# Concatenate strings!\n",
        "s + ' concatenate me!'"
      ],
      "execution_count": 0,
      "outputs": [
        {
          "output_type": "execute_result",
          "data": {
            "text/plain": [
              "'Hello World concatenate me!'"
            ]
          },
          "metadata": {
            "tags": []
          },
          "execution_count": 28
        }
      ]
    },
    {
      "cell_type": "code",
      "metadata": {
        "id": "1k7RZCKbf3Qs",
        "colab_type": "code",
        "colab": {}
      },
      "source": [
        "# We can reassign s completely though!\n",
        "s = s + ' concatenate me!'"
      ],
      "execution_count": 0,
      "outputs": []
    },
    {
      "cell_type": "code",
      "metadata": {
        "id": "Uklp86-if3Qv",
        "colab_type": "code",
        "colab": {},
        "outputId": "1a774c78-b7d0-463b-ca1d-5ee533314bc0"
      },
      "source": [
        "print(s)"
      ],
      "execution_count": 0,
      "outputs": [
        {
          "output_type": "stream",
          "text": [
            "Hello World concatenate me!\n"
          ],
          "name": "stdout"
        }
      ]
    },
    {
      "cell_type": "code",
      "metadata": {
        "id": "tOEzCbGWf3Qy",
        "colab_type": "code",
        "colab": {},
        "outputId": "32d301ef-9fd7-44d6-d1de-f841eee1e00d"
      },
      "source": [
        "s"
      ],
      "execution_count": 0,
      "outputs": [
        {
          "output_type": "execute_result",
          "data": {
            "text/plain": [
              "'Hello World concatenate me!'"
            ]
          },
          "metadata": {
            "tags": []
          },
          "execution_count": 31
        }
      ]
    },
    {
      "cell_type": "markdown",
      "metadata": {
        "id": "BgDcu2NGf3Q1",
        "colab_type": "text"
      },
      "source": [
        "We can use the multiplication symbol to create repetition!"
      ]
    },
    {
      "cell_type": "code",
      "metadata": {
        "id": "7tpGu7rLf3Q2",
        "colab_type": "code",
        "colab": {}
      },
      "source": [
        "letter = 'z'"
      ],
      "execution_count": 0,
      "outputs": []
    },
    {
      "cell_type": "code",
      "metadata": {
        "id": "_GVGjw0Gf3Q4",
        "colab_type": "code",
        "colab": {},
        "outputId": "5a1798ea-c5d1-4562-f97b-2ccac96fb703"
      },
      "source": [
        "letter*10"
      ],
      "execution_count": 0,
      "outputs": [
        {
          "output_type": "execute_result",
          "data": {
            "text/plain": [
              "'zzzzzzzzzz'"
            ]
          },
          "metadata": {
            "tags": []
          },
          "execution_count": 33
        }
      ]
    },
    {
      "cell_type": "markdown",
      "metadata": {
        "id": "XwUqFpPXf3Q8",
        "colab_type": "text"
      },
      "source": [
        "## Basic Built-in String methods\n",
        "\n",
        "Objects in Python usually have built-in methods. These methods are functions inside the object (we will learn about these in much more depth later) that can perform actions or commands on the object itself.\n",
        "\n",
        "We call methods with a period and then the method name. Methods are in the form:\n",
        "\n",
        "object.method(parameters)\n",
        "\n",
        "Where parameters are extra arguments we can pass into the method. Don't worry if the details don't make 100% sense right now. Later on we will be creating our own objects and functions!\n",
        "\n",
        "Here are some examples of built-in methods in strings:"
      ]
    },
    {
      "cell_type": "code",
      "metadata": {
        "id": "x7HClou9f3Q9",
        "colab_type": "code",
        "colab": {},
        "outputId": "571e7bb4-60e7-4fca-8479-d6118dcdd4ad"
      },
      "source": [
        "s"
      ],
      "execution_count": 0,
      "outputs": [
        {
          "output_type": "execute_result",
          "data": {
            "text/plain": [
              "'Hello World concatenate me!'"
            ]
          },
          "metadata": {
            "tags": []
          },
          "execution_count": 34
        }
      ]
    },
    {
      "cell_type": "code",
      "metadata": {
        "id": "FL0UJS95f3Q_",
        "colab_type": "code",
        "colab": {},
        "outputId": "86b9b068-f242-48f3-8d89-a8dad27a556a"
      },
      "source": [
        "# Upper Case a string\n",
        "s.upper()"
      ],
      "execution_count": 0,
      "outputs": [
        {
          "output_type": "execute_result",
          "data": {
            "text/plain": [
              "'HELLO WORLD CONCATENATE ME!'"
            ]
          },
          "metadata": {
            "tags": []
          },
          "execution_count": 35
        }
      ]
    },
    {
      "cell_type": "code",
      "metadata": {
        "id": "12JGQaJsf3RF",
        "colab_type": "code",
        "colab": {},
        "outputId": "d4690cdf-d784-4024-e07e-aa446d85ed7b"
      },
      "source": [
        "# Lower case\n",
        "s.lower()"
      ],
      "execution_count": 0,
      "outputs": [
        {
          "output_type": "execute_result",
          "data": {
            "text/plain": [
              "'hello world concatenate me!'"
            ]
          },
          "metadata": {
            "tags": []
          },
          "execution_count": 36
        }
      ]
    },
    {
      "cell_type": "code",
      "metadata": {
        "id": "E-0qQRN9f3RK",
        "colab_type": "code",
        "colab": {},
        "outputId": "935c6e7f-c1a3-46fd-bc23-02f227e3c424"
      },
      "source": [
        "# Split a string by blank space (this is the default)\n",
        "s.split()"
      ],
      "execution_count": 0,
      "outputs": [
        {
          "output_type": "execute_result",
          "data": {
            "text/plain": [
              "['Hello', 'World', 'concatenate', 'me!']"
            ]
          },
          "metadata": {
            "tags": []
          },
          "execution_count": 37
        }
      ]
    },
    {
      "cell_type": "code",
      "metadata": {
        "id": "FAyfFl_rf3RR",
        "colab_type": "code",
        "colab": {},
        "outputId": "984dd9bf-0079-4cff-9114-610684975be5"
      },
      "source": [
        "# Split by a specific element (doesn't include the element that was split on)\n",
        "s.split('W')"
      ],
      "execution_count": 0,
      "outputs": [
        {
          "output_type": "execute_result",
          "data": {
            "text/plain": [
              "['Hello ', 'orld concatenate me!']"
            ]
          },
          "metadata": {
            "tags": []
          },
          "execution_count": 38
        }
      ]
    },
    {
      "cell_type": "markdown",
      "metadata": {
        "id": "B47Yc22yf3RU",
        "colab_type": "text"
      },
      "source": [
        "There are many more methods than the ones covered here. Visit the Advanced String section to find out more!"
      ]
    },
    {
      "cell_type": "markdown",
      "metadata": {
        "id": "ZtB2G-Zcf3RV",
        "colab_type": "text"
      },
      "source": [
        "## Print Formatting\n",
        "\n",
        "We can use the .format() method to add formatted objects to printed string statements. \n",
        "\n",
        "The easiest way to show this is through an example:"
      ]
    },
    {
      "cell_type": "code",
      "metadata": {
        "id": "Tcn486kWf3RV",
        "colab_type": "code",
        "colab": {},
        "outputId": "cb6e81a3-984d-4308-f6bf-81a4710138ed"
      },
      "source": [
        "'Insert another string with curly brackets: {}'.format('The inserted string')"
      ],
      "execution_count": 0,
      "outputs": [
        {
          "output_type": "execute_result",
          "data": {
            "text/plain": [
              "'Insert another string with curly brackets: The inserted string'"
            ]
          },
          "metadata": {
            "tags": []
          },
          "execution_count": 39
        }
      ]
    }
  ]
}