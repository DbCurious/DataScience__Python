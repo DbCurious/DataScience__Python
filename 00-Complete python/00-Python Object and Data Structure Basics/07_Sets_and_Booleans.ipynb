{
  "nbformat": 4,
  "nbformat_minor": 0,
  "metadata": {
    "kernelspec": {
      "display_name": "Python 3",
      "language": "python",
      "name": "python3"
    },
    "language_info": {
      "codemirror_mode": {
        "name": "ipython",
        "version": 3
      },
      "file_extension": ".py",
      "mimetype": "text/x-python",
      "name": "python",
      "nbconvert_exporter": "python",
      "pygments_lexer": "ipython3",
      "version": "3.6.1"
    },
    "colab": {
      "name": "07-Sets and Booleans.ipynb",
      "provenance": [],
      "collapsed_sections": []
    }
  },
  "cells": [
    {
      "cell_type": "markdown",
      "metadata": {
        "id": "fr_oxfXwdz_J",
        "colab_type": "text"
      },
      "source": [
        "# Set and Booleans\n",
        "\n",
        "There are two other object types in Python that we should quickly cover: Sets and Booleans. \n",
        "\n",
        "## Sets\n",
        "\n",
        "Sets are an unordered collection of *unique* elements. We can construct them by using the set() function."
      ]
    },
    {
      "cell_type": "code",
      "metadata": {
        "id": "egV9QwJAdz_K",
        "colab_type": "code",
        "colab": {}
      },
      "source": [
        "x = set()"
      ],
      "execution_count": 0,
      "outputs": []
    },
    {
      "cell_type": "code",
      "metadata": {
        "id": "nWW-osiUdz_V",
        "colab_type": "code",
        "colab": {}
      },
      "source": [
        "# We add to sets with the add() method\n",
        "x.add(1)"
      ],
      "execution_count": 0,
      "outputs": []
    },
    {
      "cell_type": "code",
      "metadata": {
        "id": "0RYJihwndz_l",
        "colab_type": "code",
        "colab": {},
        "outputId": "4556a59e-060a-44b1-b2e7-7553a0b26c02"
      },
      "source": [
        "#Show\n",
        "x"
      ],
      "execution_count": 0,
      "outputs": [
        {
          "output_type": "execute_result",
          "data": {
            "text/plain": [
              "{1}"
            ]
          },
          "metadata": {
            "tags": []
          },
          "execution_count": 3
        }
      ]
    },
    {
      "cell_type": "markdown",
      "metadata": {
        "id": "aH7lxluWdz_w",
        "colab_type": "text"
      },
      "source": [
        "Note the curly brackets. This does not indicate a dictionary! Although you can draw analogies as a set being a dictionary with only keys.\n",
        "\n",
        "We know that a set has only unique entries. So what happens when we try to add something that is already in a set?"
      ]
    },
    {
      "cell_type": "code",
      "metadata": {
        "id": "e1WmfzX9dz_y",
        "colab_type": "code",
        "colab": {}
      },
      "source": [
        "# Add a different element\n",
        "x.add(2)"
      ],
      "execution_count": 0,
      "outputs": []
    },
    {
      "cell_type": "code",
      "metadata": {
        "id": "hiZTLjBxdz_5",
        "colab_type": "code",
        "colab": {},
        "outputId": "135ea72e-fa2c-4578-f45d-4182426a8b31"
      },
      "source": [
        "#Show\n",
        "x"
      ],
      "execution_count": 0,
      "outputs": [
        {
          "output_type": "execute_result",
          "data": {
            "text/plain": [
              "{1, 2}"
            ]
          },
          "metadata": {
            "tags": []
          },
          "execution_count": 5
        }
      ]
    },
    {
      "cell_type": "code",
      "metadata": {
        "id": "uSO3Dzend0AC",
        "colab_type": "code",
        "colab": {}
      },
      "source": [
        "# Try to add the same element\n",
        "x.add(1)"
      ],
      "execution_count": 0,
      "outputs": []
    },
    {
      "cell_type": "code",
      "metadata": {
        "id": "1YWjehytd0AG",
        "colab_type": "code",
        "colab": {},
        "outputId": "b3079f36-70ec-45ac-d83c-13e07204e173"
      },
      "source": [
        "#Show\n",
        "x"
      ],
      "execution_count": 0,
      "outputs": [
        {
          "output_type": "execute_result",
          "data": {
            "text/plain": [
              "{1, 2}"
            ]
          },
          "metadata": {
            "tags": []
          },
          "execution_count": 7
        }
      ]
    },
    {
      "cell_type": "markdown",
      "metadata": {
        "id": "HIoWYV3Bd0AM",
        "colab_type": "text"
      },
      "source": [
        "Notice how it won't place another 1 there. That's because a set is only concerned with unique elements! We can cast a list with multiple repeat elements to a set to get the unique elements. For example:"
      ]
    },
    {
      "cell_type": "code",
      "metadata": {
        "id": "1MSq8-zEd0AN",
        "colab_type": "code",
        "colab": {}
      },
      "source": [
        "# Create a list with repeats\n",
        "list1 = [1,1,2,2,3,4,5,6,1,1]"
      ],
      "execution_count": 0,
      "outputs": []
    },
    {
      "cell_type": "code",
      "metadata": {
        "id": "skO-PJITd0AR",
        "colab_type": "code",
        "colab": {},
        "outputId": "69ca53d7-02f7-44dd-92f5-663b1ff14d6d"
      },
      "source": [
        "# Cast as set to get unique values\n",
        "set(list1)"
      ],
      "execution_count": 0,
      "outputs": [
        {
          "output_type": "execute_result",
          "data": {
            "text/plain": [
              "{1, 2, 3, 4, 5, 6}"
            ]
          },
          "metadata": {
            "tags": []
          },
          "execution_count": 9
        }
      ]
    },
    {
      "cell_type": "markdown",
      "metadata": {
        "id": "BKVRXr4Sd0AV",
        "colab_type": "text"
      },
      "source": [
        "## Booleans\n",
        "\n",
        "Python  comes with Booleans (with predefined True and False displays that are basically just the integers 1 and 0). It also has a placeholder object called None."
      ]
    },
    {
      "cell_type": "code",
      "metadata": {
        "id": "rKopmXTWd0AX",
        "colab_type": "code",
        "colab": {}
      },
      "source": [
        "# Set object to be a boolean\n",
        "a = True"
      ],
      "execution_count": 0,
      "outputs": []
    },
    {
      "cell_type": "code",
      "metadata": {
        "id": "rAuztwFCd0Ac",
        "colab_type": "code",
        "colab": {},
        "outputId": "24346cd5-17fa-423c-fecb-fa4064b6dfa6"
      },
      "source": [
        "#Show\n",
        "a"
      ],
      "execution_count": 0,
      "outputs": [
        {
          "output_type": "execute_result",
          "data": {
            "text/plain": [
              "True"
            ]
          },
          "metadata": {
            "tags": []
          },
          "execution_count": 11
        }
      ]
    },
    {
      "cell_type": "code",
      "metadata": {
        "id": "WNhTt98ad0Ah",
        "colab_type": "code",
        "colab": {},
        "outputId": "6af0e01a-95f1-43b5-ddb7-78089cba9a5a"
      },
      "source": [
        "# Output is boolean\n",
        "1 > 2"
      ],
      "execution_count": 0,
      "outputs": [
        {
          "output_type": "execute_result",
          "data": {
            "text/plain": [
              "False"
            ]
          },
          "metadata": {
            "tags": []
          },
          "execution_count": 12
        }
      ]
    },
    {
      "cell_type": "markdown",
      "metadata": {
        "id": "4xqNfjK5d0Al",
        "colab_type": "text"
      },
      "source": [
        "We can use None as a placeholder for an object that we don't want to reassign yet:"
      ]
    },
    {
      "cell_type": "code",
      "metadata": {
        "id": "v9dEOJzmd0Am",
        "colab_type": "code",
        "colab": {}
      },
      "source": [
        "# None placeholder\n",
        "b = None"
      ],
      "execution_count": 0,
      "outputs": []
    },
    {
      "cell_type": "code",
      "metadata": {
        "id": "8B7B7R13d0As",
        "colab_type": "code",
        "colab": {},
        "outputId": "3fae800f-604e-4371-8761-704829770e76"
      },
      "source": [
        "# Show\n",
        "print(b)"
      ],
      "execution_count": 0,
      "outputs": [
        {
          "output_type": "stream",
          "text": [
            "None\n"
          ],
          "name": "stdout"
        }
      ]
    }
  ]
}