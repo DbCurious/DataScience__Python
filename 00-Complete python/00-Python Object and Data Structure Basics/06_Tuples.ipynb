{
  "nbformat": 4,
  "nbformat_minor": 0,
  "metadata": {
    "kernelspec": {
      "display_name": "Python 3",
      "language": "python",
      "name": "python3"
    },
    "language_info": {
      "codemirror_mode": {
        "name": "ipython",
        "version": 3
      },
      "file_extension": ".py",
      "mimetype": "text/x-python",
      "name": "python",
      "nbconvert_exporter": "python",
      "pygments_lexer": "ipython3",
      "version": "3.6.2"
    },
    "colab": {
      "name": "06-Tuples.ipynb",
      "provenance": [],
      "collapsed_sections": []
    }
  },
  "cells": [
    {
      "cell_type": "markdown",
      "metadata": {
        "id": "OC_ut-iMJFer",
        "colab_type": "text"
      },
      "source": [
        "# Tuples\n",
        "\n",
        "In Python tuples are very similar to lists, however, unlike lists they are *immutable* meaning they can not be changed.  \n",
        "\n",
        "\n",
        "\n",
        "    1.) Constructing Tuples\n",
        "    2.) Basic Tuple Methods\n",
        "    3.) Immutability\n",
        "    4.) When to Use Tuples\n",
        "\n",
        "\n",
        "## Constructing Tuples\n",
        "\n",
        "The construction of a tuples use () with elements separated by commas. For example:"
      ]
    },
    {
      "cell_type": "code",
      "metadata": {
        "id": "pcKUpNToJFet",
        "colab_type": "code",
        "colab": {}
      },
      "source": [
        "# Create a tuple\n",
        "t = (1,2,3)"
      ],
      "execution_count": 0,
      "outputs": []
    },
    {
      "cell_type": "code",
      "metadata": {
        "id": "btQq0fUxJFez",
        "colab_type": "code",
        "colab": {},
        "outputId": "c37811e2-6b9c-446e-dc56-df05de78b2fa"
      },
      "source": [
        "# Check len just like a list\n",
        "len(t)"
      ],
      "execution_count": 0,
      "outputs": [
        {
          "output_type": "execute_result",
          "data": {
            "text/plain": [
              "3"
            ]
          },
          "metadata": {
            "tags": []
          },
          "execution_count": 2
        }
      ]
    },
    {
      "cell_type": "code",
      "metadata": {
        "id": "CpNzLiAZJFe7",
        "colab_type": "code",
        "colab": {},
        "outputId": "7756a41c-b3da-46d2-ca52-9e59d32a22eb"
      },
      "source": [
        "# Can also mix object types\n",
        "t = ('one',2)\n",
        "\n",
        "# Show\n",
        "t"
      ],
      "execution_count": 0,
      "outputs": [
        {
          "output_type": "execute_result",
          "data": {
            "text/plain": [
              "('one', 2)"
            ]
          },
          "metadata": {
            "tags": []
          },
          "execution_count": 3
        }
      ]
    },
    {
      "cell_type": "code",
      "metadata": {
        "id": "_IDOFvhgJFe_",
        "colab_type": "code",
        "colab": {},
        "outputId": "20fd5d2a-c9c2-419b-c2bd-e17b5e83d4e0"
      },
      "source": [
        "# Use indexing just like we did in lists\n",
        "t[0]"
      ],
      "execution_count": 0,
      "outputs": [
        {
          "output_type": "execute_result",
          "data": {
            "text/plain": [
              "'one'"
            ]
          },
          "metadata": {
            "tags": []
          },
          "execution_count": 4
        }
      ]
    },
    {
      "cell_type": "code",
      "metadata": {
        "id": "l8rJB8ZKJFfG",
        "colab_type": "code",
        "colab": {},
        "outputId": "84a97ea7-46d1-4c83-c26d-30c44e0ef920"
      },
      "source": [
        "# Slicing just like a list\n",
        "t[-1]"
      ],
      "execution_count": 0,
      "outputs": [
        {
          "output_type": "execute_result",
          "data": {
            "text/plain": [
              "2"
            ]
          },
          "metadata": {
            "tags": []
          },
          "execution_count": 5
        }
      ]
    },
    {
      "cell_type": "markdown",
      "metadata": {
        "id": "tpAvKRRuJFfO",
        "colab_type": "text"
      },
      "source": [
        "## Basic Tuple Methods\n",
        "\n",
        "Tuples have built-in methods, but not as many as lists do. "
      ]
    },
    {
      "cell_type": "code",
      "metadata": {
        "id": "bwcLOKrTJFfP",
        "colab_type": "code",
        "colab": {},
        "outputId": "34cc2f9d-32af-437a-ebec-d522bb4dd5d3"
      },
      "source": [
        "# Use .index to enter a value and return the index\n",
        "t.index('one')"
      ],
      "execution_count": 0,
      "outputs": [
        {
          "output_type": "execute_result",
          "data": {
            "text/plain": [
              "0"
            ]
          },
          "metadata": {
            "tags": []
          },
          "execution_count": 6
        }
      ]
    },
    {
      "cell_type": "code",
      "metadata": {
        "id": "GcdBqtZgJFfT",
        "colab_type": "code",
        "colab": {},
        "outputId": "83a96883-d9d5-4cc9-ee57-a098fe4b0a7a"
      },
      "source": [
        "# Use .count to count the number of times a value appears\n",
        "t.count('one')"
      ],
      "execution_count": 0,
      "outputs": [
        {
          "output_type": "execute_result",
          "data": {
            "text/plain": [
              "1"
            ]
          },
          "metadata": {
            "tags": []
          },
          "execution_count": 7
        }
      ]
    },
    {
      "cell_type": "markdown",
      "metadata": {
        "id": "VLLOaWw7JFfZ",
        "colab_type": "text"
      },
      "source": [
        "## Immutability\n",
        "\n",
        "It can't be stressed enough that tuples are immutable. To drive that point home:"
      ]
    },
    {
      "cell_type": "code",
      "metadata": {
        "id": "uaXcoqMUJFfb",
        "colab_type": "code",
        "colab": {},
        "outputId": "3f3d461d-4876-42bc-b136-f9704b74ef9d"
      },
      "source": [
        "t[0]= 'change'"
      ],
      "execution_count": 0,
      "outputs": [
        {
          "output_type": "error",
          "ename": "TypeError",
          "evalue": "'tuple' object does not support item assignment",
          "traceback": [
            "\u001b[1;31m---------------------------------------------------------------------------\u001b[0m",
            "\u001b[1;31mTypeError\u001b[0m                                 Traceback (most recent call last)",
            "\u001b[1;32m<ipython-input-8-1257c0aa9edd>\u001b[0m in \u001b[0;36m<module>\u001b[1;34m()\u001b[0m\n\u001b[1;32m----> 1\u001b[1;33m \u001b[0mt\u001b[0m\u001b[1;33m[\u001b[0m\u001b[1;36m0\u001b[0m\u001b[1;33m]\u001b[0m\u001b[1;33m=\u001b[0m \u001b[1;34m'change'\u001b[0m\u001b[1;33m\u001b[0m\u001b[0m\n\u001b[0m",
            "\u001b[1;31mTypeError\u001b[0m: 'tuple' object does not support item assignment"
          ]
        }
      ]
    },
    {
      "cell_type": "markdown",
      "metadata": {
        "id": "JV5jlLfSJFff",
        "colab_type": "text"
      },
      "source": [
        "Because of this immutability, tuples can't grow. Once a tuple is made we can not add to it."
      ]
    },
    {
      "cell_type": "code",
      "metadata": {
        "id": "o-mdMseDJFfg",
        "colab_type": "code",
        "colab": {},
        "outputId": "5582b70e-e8c0-4fc8-b82b-2bdeefb8a0f8"
      },
      "source": [
        "t.append('nope')"
      ],
      "execution_count": 0,
      "outputs": [
        {
          "output_type": "error",
          "ename": "AttributeError",
          "evalue": "'tuple' object has no attribute 'append'",
          "traceback": [
            "\u001b[1;31m---------------------------------------------------------------------------\u001b[0m",
            "\u001b[1;31mAttributeError\u001b[0m                            Traceback (most recent call last)",
            "\u001b[1;32m<ipython-input-9-b75f5b09ac19>\u001b[0m in \u001b[0;36m<module>\u001b[1;34m()\u001b[0m\n\u001b[1;32m----> 1\u001b[1;33m \u001b[0mt\u001b[0m\u001b[1;33m.\u001b[0m\u001b[0mappend\u001b[0m\u001b[1;33m(\u001b[0m\u001b[1;34m'nope'\u001b[0m\u001b[1;33m)\u001b[0m\u001b[1;33m\u001b[0m\u001b[0m\n\u001b[0m",
            "\u001b[1;31mAttributeError\u001b[0m: 'tuple' object has no attribute 'append'"
          ]
        }
      ]
    }
  ]
}