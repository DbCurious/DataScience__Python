{
  "nbformat": 4,
  "nbformat_minor": 0,
  "metadata": {
    "kernelspec": {
      "display_name": "Python 3",
      "language": "python",
      "name": "python3"
    },
    "language_info": {
      "codemirror_mode": {
        "name": "ipython",
        "version": 3
      },
      "file_extension": ".py",
      "mimetype": "text/x-python",
      "name": "python",
      "nbconvert_exporter": "python",
      "pygments_lexer": "ipython3",
      "version": "3.6.2"
    },
    "colab": {
      "name": "03-for Loops.ipynb",
      "provenance": [],
      "collapsed_sections": []
    }
  },
  "cells": [
    {
      "cell_type": "markdown",
      "metadata": {
        "id": "fsaadYJwSeb0",
        "colab_type": "text"
      },
      "source": [
        "# for Loops\n",
        "\n",
        "A <code>for</code> loop acts as an iterator in Python; it goes through items that are in a *sequence* or any other iterable item. Objects that we've learned about that we can iterate over include strings, lists, tuples, and even built-in iterables for dictionaries, such as keys or values.\n",
        "\n",
        "General format for a <code>for</code> loop in Python:\n",
        "\n",
        "    for item in object:\n",
        "        statements to do stuff\n",
        "    "
      ]
    },
    {
      "cell_type": "markdown",
      "metadata": {
        "id": "F9N7XaRqSeb2",
        "colab_type": "text"
      },
      "source": [
        "The variable name used for the item is completely up to the coder, so use your best judgment for choosing a name that makes sense and you will be able to understand when revisiting your code. This item name can then be referenced inside your loop, for example if you wanted to use <code>if</code> statements to perform checks.\n",
        "\n",
        "\n",
        "\n",
        "## Example 1\n",
        "Iterating through a list"
      ]
    },
    {
      "cell_type": "code",
      "metadata": {
        "id": "OX636ZoASeb3",
        "colab_type": "code",
        "colab": {}
      },
      "source": [
        "# We'll learn how to automate this sort of list in the next lecture\n",
        "list1 = [1,2,3,4,5,6,7,8,9,10]"
      ],
      "execution_count": null,
      "outputs": []
    },
    {
      "cell_type": "code",
      "metadata": {
        "id": "aS62HDzzSecB",
        "colab_type": "code",
        "colab": {},
        "outputId": "22b81751-4b54-4246-925d-ad7980ad810e"
      },
      "source": [
        "for num in list1:\n",
        "    print(num)"
      ],
      "execution_count": null,
      "outputs": [
        {
          "output_type": "stream",
          "text": [
            "1\n",
            "2\n",
            "3\n",
            "4\n",
            "5\n",
            "6\n",
            "7\n",
            "8\n",
            "9\n",
            "10\n"
          ],
          "name": "stdout"
        }
      ]
    },
    {
      "cell_type": "markdown",
      "metadata": {
        "id": "uXrCpaFfSecH",
        "colab_type": "text"
      },
      "source": [
        "\n",
        "### Modulo\n",
        "The modulo allows us to get the remainder in a division and uses the % symbol. For example:"
      ]
    },
    {
      "cell_type": "code",
      "metadata": {
        "id": "PUj6YE-3SecI",
        "colab_type": "code",
        "colab": {},
        "outputId": "6d2da38b-0979-4f1c-c79c-1627902f8753"
      },
      "source": [
        "17 % 5"
      ],
      "execution_count": null,
      "outputs": [
        {
          "output_type": "execute_result",
          "data": {
            "text/plain": [
              "2"
            ]
          },
          "metadata": {
            "tags": []
          },
          "execution_count": 3
        }
      ]
    },
    {
      "cell_type": "code",
      "metadata": {
        "id": "o8RU_ZdPSecP",
        "colab_type": "code",
        "colab": {},
        "outputId": "2a7750c4-09e6-4272-f5a6-6be4d95eebe1"
      },
      "source": [
        "# 3 Remainder 1\n",
        "10 % 3"
      ],
      "execution_count": null,
      "outputs": [
        {
          "output_type": "execute_result",
          "data": {
            "text/plain": [
              "1"
            ]
          },
          "metadata": {
            "tags": []
          },
          "execution_count": 4
        }
      ]
    },
    {
      "cell_type": "code",
      "metadata": {
        "id": "94WcOq7OSecW",
        "colab_type": "code",
        "colab": {},
        "outputId": "614fcd77-4df0-45a0-ef90-8b7f2339fe38"
      },
      "source": [
        "# 2 Remainder 4\n",
        "18 % 7"
      ],
      "execution_count": null,
      "outputs": [
        {
          "output_type": "execute_result",
          "data": {
            "text/plain": [
              "4"
            ]
          },
          "metadata": {
            "tags": []
          },
          "execution_count": 5
        }
      ]
    },
    {
      "cell_type": "code",
      "metadata": {
        "id": "hVmHCSGtSeca",
        "colab_type": "code",
        "colab": {},
        "outputId": "67e88c35-fe0f-4bf9-b680-2d4061da88d0"
      },
      "source": [
        "# 2 no remainder\n",
        "4 % 2"
      ],
      "execution_count": null,
      "outputs": [
        {
          "output_type": "execute_result",
          "data": {
            "text/plain": [
              "0"
            ]
          },
          "metadata": {
            "tags": []
          },
          "execution_count": 6
        }
      ]
    },
    {
      "cell_type": "markdown",
      "metadata": {
        "id": "goJy6tx_Sech",
        "colab_type": "text"
      },
      "source": [
        "Notice that if a number is fully divisible with no remainder, the result of the modulo call is 0. We can use this to test for even numbers, since if a number modulo 2 is equal to 0, that means it is an even number!\n",
        "\n",
        "Back to the <code>for</code> loops!\n",
        "\n",
        "## Example 2\n",
        "Print only the even numbers from that list!"
      ]
    },
    {
      "cell_type": "code",
      "metadata": {
        "id": "oxuDI2CYSeci",
        "colab_type": "code",
        "colab": {},
        "outputId": "8baa4dfe-052e-43aa-de6f-111b08556f40"
      },
      "source": [
        "for num in list1:\n",
        "    if num % 2 == 0:\n",
        "        print(num)"
      ],
      "execution_count": null,
      "outputs": [
        {
          "output_type": "stream",
          "text": [
            "2\n",
            "4\n",
            "6\n",
            "8\n",
            "10\n"
          ],
          "name": "stdout"
        }
      ]
    },
    {
      "cell_type": "code",
      "metadata": {
        "id": "8wmB4dOFSecn",
        "colab_type": "code",
        "colab": {},
        "outputId": "c4d6e4c4-ee3e-4506-ec9a-bef6be6bde17"
      },
      "source": [
        "for num in list1:\n",
        "    if num % 2 == 0:\n",
        "        print(num)\n",
        "    else:\n",
        "        print('Odd number')"
      ],
      "execution_count": null,
      "outputs": [
        {
          "output_type": "stream",
          "text": [
            "Odd number\n",
            "2\n",
            "Odd number\n",
            "4\n",
            "Odd number\n",
            "6\n",
            "Odd number\n",
            "8\n",
            "Odd number\n",
            "10\n"
          ],
          "name": "stdout"
        }
      ]
    },
    {
      "cell_type": "markdown",
      "metadata": {
        "id": "5muAADRnSecu",
        "colab_type": "text"
      },
      "source": [
        "## Example 3\n",
        "Another common idea during a <code>for</code> loop is keeping some sort of running tally during multiple loops.  "
      ]
    },
    {
      "cell_type": "code",
      "metadata": {
        "id": "66kp6mCVSecw",
        "colab_type": "code",
        "colab": {},
        "outputId": "79dff4b0-d350-4fe1-8239-163904d858d0"
      },
      "source": [
        "# Start sum at zero\n",
        "list_sum = 0 \n",
        "\n",
        "for num in list1:\n",
        "    list_sum = list_sum + num\n",
        "\n",
        "print(list_sum)"
      ],
      "execution_count": null,
      "outputs": [
        {
          "output_type": "stream",
          "text": [
            "55\n"
          ],
          "name": "stdout"
        }
      ]
    },
    {
      "cell_type": "markdown",
      "metadata": {
        "id": "ChZy8L2pSec3",
        "colab_type": "text"
      },
      "source": [
        "Using +="
      ]
    },
    {
      "cell_type": "code",
      "metadata": {
        "id": "19jX1oGcSec4",
        "colab_type": "code",
        "colab": {},
        "outputId": "f4a6a72f-6de1-4407-96b8-bf376049839e"
      },
      "source": [
        "# Start sum at zero\n",
        "list_sum = 0 \n",
        "\n",
        "for num in list1:\n",
        "    list_sum += num\n",
        "\n",
        "print(list_sum)"
      ],
      "execution_count": null,
      "outputs": [
        {
          "output_type": "stream",
          "text": [
            "55\n"
          ],
          "name": "stdout"
        }
      ]
    },
    {
      "cell_type": "markdown",
      "metadata": {
        "id": "9E-A2NHlSedD",
        "colab_type": "text"
      },
      "source": [
        "## Example 4\n"
      ]
    },
    {
      "cell_type": "code",
      "metadata": {
        "id": "A9ZFmG0kSedE",
        "colab_type": "code",
        "colab": {},
        "outputId": "88a31a3d-da9f-4f64-82ca-284563e3559a"
      },
      "source": [
        "for letter in 'This is a string.':\n",
        "    print(letter)"
      ],
      "execution_count": null,
      "outputs": [
        {
          "output_type": "stream",
          "text": [
            "T\n",
            "h\n",
            "i\n",
            "s\n",
            " \n",
            "i\n",
            "s\n",
            " \n",
            "a\n",
            " \n",
            "s\n",
            "t\n",
            "r\n",
            "i\n",
            "n\n",
            "g\n",
            ".\n"
          ],
          "name": "stdout"
        }
      ]
    },
    {
      "cell_type": "markdown",
      "metadata": {
        "id": "0yayaHZbSedJ",
        "colab_type": "text"
      },
      "source": [
        "## Example 5\n",
        "How a <code>for</code> loop can be used with a tuple:"
      ]
    },
    {
      "cell_type": "code",
      "metadata": {
        "id": "cU-yXvMTSedJ",
        "colab_type": "code",
        "colab": {},
        "outputId": "4559e233-cec5-4a04-c68e-28f33e601663"
      },
      "source": [
        "tup = (1,2,3,4,5)\n",
        "\n",
        "for t in tup:\n",
        "    print(t)"
      ],
      "execution_count": null,
      "outputs": [
        {
          "output_type": "stream",
          "text": [
            "1\n",
            "2\n",
            "3\n",
            "4\n",
            "5\n"
          ],
          "name": "stdout"
        }
      ]
    },
    {
      "cell_type": "markdown",
      "metadata": {
        "id": "b-0aBru6SedN",
        "colab_type": "text"
      },
      "source": [
        "## Example 6\n",
        "Tuples have a special quality when it comes to <code>for</code> loops. If you are iterating through a sequence that contains tuples, the item can actually be the tuple itself, this is an example of *tuple unpacking*. During the <code>for</code> loop we will be unpacking the tuple inside of a sequence and we can access the individual items inside that tuple!"
      ]
    },
    {
      "cell_type": "code",
      "metadata": {
        "id": "9IGLGa3jSedN",
        "colab_type": "code",
        "colab": {}
      },
      "source": [
        "list2 = [(2,4),(6,8),(10,12)]"
      ],
      "execution_count": null,
      "outputs": []
    },
    {
      "cell_type": "code",
      "metadata": {
        "id": "K0_ghp89SedR",
        "colab_type": "code",
        "colab": {},
        "outputId": "3e81d8cf-e7c5-4343-ca38-3487f817c1bf"
      },
      "source": [
        "for tup in list2:\n",
        "    print(tup)"
      ],
      "execution_count": null,
      "outputs": [
        {
          "output_type": "stream",
          "text": [
            "(2, 4)\n",
            "(6, 8)\n",
            "(10, 12)\n"
          ],
          "name": "stdout"
        }
      ]
    },
    {
      "cell_type": "code",
      "metadata": {
        "id": "YlGbi7TgSedU",
        "colab_type": "code",
        "colab": {},
        "outputId": "b5fa3f4e-edac-49c1-977c-35249937caf1"
      },
      "source": [
        "# Now with unpacking!\n",
        "for (t1,t2) in list2:\n",
        "    print(t1)"
      ],
      "execution_count": null,
      "outputs": [
        {
          "output_type": "stream",
          "text": [
            "2\n",
            "6\n",
            "10\n"
          ],
          "name": "stdout"
        }
      ]
    },
    {
      "cell_type": "markdown",
      "metadata": {
        "id": "IL6wdRSDSedY",
        "colab_type": "text"
      },
      "source": [
        "## Example 7"
      ]
    },
    {
      "cell_type": "code",
      "metadata": {
        "id": "DXO9fOLqSedZ",
        "colab_type": "code",
        "colab": {}
      },
      "source": [
        "d = {'k1':1,'k2':2,'k3':3}"
      ],
      "execution_count": null,
      "outputs": []
    },
    {
      "cell_type": "code",
      "metadata": {
        "id": "IHcm4zSdSedd",
        "colab_type": "code",
        "colab": {},
        "outputId": "ee076e9e-ade3-492c-c806-4ac49acce2a1"
      },
      "source": [
        "for item in d:\n",
        "    print(item)"
      ],
      "execution_count": null,
      "outputs": [
        {
          "output_type": "stream",
          "text": [
            "k1\n",
            "k2\n",
            "k3\n"
          ],
          "name": "stdout"
        }
      ]
    },
    {
      "cell_type": "markdown",
      "metadata": {
        "id": "_WYdGggsSedh",
        "colab_type": "text"
      },
      "source": [
        "Notice how this produces only the keys. So how can we get the values? Or both the keys and the values? \n",
        "\n",
        "We're going to introduce three new Dictionary methods: **.keys()**, **.values()** and **.items()**\n",
        "\n",
        "In Python each of these methods return a *dictionary view object*. It supports operations like membership test and iteration, but its contents are not independent of the original dictionary – it is only a view."
      ]
    },
    {
      "cell_type": "code",
      "metadata": {
        "id": "Oamp2IuoSedi",
        "colab_type": "code",
        "colab": {},
        "outputId": "c3e338de-c7df-4797-f38f-e0c149a17022"
      },
      "source": [
        "# Create a dictionary view object\n",
        "d.items()"
      ],
      "execution_count": null,
      "outputs": [
        {
          "output_type": "execute_result",
          "data": {
            "text/plain": [
              "dict_items([('k1', 1), ('k2', 2), ('k3', 3)])"
            ]
          },
          "metadata": {
            "tags": []
          },
          "execution_count": 18
        }
      ]
    },
    {
      "cell_type": "markdown",
      "metadata": {
        "id": "QMg2oj4rSedl",
        "colab_type": "text"
      },
      "source": [
        "Since the .items() method supports iteration, we can perform *dictionary unpacking* to separate keys and values."
      ]
    },
    {
      "cell_type": "code",
      "metadata": {
        "id": "Ju63bFHRSedl",
        "colab_type": "code",
        "colab": {},
        "outputId": "15afcfc3-fd18-4631-983a-a8b99066c6da"
      },
      "source": [
        "# Dictionary unpacking\n",
        "for k,v in d.items():\n",
        "    print(k)\n",
        "    print(v) "
      ],
      "execution_count": null,
      "outputs": [
        {
          "output_type": "stream",
          "text": [
            "k1\n",
            "1\n",
            "k2\n",
            "2\n",
            "k3\n",
            "3\n"
          ],
          "name": "stdout"
        }
      ]
    },
    {
      "cell_type": "markdown",
      "metadata": {
        "id": "z4SXxEo4Sedp",
        "colab_type": "text"
      },
      "source": [
        "If you want to obtain a true list of keys, values, or key/value tuples, you can *cast* the view as a list:"
      ]
    },
    {
      "cell_type": "code",
      "metadata": {
        "id": "mxYxN5i5Sedp",
        "colab_type": "code",
        "colab": {},
        "outputId": "8c379ac6-5c78-459f-b65f-3053cbc5f4d2"
      },
      "source": [
        "list(d.keys())"
      ],
      "execution_count": null,
      "outputs": [
        {
          "output_type": "execute_result",
          "data": {
            "text/plain": [
              "['k1', 'k2', 'k3']"
            ]
          },
          "metadata": {
            "tags": []
          },
          "execution_count": 20
        }
      ]
    },
    {
      "cell_type": "markdown",
      "metadata": {
        "id": "npr4gDY1Sedv",
        "colab_type": "text"
      },
      "source": [
        "Remember that dictionaries are unordered, and that keys and values come back in arbitrary order. You can obtain a sorted list using sorted():"
      ]
    },
    {
      "cell_type": "code",
      "metadata": {
        "id": "sNf97XpWSedw",
        "colab_type": "code",
        "colab": {},
        "outputId": "5e614817-aed8-4051-c10e-983176b41de7"
      },
      "source": [
        "sorted(d.values())"
      ],
      "execution_count": null,
      "outputs": [
        {
          "output_type": "execute_result",
          "data": {
            "text/plain": [
              "[1, 2, 3]"
            ]
          },
          "metadata": {
            "tags": []
          },
          "execution_count": 21
        }
      ]
    }
  ]
}