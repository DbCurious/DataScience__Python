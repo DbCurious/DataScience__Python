{
  "nbformat": 4,
  "nbformat_minor": 0,
  "metadata": {
    "kernelspec": {
      "display_name": "Python 3",
      "language": "python",
      "name": "python3"
    },
    "language_info": {
      "codemirror_mode": {
        "name": "ipython",
        "version": 3
      },
      "file_extension": ".py",
      "mimetype": "text/x-python",
      "name": "python",
      "nbconvert_exporter": "python",
      "pygments_lexer": "ipython3",
      "version": "3.6.2"
    },
    "colab": {
      "name": "06-List Comprehensions.ipynb",
      "provenance": [],
      "collapsed_sections": []
    }
  },
  "cells": [
    {
      "cell_type": "markdown",
      "metadata": {
        "collapsed": true,
        "id": "6LVqgCTbxlzn",
        "colab_type": "text"
      },
      "source": [
        "# List Comprehensions\n",
        "\n",
        "In addition to sequence operations and list methods, Python includes a more advanced operation called a list comprehension.\n",
        "\n",
        "List comprehensions allow us to build out lists using a different notation. You can think of it as essentially a one line <code>for</code> loop built inside of brackets. For a simple example:\n",
        "## Example 1"
      ]
    },
    {
      "cell_type": "code",
      "metadata": {
        "id": "7wuayyIrxlzp",
        "colab_type": "code",
        "colab": {}
      },
      "source": [
        "# Grab every letter in string\n",
        "lst = [x for x in 'word']"
      ],
      "execution_count": null,
      "outputs": []
    },
    {
      "cell_type": "code",
      "metadata": {
        "id": "PZLdVBmPxlzw",
        "colab_type": "code",
        "colab": {},
        "outputId": "db777dd2-c1f7-4ec9-98d8-f5f3da62abda"
      },
      "source": [
        "# Check\n",
        "lst"
      ],
      "execution_count": null,
      "outputs": [
        {
          "output_type": "execute_result",
          "data": {
            "text/plain": [
              "['w', 'o', 'r', 'd']"
            ]
          },
          "metadata": {
            "tags": []
          },
          "execution_count": 2
        }
      ]
    },
    {
      "cell_type": "markdown",
      "metadata": {
        "id": "2vHGoy4Dxlz2",
        "colab_type": "text"
      },
      "source": [
        "This is the basic idea of a list comprehension. If you're familiar with mathematical notation this format should feel familiar for example: x^2 : x in { 0,1,2...10 } \n",
        "\n",
        "## Example 2"
      ]
    },
    {
      "cell_type": "code",
      "metadata": {
        "id": "9sjJ4GRaxlz3",
        "colab_type": "code",
        "colab": {}
      },
      "source": [
        "# Square numbers in range and turn into list\n",
        "lst = [x**2 for x in range(0,11)]"
      ],
      "execution_count": null,
      "outputs": []
    },
    {
      "cell_type": "code",
      "metadata": {
        "id": "SmST0775xlz6",
        "colab_type": "code",
        "colab": {},
        "outputId": "62a8f97c-71e5-46f9-96d5-d40850e76125"
      },
      "source": [
        "lst"
      ],
      "execution_count": null,
      "outputs": [
        {
          "output_type": "execute_result",
          "data": {
            "text/plain": [
              "[0, 1, 4, 9, 16, 25, 36, 49, 64, 81, 100]"
            ]
          },
          "metadata": {
            "tags": []
          },
          "execution_count": 4
        }
      ]
    },
    {
      "cell_type": "markdown",
      "metadata": {
        "id": "Oiikic78xl0A",
        "colab_type": "text"
      },
      "source": [
        "## Example 3\n",
        "How to add in <code>if</code> statements:"
      ]
    },
    {
      "cell_type": "code",
      "metadata": {
        "id": "roiy8TtQxl0B",
        "colab_type": "code",
        "colab": {}
      },
      "source": [
        "# Check for even numbers in a range\n",
        "lst = [x for x in range(11) if x % 2 == 0]"
      ],
      "execution_count": null,
      "outputs": []
    },
    {
      "cell_type": "code",
      "metadata": {
        "id": "hzr6BvmSxl0E",
        "colab_type": "code",
        "colab": {},
        "outputId": "eb3dc8f2-b235-4017-cf30-a6b4de29aeba"
      },
      "source": [
        "lst"
      ],
      "execution_count": null,
      "outputs": [
        {
          "output_type": "execute_result",
          "data": {
            "text/plain": [
              "[0, 2, 4, 6, 8, 10]"
            ]
          },
          "metadata": {
            "tags": []
          },
          "execution_count": 6
        }
      ]
    },
    {
      "cell_type": "markdown",
      "metadata": {
        "id": "Q7FSRIn2xl0I",
        "colab_type": "text"
      },
      "source": [
        "## Example 4\n",
        "Can also do more complicated arithmetic:"
      ]
    },
    {
      "cell_type": "code",
      "metadata": {
        "id": "EG_3OABxxl0K",
        "colab_type": "code",
        "colab": {},
        "outputId": "30361802-dd5b-4b9c-9364-95e593bf5bc6"
      },
      "source": [
        "# Convert Celsius to Fahrenheit\n",
        "celsius = [0,10,20.1,34.5]\n",
        "\n",
        "fahrenheit = [((9/5)*temp + 32) for temp in celsius ]\n",
        "\n",
        "fahrenheit"
      ],
      "execution_count": null,
      "outputs": [
        {
          "output_type": "execute_result",
          "data": {
            "text/plain": [
              "[32.0, 50.0, 68.18, 94.1]"
            ]
          },
          "metadata": {
            "tags": []
          },
          "execution_count": 7
        }
      ]
    },
    {
      "cell_type": "markdown",
      "metadata": {
        "id": "SCxFlT49xl0P",
        "colab_type": "text"
      },
      "source": [
        "## Example 5\n",
        "We can also perform nested list comprehensions, for example:"
      ]
    },
    {
      "cell_type": "code",
      "metadata": {
        "id": "prARoUGGxl0P",
        "colab_type": "code",
        "colab": {},
        "outputId": "402d422d-f1de-41dd-ce37-9dd1731fd255"
      },
      "source": [
        "lst = [ x**2 for x in [x**2 for x in range(11)]]\n",
        "lst"
      ],
      "execution_count": null,
      "outputs": [
        {
          "output_type": "execute_result",
          "data": {
            "text/plain": [
              "[0, 1, 16, 81, 256, 625, 1296, 2401, 4096, 6561, 10000]"
            ]
          },
          "metadata": {
            "tags": []
          },
          "execution_count": 8
        }
      ]
    }
  ]
}