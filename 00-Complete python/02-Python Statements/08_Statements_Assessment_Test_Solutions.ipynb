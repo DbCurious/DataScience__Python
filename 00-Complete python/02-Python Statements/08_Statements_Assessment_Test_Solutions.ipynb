{
  "nbformat": 4,
  "nbformat_minor": 0,
  "metadata": {
    "kernelspec": {
      "display_name": "Python 3",
      "language": "python",
      "name": "python3"
    },
    "language_info": {
      "codemirror_mode": {
        "name": "ipython",
        "version": 3
      },
      "file_extension": ".py",
      "mimetype": "text/x-python",
      "name": "python",
      "nbconvert_exporter": "python",
      "pygments_lexer": "ipython3",
      "version": "3.6.2"
    },
    "colab": {
      "name": "08-Statements Assessment Test - Solutions.ipynb",
      "provenance": [],
      "collapsed_sections": []
    }
  },
  "cells": [
    {
      "cell_type": "markdown",
      "metadata": {
        "collapsed": true,
        "id": "IfbihUdGJmfN",
        "colab_type": "text"
      },
      "source": [
        "# Statements Assessment Solutions"
      ]
    },
    {
      "cell_type": "markdown",
      "metadata": {
        "id": "E1wx4woIJmfO",
        "colab_type": "text"
      },
      "source": [
        "_____\n",
        "**Use <code>for</code>, .split(), and <code>if</code> to create a Statement that will print out words that start with 's':**"
      ]
    },
    {
      "cell_type": "code",
      "metadata": {
        "id": "ZhNUETGHJmfP",
        "colab_type": "code",
        "colab": {}
      },
      "source": [
        "st = 'Print only the words that start with s in this sentence'"
      ],
      "execution_count": null,
      "outputs": []
    },
    {
      "cell_type": "code",
      "metadata": {
        "id": "qDYrnNBkJmfW",
        "colab_type": "code",
        "colab": {},
        "outputId": "4c585279-0133-47bd-8f46-f39dba55c88d"
      },
      "source": [
        "for word in st.split():\n",
        "    if word[0] == 's':\n",
        "        print(word)"
      ],
      "execution_count": null,
      "outputs": [
        {
          "output_type": "stream",
          "text": [
            "start\n",
            "s\n",
            "sentence\n"
          ],
          "name": "stdout"
        }
      ]
    },
    {
      "cell_type": "markdown",
      "metadata": {
        "id": "35NkswCfJmfd",
        "colab_type": "text"
      },
      "source": [
        "______\n",
        "**Use range() to print all the even numbers from 0 to 10.**"
      ]
    },
    {
      "cell_type": "code",
      "metadata": {
        "id": "YYI7d59RJmfe",
        "colab_type": "code",
        "colab": {},
        "outputId": "8e2e8b9a-231c-44e3-8c0a-03334d0beffb"
      },
      "source": [
        "list(range(0,11,2))"
      ],
      "execution_count": null,
      "outputs": [
        {
          "output_type": "execute_result",
          "data": {
            "text/plain": [
              "[0, 2, 4, 6, 8, 10]"
            ]
          },
          "metadata": {
            "tags": []
          },
          "execution_count": 3
        }
      ]
    },
    {
      "cell_type": "markdown",
      "metadata": {
        "id": "TjRa9c25Jmfj",
        "colab_type": "text"
      },
      "source": [
        "___\n",
        "**Use List comprehension to create a list of all numbers between 1 and 50 that are divisible by 3.**"
      ]
    },
    {
      "cell_type": "code",
      "metadata": {
        "id": "vFcHulTuJmfk",
        "colab_type": "code",
        "colab": {},
        "outputId": "1d565dd6-2f2b-4795-c682-8890b6accad8"
      },
      "source": [
        "[x for x in range(1,51) if x%3 == 0]"
      ],
      "execution_count": null,
      "outputs": [
        {
          "output_type": "execute_result",
          "data": {
            "text/plain": [
              "[3, 6, 9, 12, 15, 18, 21, 24, 27, 30, 33, 36, 39, 42, 45, 48]"
            ]
          },
          "metadata": {
            "tags": []
          },
          "execution_count": 4
        }
      ]
    },
    {
      "cell_type": "markdown",
      "metadata": {
        "id": "-j0YMivEJmfn",
        "colab_type": "text"
      },
      "source": [
        "_____\n",
        "**Go through the string below and if the length of a word is even print \"even!\"**"
      ]
    },
    {
      "cell_type": "code",
      "metadata": {
        "id": "se3z-x3gJmfo",
        "colab_type": "code",
        "colab": {}
      },
      "source": [
        "st = 'Print every word in this sentence that has an even number of letters'"
      ],
      "execution_count": null,
      "outputs": []
    },
    {
      "cell_type": "code",
      "metadata": {
        "id": "PRMZiOsAJmfs",
        "colab_type": "code",
        "colab": {},
        "outputId": "d8377502-f367-4ca6-81fb-5fb93abaa3ec"
      },
      "source": [
        "for word in st.split():\n",
        "    if len(word)%2 == 0:\n",
        "        print(word+\" <-- has an even length!\")"
      ],
      "execution_count": null,
      "outputs": [
        {
          "output_type": "stream",
          "text": [
            "word <-- has an even length!\n",
            "in <-- has an even length!\n",
            "this <-- has an even length!\n",
            "sentence <-- has an even length!\n",
            "that <-- has an even length!\n",
            "an <-- has an even length!\n",
            "even <-- has an even length!\n",
            "number <-- has an even length!\n",
            "of <-- has an even length!\n"
          ],
          "name": "stdout"
        }
      ]
    },
    {
      "cell_type": "markdown",
      "metadata": {
        "id": "ky3DMK10Jmfv",
        "colab_type": "text"
      },
      "source": [
        "____\n",
        "**Write a program that prints the integers from 1 to 100. But for multiples of three print \"Fizz\" instead of the number, and for the multiples of five print \"Buzz\". For numbers which are multiples of both three and five print \"FizzBuzz\".**"
      ]
    },
    {
      "cell_type": "code",
      "metadata": {
        "id": "xOIFoMFHJmfw",
        "colab_type": "code",
        "colab": {}
      },
      "source": [
        "for num in range(1,101):\n",
        "    if num % 3 == 0 and num % 5 == 0:\n",
        "        print(\"FizzBuzz\")\n",
        "    elif num % 3 == 0:\n",
        "        print(\"Fizz\")\n",
        "    elif num % 5 == 0:\n",
        "        print(\"Buzz\")\n",
        "    else:\n",
        "        print(num)"
      ],
      "execution_count": null,
      "outputs": []
    },
    {
      "cell_type": "markdown",
      "metadata": {
        "id": "QvJe_bzmJmf1",
        "colab_type": "text"
      },
      "source": [
        "____\n",
        "**Use a List Comprehension to create a list of the first letters of every word in the string below:**"
      ]
    },
    {
      "cell_type": "code",
      "metadata": {
        "id": "3FaEtFMMJmf3",
        "colab_type": "code",
        "colab": {}
      },
      "source": [
        "st = 'Create a list of the first letters of every word in this string'"
      ],
      "execution_count": null,
      "outputs": []
    },
    {
      "cell_type": "code",
      "metadata": {
        "id": "O_Gu-SGyJmf8",
        "colab_type": "code",
        "colab": {},
        "outputId": "09f1f34b-f40c-409f-d819-d7cd940b7485"
      },
      "source": [
        "[word[0] for word in st.split()]"
      ],
      "execution_count": null,
      "outputs": [
        {
          "output_type": "execute_result",
          "data": {
            "text/plain": [
              "['C', 'a', 'l', 'o', 't', 'f', 'l', 'o', 'e', 'w', 'i', 't', 's']"
            ]
          },
          "metadata": {
            "tags": []
          },
          "execution_count": 8
        }
      ]
    }
  ]
}