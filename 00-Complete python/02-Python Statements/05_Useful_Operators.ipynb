{
  "nbformat": 4,
  "nbformat_minor": 0,
  "metadata": {
    "kernelspec": {
      "display_name": "Python 3",
      "language": "python",
      "name": "python3"
    },
    "language_info": {
      "codemirror_mode": {
        "name": "ipython",
        "version": 3
      },
      "file_extension": ".py",
      "mimetype": "text/x-python",
      "name": "python",
      "nbconvert_exporter": "python",
      "pygments_lexer": "ipython3",
      "version": "3.6.1"
    },
    "colab": {
      "name": "05-Useful-Operators.ipynb",
      "provenance": [],
      "collapsed_sections": []
    }
  },
  "cells": [
    {
      "cell_type": "markdown",
      "metadata": {
        "id": "oBcEbUd-pLUx",
        "colab_type": "text"
      },
      "source": [
        "# Operators\n",
        "\n"
      ]
    },
    {
      "cell_type": "markdown",
      "metadata": {
        "id": "IEt36AfgpLU1",
        "colab_type": "text"
      },
      "source": [
        "## range\n",
        "\n",
        "The range function allows you to quickly *generate* a list of integers, this comes in handy a lot, so take note of how to use it! There are 3 parameters you can pass, a start, a stop, and a step size. "
      ]
    },
    {
      "cell_type": "code",
      "metadata": {
        "id": "P1CZIrPepLU4",
        "colab_type": "code",
        "colab": {},
        "outputId": "52648d1c-a67f-4ed2-e0ca-6d47c6e221cd"
      },
      "source": [
        "range(0,11)"
      ],
      "execution_count": null,
      "outputs": [
        {
          "output_type": "execute_result",
          "data": {
            "text/plain": [
              "range(0, 11)"
            ]
          },
          "metadata": {
            "tags": []
          },
          "execution_count": 1
        }
      ]
    },
    {
      "cell_type": "markdown",
      "metadata": {
        "id": "xAk-b36WpLU_",
        "colab_type": "text"
      },
      "source": [
        "Note that this is a **generator** function, so to actually get a list out of it, we need to cast it to a list with **list()**. What is a generator? Its a special type of function that will generate information and not need to save it to memory."
      ]
    },
    {
      "cell_type": "code",
      "metadata": {
        "id": "STlPXO41pLU_",
        "colab_type": "code",
        "colab": {},
        "outputId": "a67e9e20-1fd8-4453-8f63-5db3d889f311"
      },
      "source": [
        "# Notice how 11 is not included, up to but not including 11, just like slice notation!\n",
        "list(range(0,11))"
      ],
      "execution_count": null,
      "outputs": [
        {
          "output_type": "execute_result",
          "data": {
            "text/plain": [
              "[0, 1, 2, 3, 4, 5, 6, 7, 8, 9, 10]"
            ]
          },
          "metadata": {
            "tags": []
          },
          "execution_count": 3
        }
      ]
    },
    {
      "cell_type": "code",
      "metadata": {
        "id": "w_s3ItpSpLVD",
        "colab_type": "code",
        "colab": {},
        "outputId": "8ceb7a6e-0bba-4de8-d911-8ae030ae4a68"
      },
      "source": [
        "list(range(0,12))"
      ],
      "execution_count": null,
      "outputs": [
        {
          "output_type": "execute_result",
          "data": {
            "text/plain": [
              "[0, 1, 2, 3, 4, 5, 6, 7, 8, 9, 10, 11]"
            ]
          },
          "metadata": {
            "tags": []
          },
          "execution_count": 4
        }
      ]
    },
    {
      "cell_type": "code",
      "metadata": {
        "id": "yYHqm1n5pLVK",
        "colab_type": "code",
        "colab": {},
        "outputId": "f4e3f5bd-7115-4f1d-adcb-60a5a382dca7"
      },
      "source": [
        "# Third parameter is step size!\n",
        "# step size just means how big of a jump/leap/step you \n",
        "# take from the starting number to get to the next number.\n",
        "\n",
        "list(range(0,11,2))"
      ],
      "execution_count": null,
      "outputs": [
        {
          "output_type": "execute_result",
          "data": {
            "text/plain": [
              "[0, 2, 4, 6, 8, 10]"
            ]
          },
          "metadata": {
            "tags": []
          },
          "execution_count": 6
        }
      ]
    },
    {
      "cell_type": "code",
      "metadata": {
        "id": "MBZfsaBQpLVP",
        "colab_type": "code",
        "colab": {},
        "outputId": "bad07922-af52-4555-bd21-4ce942f9e7f6"
      },
      "source": [
        "list(range(0,101,10))"
      ],
      "execution_count": null,
      "outputs": [
        {
          "output_type": "execute_result",
          "data": {
            "text/plain": [
              "[0, 10, 20, 30, 40, 50, 60, 70, 80, 90, 100]"
            ]
          },
          "metadata": {
            "tags": []
          },
          "execution_count": 7
        }
      ]
    },
    {
      "cell_type": "markdown",
      "metadata": {
        "id": "lCCyk2A9pLVT",
        "colab_type": "text"
      },
      "source": [
        "## enumerate\n",
        "\n",
        "enumerate is a very useful function to use with for loops."
      ]
    },
    {
      "cell_type": "code",
      "metadata": {
        "id": "0lgWdxUGpLVT",
        "colab_type": "code",
        "colab": {},
        "outputId": "412dcfa7-bffe-4926-fea0-d857fe4cc06a"
      },
      "source": [
        "index_count = 0\n",
        "\n",
        "for letter in 'abcde':\n",
        "    print(\"At index {} the letter is {}\".format(index_count,letter))\n",
        "    index_count += 1"
      ],
      "execution_count": null,
      "outputs": [
        {
          "output_type": "stream",
          "text": [
            "At index 0 the letter is a\n",
            "At index 1 the letter is b\n",
            "At index 2 the letter is c\n",
            "At index 3 the letter is d\n",
            "At index 4 the letter is e\n"
          ],
          "name": "stdout"
        }
      ]
    },
    {
      "cell_type": "markdown",
      "metadata": {
        "id": "hFotTz-1pLVY",
        "colab_type": "text"
      },
      "source": [
        "Keeping track of how many loops you've gone through is so common, that enumerate was created so you don't need to worry about creating and updating this index_count or loop_count variable"
      ]
    },
    {
      "cell_type": "code",
      "metadata": {
        "id": "Vflw9l6ZpLVY",
        "colab_type": "code",
        "colab": {},
        "outputId": "bfdcfd40-55a9-474d-f4cf-007b5e68e7a3"
      },
      "source": [
        "# Notice the tuple unpacking!\n",
        "\n",
        "for i,letter in enumerate('abcde'):\n",
        "    print(\"At index {} the letter is {}\".format(i,letter))"
      ],
      "execution_count": null,
      "outputs": [
        {
          "output_type": "stream",
          "text": [
            "At index 0 the letter is a\n",
            "At index 1 the letter is b\n",
            "At index 2 the letter is c\n",
            "At index 3 the letter is d\n",
            "At index 4 the letter is e\n"
          ],
          "name": "stdout"
        }
      ]
    },
    {
      "cell_type": "markdown",
      "metadata": {
        "id": "woGO8ryZpLVc",
        "colab_type": "text"
      },
      "source": [
        "## zip\n",
        "\n",
        "Notice the format enumerate actually returns, "
      ]
    },
    {
      "cell_type": "code",
      "metadata": {
        "id": "ElHXrib6pLVc",
        "colab_type": "code",
        "colab": {},
        "outputId": "3f4d90cd-9cf3-418a-e57b-f6f4b2c7e8a5"
      },
      "source": [
        "list(enumerate('abcde'))"
      ],
      "execution_count": null,
      "outputs": [
        {
          "output_type": "execute_result",
          "data": {
            "text/plain": [
              "[(0, 'a'), (1, 'b'), (2, 'c'), (3, 'd'), (4, 'e')]"
            ]
          },
          "metadata": {
            "tags": []
          },
          "execution_count": 12
        }
      ]
    },
    {
      "cell_type": "markdown",
      "metadata": {
        "id": "6-IAMpKVpLVf",
        "colab_type": "text"
      },
      "source": [
        "It was a list of tuples, meaning we could use tuple unpacking during our for loop. This data structure is actually very common in Python , especially when working with outside libraries. You can use the **zip()** function to quickly create a list of tuples by \"zipping\" up together two lists."
      ]
    },
    {
      "cell_type": "code",
      "metadata": {
        "id": "JjHcJ8sIpLVj",
        "colab_type": "code",
        "colab": {}
      },
      "source": [
        "mylist1 = [1,2,3,4,5]\n",
        "mylist2 = ['a','b','c','d','e']"
      ],
      "execution_count": null,
      "outputs": []
    },
    {
      "cell_type": "code",
      "metadata": {
        "id": "5D_vd8iepLVo",
        "colab_type": "code",
        "colab": {},
        "outputId": "ab54b230-5a33-41ee-a135-91c5896b2f2d"
      },
      "source": [
        "# This one is also a generator! We will explain this later, but for now let's transform it to a list\n",
        "zip(mylist1,mylist2)"
      ],
      "execution_count": null,
      "outputs": [
        {
          "output_type": "execute_result",
          "data": {
            "text/plain": [
              "<zip at 0x1d205086f08>"
            ]
          },
          "metadata": {
            "tags": []
          },
          "execution_count": 15
        }
      ]
    },
    {
      "cell_type": "code",
      "metadata": {
        "id": "2DrtvzqvpLVs",
        "colab_type": "code",
        "colab": {},
        "outputId": "0fa05ab7-bb81-4443-c894-9d8a8a4fb0cf"
      },
      "source": [
        "list(zip(mylist1,mylist2))"
      ],
      "execution_count": null,
      "outputs": [
        {
          "output_type": "execute_result",
          "data": {
            "text/plain": [
              "[(1, 'a'), (2, 'b'), (3, 'c'), (4, 'd'), (5, 'e')]"
            ]
          },
          "metadata": {
            "tags": []
          },
          "execution_count": 17
        }
      ]
    },
    {
      "cell_type": "markdown",
      "metadata": {
        "id": "Aj5eC1IQpLVv",
        "colab_type": "text"
      },
      "source": [
        "To use the generator, we could just use a for loop"
      ]
    },
    {
      "cell_type": "code",
      "metadata": {
        "id": "KT13-PespLVw",
        "colab_type": "code",
        "colab": {},
        "outputId": "8782d353-5072-48cc-dc3b-5473a8fc4f30"
      },
      "source": [
        "for item1, item2 in zip(mylist1,mylist2):\n",
        "    print('For this tuple, first item was {} and second item was {}'.format(item1,item2))"
      ],
      "execution_count": null,
      "outputs": [
        {
          "output_type": "stream",
          "text": [
            "For this tuple, first item was 1 and second item was a\n",
            "For this tuple, first item was 2 and second item was b\n",
            "For this tuple, first item was 3 and second item was c\n",
            "For this tuple, first item was 4 and second item was d\n",
            "For this tuple, first item was 5 and second item was e\n"
          ],
          "name": "stdout"
        }
      ]
    },
    {
      "cell_type": "markdown",
      "metadata": {
        "id": "C4yXQxirpLVy",
        "colab_type": "text"
      },
      "source": [
        "## in operator\n",
        "\n",
        "We've already seen the **in** keyword durng the for loop, but we can also use it to quickly check if an object is in a list"
      ]
    },
    {
      "cell_type": "code",
      "metadata": {
        "id": "XNmjE91EpLVz",
        "colab_type": "code",
        "colab": {},
        "outputId": "3cae807f-ee31-457d-f33d-543a8e0cbf1b"
      },
      "source": [
        "'x' in ['x','y','z']"
      ],
      "execution_count": null,
      "outputs": [
        {
          "output_type": "execute_result",
          "data": {
            "text/plain": [
              "True"
            ]
          },
          "metadata": {
            "tags": []
          },
          "execution_count": 21
        }
      ]
    },
    {
      "cell_type": "code",
      "metadata": {
        "id": "CfB1NWdspLV3",
        "colab_type": "code",
        "colab": {},
        "outputId": "152338e1-24d8-4978-d072-ab3c45f0e5af"
      },
      "source": [
        "'x' in [1,2,3]"
      ],
      "execution_count": null,
      "outputs": [
        {
          "output_type": "execute_result",
          "data": {
            "text/plain": [
              "False"
            ]
          },
          "metadata": {
            "tags": []
          },
          "execution_count": 22
        }
      ]
    },
    {
      "cell_type": "markdown",
      "metadata": {
        "id": "O4sHUuDopLV8",
        "colab_type": "text"
      },
      "source": [
        "## min and max\n",
        "\n",
        "Quickly check the minimum or maximum of a list with these functions."
      ]
    },
    {
      "cell_type": "code",
      "metadata": {
        "id": "pX1lDJi8pLV8",
        "colab_type": "code",
        "colab": {}
      },
      "source": [
        "mylist = [10,20,30,40,100]"
      ],
      "execution_count": null,
      "outputs": []
    },
    {
      "cell_type": "code",
      "metadata": {
        "id": "eu69O6hypLV_",
        "colab_type": "code",
        "colab": {},
        "outputId": "8381543c-f627-4eaf-df93-b5d5db2e63ee"
      },
      "source": [
        "min(mylist)"
      ],
      "execution_count": null,
      "outputs": [
        {
          "output_type": "execute_result",
          "data": {
            "text/plain": [
              "10"
            ]
          },
          "metadata": {
            "tags": []
          },
          "execution_count": 27
        }
      ]
    },
    {
      "cell_type": "code",
      "metadata": {
        "id": "49EeOAQppLWE",
        "colab_type": "code",
        "colab": {},
        "outputId": "fd0cf1d1-4a99-4911-9260-994b97996179"
      },
      "source": [
        "max(mylist)"
      ],
      "execution_count": null,
      "outputs": [
        {
          "output_type": "execute_result",
          "data": {
            "text/plain": [
              "100"
            ]
          },
          "metadata": {
            "tags": []
          },
          "execution_count": 44
        }
      ]
    },
    {
      "cell_type": "markdown",
      "metadata": {
        "id": "cq-gR5_5pLWI",
        "colab_type": "text"
      },
      "source": [
        "## random\n",
        "\n",
        "Python comes with a built in random library. There are a lot of functions included in this random library, so we will only show you two useful functions for now."
      ]
    },
    {
      "cell_type": "code",
      "metadata": {
        "id": "ubjfmyc-pLWJ",
        "colab_type": "code",
        "colab": {}
      },
      "source": [
        "from random import shuffle"
      ],
      "execution_count": null,
      "outputs": []
    },
    {
      "cell_type": "code",
      "metadata": {
        "id": "7wpIh73IpLWM",
        "colab_type": "code",
        "colab": {}
      },
      "source": [
        "# This shuffles the list \"in-place\" meaning it won't return\n",
        "# anything, instead it will effect the list passed\n",
        "shuffle(mylist)"
      ],
      "execution_count": null,
      "outputs": []
    },
    {
      "cell_type": "code",
      "metadata": {
        "id": "6UUw-4nhpLWQ",
        "colab_type": "code",
        "colab": {},
        "outputId": "0873cfb2-5a78-434a-f736-edbc76916c39"
      },
      "source": [
        "mylist"
      ],
      "execution_count": null,
      "outputs": [
        {
          "output_type": "execute_result",
          "data": {
            "text/plain": [
              "[40, 10, 100, 30, 20]"
            ]
          },
          "metadata": {
            "tags": []
          },
          "execution_count": 36
        }
      ]
    },
    {
      "cell_type": "code",
      "metadata": {
        "id": "eJARDw_0pLWT",
        "colab_type": "code",
        "colab": {}
      },
      "source": [
        "from random import randint"
      ],
      "execution_count": null,
      "outputs": []
    },
    {
      "cell_type": "code",
      "metadata": {
        "id": "7YUR-gizpLWW",
        "colab_type": "code",
        "colab": {},
        "outputId": "c1135287-aa49-4280-a266-8d8895f4f394"
      },
      "source": [
        "# Return random integer in range [a, b], including both end points.\n",
        "randint(0,100)"
      ],
      "execution_count": null,
      "outputs": [
        {
          "output_type": "execute_result",
          "data": {
            "text/plain": [
              "25"
            ]
          },
          "metadata": {
            "tags": []
          },
          "execution_count": 41
        }
      ]
    },
    {
      "cell_type": "code",
      "metadata": {
        "id": "AxpC1nh1pLWZ",
        "colab_type": "code",
        "colab": {},
        "outputId": "8be24f1d-82ee-4fd1-cdf5-f6cfb0d0d7dd"
      },
      "source": [
        "# Return random integer in range [a, b], including both end points.\n",
        "randint(0,100)"
      ],
      "execution_count": null,
      "outputs": [
        {
          "output_type": "execute_result",
          "data": {
            "text/plain": [
              "91"
            ]
          },
          "metadata": {
            "tags": []
          },
          "execution_count": 42
        }
      ]
    },
    {
      "cell_type": "markdown",
      "metadata": {
        "id": "3K7ya_xrpLWe",
        "colab_type": "text"
      },
      "source": [
        "## input"
      ]
    },
    {
      "cell_type": "code",
      "metadata": {
        "id": "aVJlBdVOpLWi",
        "colab_type": "code",
        "colab": {},
        "outputId": "629c1532-64a2-4b2d-804f-8d45e83a4895"
      },
      "source": [
        "input('Enter Something into this box: ')"
      ],
      "execution_count": null,
      "outputs": [
        {
          "output_type": "stream",
          "text": [
            "Enter Something into this box: great job!\n"
          ],
          "name": "stdout"
        },
        {
          "output_type": "execute_result",
          "data": {
            "text/plain": [
              "'great job!'"
            ]
          },
          "metadata": {
            "tags": []
          },
          "execution_count": 43
        }
      ]
    }
  ]
}