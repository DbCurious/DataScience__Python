{
  "nbformat": 4,
  "nbformat_minor": 0,
  "metadata": {
    "kernelspec": {
      "display_name": "Python 3",
      "language": "python",
      "name": "python3"
    },
    "language_info": {
      "codemirror_mode": {
        "name": "ipython",
        "version": 3
      },
      "file_extension": ".py",
      "mimetype": "text/x-python",
      "name": "python",
      "nbconvert_exporter": "python",
      "pygments_lexer": "ipython3",
      "version": "3.6.2"
    },
    "colab": {
      "name": "02-if, elif, and else Statements.ipynb",
      "provenance": [],
      "collapsed_sections": []
    }
  },
  "cells": [
    {
      "cell_type": "markdown",
      "metadata": {
        "id": "dzUyeED-48fQ",
        "colab_type": "text"
      },
      "source": [
        "# if, elif, else Statements\n",
        "\n",
        "    if case1:\n",
        "        perform action1\n",
        "    elif case2:\n",
        "        perform action2\n",
        "    else: \n",
        "        perform action3"
      ]
    },
    {
      "cell_type": "markdown",
      "metadata": {
        "id": "rn_XmTuH48fS",
        "colab_type": "text"
      },
      "source": [
        "## First Example\n",
        "\n"
      ]
    },
    {
      "cell_type": "code",
      "metadata": {
        "id": "117bF4ka48fT",
        "colab_type": "code",
        "colab": {},
        "outputId": "47648521-5722-4404-c6ad-29754863901e"
      },
      "source": [
        "if True:\n",
        "    print('It was true!')"
      ],
      "execution_count": null,
      "outputs": [
        {
          "output_type": "stream",
          "text": [
            "It was true!\n"
          ],
          "name": "stdout"
        }
      ]
    },
    {
      "cell_type": "markdown",
      "metadata": {
        "id": "PsohUAmQ48fb",
        "colab_type": "text"
      },
      "source": [
        " Add in some else logic:"
      ]
    },
    {
      "cell_type": "code",
      "metadata": {
        "id": "X7NjJnFe48fb",
        "colab_type": "code",
        "colab": {},
        "outputId": "d1fb197a-5228-4fb3-c43d-74c4b0fc0d97"
      },
      "source": [
        "x = False\n",
        "\n",
        "if x:\n",
        "    print('x was True!')\n",
        "else:\n",
        "    print('I will be printed in any case where x is not true')"
      ],
      "execution_count": null,
      "outputs": [
        {
          "output_type": "stream",
          "text": [
            "I will be printed in any case where x is not true\n"
          ],
          "name": "stdout"
        }
      ]
    },
    {
      "cell_type": "markdown",
      "metadata": {
        "id": "A-nmM23X48ff",
        "colab_type": "text"
      },
      "source": [
        "### Multiple Branches\n",
        "Nested structure with relational operators"
      ]
    },
    {
      "cell_type": "code",
      "metadata": {
        "id": "gww2A0Eo48fg",
        "colab_type": "code",
        "colab": {},
        "outputId": "616f8711-581f-40e7-b17e-bf0b7cdd530d"
      },
      "source": [
        "loc = 'Bank'\n",
        "\n",
        "if loc == 'Auto Shop':\n",
        "    print('Welcome to the Auto Shop!')\n",
        "elif loc == 'Bank':\n",
        "    print('Welcome to the bank!')\n",
        "else:\n",
        "    print('Where are you?')"
      ],
      "execution_count": null,
      "outputs": [
        {
          "output_type": "stream",
          "text": [
            "Welcome to the bank!\n"
          ],
          "name": "stdout"
        }
      ]
    },
    {
      "cell_type": "markdown",
      "metadata": {
        "id": "wEKvH51d48fw",
        "colab_type": "text"
      },
      "source": [
        "## Indentation\n",
        "\n",
        "It is important to keep a good understanding of how indentation works in Python to maintain the structure and order of your code. "
      ]
    }
  ]
}