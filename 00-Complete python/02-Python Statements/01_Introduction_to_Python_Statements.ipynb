{
  "nbformat": 4,
  "nbformat_minor": 0,
  "metadata": {
    "kernelspec": {
      "display_name": "Python 3",
      "language": "python",
      "name": "python3"
    },
    "language_info": {
      "codemirror_mode": {
        "name": "ipython",
        "version": 3
      },
      "file_extension": ".py",
      "mimetype": "text/x-python",
      "name": "python",
      "nbconvert_exporter": "python",
      "pygments_lexer": "ipython3",
      "version": "3.6.2"
    },
    "colab": {
      "name": "01-Introduction to Python Statements.ipynb",
      "provenance": [],
      "collapsed_sections": []
    }
  },
  "cells": [
    {
      "cell_type": "markdown",
      "metadata": {
        "id": "ilRWJNPA3zi5",
        "colab_type": "text"
      },
      "source": [
        "# Introduction to Python Statements\n"
      ]
    },
    {
      "cell_type": "markdown",
      "metadata": {
        "id": "MSQxX_pc3zi8",
        "colab_type": "text"
      },
      "source": [
        "## Python vs Other Languages\n",
        "\n",
        "\n",
        "\n",
        "**Version 1 (Other Languages)**\n",
        "\n",
        "    if (a>b){\n",
        "        a = 2;\n",
        "        b = 4;\n",
        "    }\n",
        "                        \n",
        "**Version 2 (Python)**   \n",
        "\n",
        "    if a>b:\n",
        "        a = 2\n",
        "        b = 4"
      ]
    },
    {
      "cell_type": "markdown",
      "metadata": {
        "id": "_-NGe3xd3zi9",
        "colab_type": "text"
      },
      "source": [
        "Python is less cluttered and much more readable than the first version.\n",
        "\n",
        "\n",
        "\n",
        "Python gets rid of () and {} by incorporating two main factors: a *colon* and *whitespace*. The statement is ended with a colon, and whitespace is used (indentation) to describe what takes place in case of the statement.\n",
        "\n",
        "Another major difference is the lack of semicolons in Python. Semicolons are used to denote statement endings in many other languages, but in Python, the end of a line is the same as the end of a statement.\n",
        "\n",
        "\n",
        "\n",
        "## Indentation\n",
        "\n",
        "\n",
        "**Other Languages**\n",
        "\n",
        "    if (x)\n",
        "        if(y)\n",
        "            code-statement;\n",
        "    else\n",
        "        another-code-statement;\n",
        "        \n",
        "**Python**\n",
        "    \n",
        "    if x:\n",
        "        if y:\n",
        "            code-statement\n",
        "    else:\n",
        "        another-code-statement"
      ]
    },
    {
      "cell_type": "markdown",
      "metadata": {
        "id": "wSLZJuxe3zi-",
        "colab_type": "text"
      },
      "source": [
        "Python is so heavily driven by code indentation and whitespace. This means that code readability is a core part of the design of the Python language.\n",
        "\n"
      ]
    }
  ]
}