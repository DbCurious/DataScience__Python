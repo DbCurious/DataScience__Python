{
  "nbformat": 4,
  "nbformat_minor": 0,
  "metadata": {
    "kernelspec": {
      "display_name": "Python 3",
      "language": "python",
      "name": "python3"
    },
    "language_info": {
      "codemirror_mode": {
        "name": "ipython",
        "version": 3
      },
      "file_extension": ".py",
      "mimetype": "text/x-python",
      "name": "python",
      "nbconvert_exporter": "python",
      "pygments_lexer": "ipython3",
      "version": "3.6.2"
    },
    "colab": {
      "name": "09-Built-in Functions Assessment Test - Solution.ipynb",
      "provenance": [],
      "collapsed_sections": []
    }
  },
  "cells": [
    {
      "cell_type": "markdown",
      "metadata": {
        "id": "JflagkxwN_eY"
      },
      "source": [
        "# Built-in Functions Test Solutions\n",
        "\n"
      ]
    },
    {
      "cell_type": "markdown",
      "metadata": {
        "id": "DN9DQbAjN_ee"
      },
      "source": [
        "### Problem 1\n",
        "\n",
        "Use map() to create a function which finds the length of each word in the phrase\n",
        "(broken by spaces) and return the values in a list.\n",
        "\n",
        "The function will have an input of a string, and output a list of integers."
      ]
    },
    {
      "cell_type": "code",
      "metadata": {
        "id": "0BZ35-NiN_eh"
      },
      "source": [
        "def word_lengths(phrase):\n",
        "    \n",
        "    return list(map(len, phrase.split()))"
      ],
      "execution_count": null,
      "outputs": []
    },
    {
      "cell_type": "code",
      "metadata": {
        "id": "9WhrcfVPN_ez",
        "outputId": "18bbca56-5a20-478d-b93f-c02884fa447c"
      },
      "source": [
        "word_lengths('How long are the words in this phrase')"
      ],
      "execution_count": null,
      "outputs": [
        {
          "output_type": "execute_result",
          "data": {
            "text/plain": [
              "[3, 4, 3, 3, 5, 2, 4, 6]"
            ]
          },
          "metadata": {
            "tags": []
          },
          "execution_count": 2
        }
      ]
    },
    {
      "cell_type": "markdown",
      "metadata": {
        "id": "7PcL4GXzN_fI"
      },
      "source": [
        "### Problem 2 \n",
        "\n",
        "Use reduce() to take a list of digits and return the number that they\n",
        "correspond to. For example, \\[1,2,3] corresponds to one-hundred-twenty-three. \n",
        "<br>*Do not convert the integers to strings!* "
      ]
    },
    {
      "cell_type": "code",
      "metadata": {
        "id": "9vwb5UA2N_fL"
      },
      "source": [
        "from functools import reduce\n",
        "\n",
        "def digits_to_num(digits):\n",
        "    \n",
        "    return reduce(lambda x,y:x*10 + y,digits)"
      ],
      "execution_count": null,
      "outputs": []
    },
    {
      "cell_type": "code",
      "metadata": {
        "id": "tDJz5CtEN_fX",
        "outputId": "ac692d26-448f-4ee6-9277-35e221d4fb64"
      },
      "source": [
        "digits_to_num([3,4,3,2,1])"
      ],
      "execution_count": null,
      "outputs": [
        {
          "output_type": "execute_result",
          "data": {
            "text/plain": [
              "34321"
            ]
          },
          "metadata": {
            "tags": []
          },
          "execution_count": 4
        }
      ]
    },
    {
      "cell_type": "markdown",
      "metadata": {
        "id": "bEsRB2YKN_fp"
      },
      "source": [
        "### Problem 3\n",
        "\n",
        "Use filter() to return the words from a list of words which start with a target letter."
      ]
    },
    {
      "cell_type": "code",
      "metadata": {
        "id": "Llr-FcMNN_fr"
      },
      "source": [
        "def filter_words(word_list, letter):\n",
        "    \n",
        "    return list(filter(lambda word:word[0]==letter,word_list))"
      ],
      "execution_count": null,
      "outputs": []
    },
    {
      "cell_type": "code",
      "metadata": {
        "id": "EL_6y6XSN_f7",
        "outputId": "c9a6dae4-158f-4e31-fd26-9473ea9b3d18"
      },
      "source": [
        "words = ['hello','are','cat','dog','ham','hi','go','to','heart']\n",
        "filter_words(words,'h')"
      ],
      "execution_count": null,
      "outputs": [
        {
          "output_type": "execute_result",
          "data": {
            "text/plain": [
              "['hello', 'ham', 'hi', 'heart']"
            ]
          },
          "metadata": {
            "tags": []
          },
          "execution_count": 6
        }
      ]
    },
    {
      "cell_type": "markdown",
      "metadata": {
        "id": "8Tol2w_yN_gH"
      },
      "source": [
        "### Problem 4\n",
        "\n",
        "Use zip() and a list comprehension to return a list of the same length where each value is the two strings from\n",
        "L1 and L2 concatenated together with a connector between them. Look at the example output below:"
      ]
    },
    {
      "cell_type": "code",
      "metadata": {
        "id": "UMA6tyM8N_gL"
      },
      "source": [
        "def concatenate(L1, L2, connector):\n",
        "    \n",
        "    return [word1+connector+word2 for (word1,word2) in zip(L1,L2)]"
      ],
      "execution_count": null,
      "outputs": []
    },
    {
      "cell_type": "code",
      "metadata": {
        "id": "XtaIW-WIN_gb",
        "outputId": "0276fbe8-fb60-4606-c675-ada1ae6241ad"
      },
      "source": [
        "concatenate(['A','B'],['a','b'],'-')"
      ],
      "execution_count": null,
      "outputs": [
        {
          "output_type": "execute_result",
          "data": {
            "text/plain": [
              "['A-a', 'B-b']"
            ]
          },
          "metadata": {
            "tags": []
          },
          "execution_count": 8
        }
      ]
    },
    {
      "cell_type": "markdown",
      "metadata": {
        "id": "s_aGS1gHN_gq"
      },
      "source": [
        "### Problem 5\n",
        "\n",
        "Use enumerate() and other skills to return a dictionary which has the values of the list as keys and the index as the value. You may assume that a value will only appear once in the given list.\n"
      ]
    },
    {
      "cell_type": "code",
      "metadata": {
        "id": "yP2nPFaYN_gs"
      },
      "source": [
        "def d_list(L):\n",
        "    \n",
        "    return {key:value for value,key in enumerate(L)}"
      ],
      "execution_count": null,
      "outputs": []
    },
    {
      "cell_type": "code",
      "metadata": {
        "id": "3SvrtsJ7N_g4",
        "outputId": "25c34aa5-e601-4cc0-9357-cb0b586b84c5"
      },
      "source": [
        "d_list(['a','b','c'])"
      ],
      "execution_count": null,
      "outputs": [
        {
          "output_type": "execute_result",
          "data": {
            "text/plain": [
              "{'a': 0, 'b': 1, 'c': 2}"
            ]
          },
          "metadata": {
            "tags": []
          },
          "execution_count": 10
        }
      ]
    },
    {
      "cell_type": "markdown",
      "metadata": {
        "id": "iKefcmXbN_hD"
      },
      "source": [
        "### Problem 6\n",
        "\n",
        "Use enumerate() and other skills from above to return the count of the number of items in the list whose value equals its index.\n"
      ]
    },
    {
      "cell_type": "code",
      "metadata": {
        "id": "rFGMAGLhN_hI"
      },
      "source": [
        "def count_match_index(L):\n",
        "   \n",
        "    return len([num for count,num in enumerate(L) if num==count])"
      ],
      "execution_count": null,
      "outputs": []
    },
    {
      "cell_type": "code",
      "metadata": {
        "id": "aY0HXr1BN_hW",
        "outputId": "2054db1f-b0b8-43a9-a824-b9fb0f3ccfb4"
      },
      "source": [
        "count_match_index([0,2,2,1,5,5,6,10])"
      ],
      "execution_count": null,
      "outputs": [
        {
          "output_type": "execute_result",
          "data": {
            "text/plain": [
              "4"
            ]
          },
          "metadata": {
            "tags": []
          },
          "execution_count": 12
        }
      ]
    }
  ]
}