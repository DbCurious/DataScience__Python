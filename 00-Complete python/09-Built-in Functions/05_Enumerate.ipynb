{
  "nbformat": 4,
  "nbformat_minor": 0,
  "metadata": {
    "kernelspec": {
      "display_name": "Python 3",
      "language": "python",
      "name": "python3"
    },
    "language_info": {
      "codemirror_mode": {
        "name": "ipython",
        "version": 3
      },
      "file_extension": ".py",
      "mimetype": "text/x-python",
      "name": "python",
      "nbconvert_exporter": "python",
      "pygments_lexer": "ipython3",
      "version": "3.6.2"
    },
    "colab": {
      "name": "05-Enumerate.ipynb",
      "provenance": [],
      "collapsed_sections": []
    }
  },
  "cells": [
    {
      "cell_type": "markdown",
      "metadata": {
        "id": "OKMyjT0nf1gT"
      },
      "source": [
        "# enumerate()\n",
        "\n",
        "Enumerate allows you to keep a count as you iterate through an object. It does this by returning a tuple in the form (count,element). The function itself is equivalent to:\n",
        "\n",
        "    def enumerate(sequence, start=0):\n",
        "        n = start\n",
        "        for elem in sequence:\n",
        "            yield n, elem\n",
        "            n += 1\n",
        "\n",
        "## Example"
      ]
    },
    {
      "cell_type": "code",
      "metadata": {
        "id": "qTVViJDGf1gX",
        "outputId": "1184f6ac-b137-43e3-943b-9128a608ea96"
      },
      "source": [
        "lst = ['a','b','c']\n",
        "\n",
        "for number,item in enumerate(lst):\n",
        "    print(number)\n",
        "    print(item)"
      ],
      "execution_count": null,
      "outputs": [
        {
          "output_type": "stream",
          "text": [
            "0\n",
            "a\n",
            "1\n",
            "b\n",
            "2\n",
            "c\n"
          ],
          "name": "stdout"
        }
      ]
    },
    {
      "cell_type": "markdown",
      "metadata": {
        "id": "3uWnK0CPf1gv"
      },
      "source": [
        "enumerate() becomes particularly useful when you have a case where you need to have some sort of tracker. For example:"
      ]
    },
    {
      "cell_type": "code",
      "metadata": {
        "id": "nfHge5x4f1gx",
        "outputId": "0ae1cbc0-28a1-4410-c85c-0003c8dd7288"
      },
      "source": [
        "for count,item in enumerate(lst):\n",
        "    if count >= 2:\n",
        "        break\n",
        "    else:\n",
        "        print(item)"
      ],
      "execution_count": null,
      "outputs": [
        {
          "output_type": "stream",
          "text": [
            "a\n",
            "b\n"
          ],
          "name": "stdout"
        }
      ]
    },
    {
      "cell_type": "markdown",
      "metadata": {
        "id": "E2I2wZt8f1hA"
      },
      "source": [
        "enumerate() takes an optional \"start\" argument to override the default value of zero:"
      ]
    },
    {
      "cell_type": "code",
      "metadata": {
        "id": "wguP1offf1hD",
        "outputId": "d612c704-af4e-48f5-b608-af9ab9bc3b19"
      },
      "source": [
        "months = ['March','April','May','June']\n",
        "\n",
        "list(enumerate(months,start=3))"
      ],
      "execution_count": null,
      "outputs": [
        {
          "output_type": "execute_result",
          "data": {
            "text/plain": [
              "[(3, 'March'), (4, 'April'), (5, 'May'), (6, 'June')]"
            ]
          },
          "metadata": {
            "tags": []
          },
          "execution_count": 3
        }
      ]
    }
  ]
}