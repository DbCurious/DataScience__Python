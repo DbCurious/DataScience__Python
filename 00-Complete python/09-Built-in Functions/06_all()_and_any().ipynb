{
  "nbformat": 4,
  "nbformat_minor": 0,
  "metadata": {
    "kernelspec": {
      "display_name": "Python 3",
      "language": "python",
      "name": "python3"
    },
    "language_info": {
      "codemirror_mode": {
        "name": "ipython",
        "version": 3
      },
      "file_extension": ".py",
      "mimetype": "text/x-python",
      "name": "python",
      "nbconvert_exporter": "python",
      "pygments_lexer": "ipython3",
      "version": "3.6.2"
    },
    "colab": {
      "name": "06-all() and any().ipynb",
      "provenance": [],
      "collapsed_sections": []
    }
  },
  "cells": [
    {
      "cell_type": "markdown",
      "metadata": {
        "id": "A8rVmpaAtcbR"
      },
      "source": [
        "# all() and any()"
      ]
    },
    {
      "cell_type": "markdown",
      "metadata": {
        "id": "Mh6WGaTWtcbW"
      },
      "source": [
        "all() and any() are built-in functions in Python that allow us to conveniently check for boolean matching in an iterable. all() will return True if all elements in an iterable are True. It is the same as this function code:\n",
        "\n",
        "    def all(iterable):\n",
        "        for element in iterable:\n",
        "            if not element:\n",
        "                return False\n",
        "        return True\n",
        "        \n",
        "any() will return True if any of the elements in the iterable are True. It is equivalent to the following function code:\n",
        "\n",
        "    def any(iterable):\n",
        "        for element in iterable:\n",
        "            if element:\n",
        "                return True\n",
        "        return False\n",
        "        "
      ]
    },
    {
      "cell_type": "markdown",
      "metadata": {
        "id": "zJC9wl18tcbZ"
      },
      "source": [
        "They should be fairly straightforward:"
      ]
    },
    {
      "cell_type": "code",
      "metadata": {
        "id": "YWH8WaNutcbb"
      },
      "source": [
        "lst = [True,True,False,True]"
      ],
      "execution_count": null,
      "outputs": []
    },
    {
      "cell_type": "code",
      "metadata": {
        "id": "q8n7sa5Jtcbs",
        "outputId": "1820a0e5-264e-44ac-c170-20a1e45041fe"
      },
      "source": [
        "all(lst)"
      ],
      "execution_count": null,
      "outputs": [
        {
          "output_type": "execute_result",
          "data": {
            "text/plain": [
              "False"
            ]
          },
          "metadata": {
            "tags": []
          },
          "execution_count": 2
        }
      ]
    },
    {
      "cell_type": "markdown",
      "metadata": {
        "id": "YlXYr9ZwtccA"
      },
      "source": [
        "Returns False because not all elements are True."
      ]
    },
    {
      "cell_type": "code",
      "metadata": {
        "id": "NDXbbkShtccC",
        "outputId": "e5203e81-eb9f-40ca-cdd1-a12a453c9ba7"
      },
      "source": [
        "any(lst)"
      ],
      "execution_count": null,
      "outputs": [
        {
          "output_type": "execute_result",
          "data": {
            "text/plain": [
              "True"
            ]
          },
          "metadata": {
            "tags": []
          },
          "execution_count": 3
        }
      ]
    },
    {
      "cell_type": "markdown",
      "metadata": {
        "id": "17_5RrCftccQ"
      },
      "source": [
        "Returns True because at least one of the elements in the list is True"
      ]
    }
  ]
}