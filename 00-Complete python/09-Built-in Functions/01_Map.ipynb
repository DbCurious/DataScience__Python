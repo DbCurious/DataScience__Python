{
  "nbformat": 4,
  "nbformat_minor": 0,
  "metadata": {
    "kernelspec": {
      "display_name": "Python 3",
      "language": "python",
      "name": "python3"
    },
    "language_info": {
      "codemirror_mode": {
        "name": "ipython",
        "version": 3
      },
      "file_extension": ".py",
      "mimetype": "text/x-python",
      "name": "python",
      "nbconvert_exporter": "python",
      "pygments_lexer": "ipython3",
      "version": "3.6.2"
    },
    "colab": {
      "name": "01-Map.ipynb",
      "provenance": [],
      "collapsed_sections": []
    }
  },
  "cells": [
    {
      "cell_type": "markdown",
      "metadata": {
        "id": "Ul1RDkhKjlms"
      },
      "source": [
        "# Map()\n",
        "\n",
        "map() is a built-in Python function that takes in two or more arguments: a function and one or more iterables, in the form:\n",
        "\n",
        "    map(function, iterable, ...)\n",
        "    \n",
        "map() returns an *iterator* - that is, map() returns a special object that yields one result at a time as needed. We will learn more about iterators and generators in a future lecture. For now, since our examples are so small, we will cast map() as a list to see the results immediately.\n",
        "\n",
        "When we went over list comprehensions we created a small expression to convert Celsius to Fahrenheit."
      ]
    },
    {
      "cell_type": "code",
      "metadata": {
        "id": "JFe6WerDjlmt"
      },
      "source": [
        "def fahrenheit(celsius):\n",
        "    return (9/5)*celsius + 32\n",
        "    \n",
        "temps = [0, 22.5, 40, 100]"
      ],
      "execution_count": null,
      "outputs": []
    },
    {
      "cell_type": "markdown",
      "metadata": {
        "id": "g1UQ3Yp2jlm0"
      },
      "source": [
        "Map() in action:"
      ]
    },
    {
      "cell_type": "code",
      "metadata": {
        "id": "n1VaWs7vjlm2",
        "outputId": "6c107f55-af10-4b35-ee17-a50f6dce674c"
      },
      "source": [
        "F_temps = map(fahrenheit, temps)\n",
        "\n",
        "#Show\n",
        "list(F_temps)"
      ],
      "execution_count": null,
      "outputs": [
        {
          "output_type": "execute_result",
          "data": {
            "text/plain": [
              "[32.0, 72.5, 104.0, 212.0]"
            ]
          },
          "metadata": {
            "tags": []
          },
          "execution_count": 2
        }
      ]
    },
    {
      "cell_type": "markdown",
      "metadata": {
        "id": "12kRWZ5Qjlm7"
      },
      "source": [
        "In the example above, map() applies the fahrenheit function to every item in temps,we can use a lambda expression instead:"
      ]
    },
    {
      "cell_type": "code",
      "metadata": {
        "id": "rMTFikZGjlm8",
        "outputId": "bad6d127-5744-47cc-81a8-8c73c14bc93a"
      },
      "source": [
        "list(map(lambda x: (9/5)*x + 32, temps))"
      ],
      "execution_count": null,
      "outputs": [
        {
          "output_type": "execute_result",
          "data": {
            "text/plain": [
              "[32.0, 72.5, 104.0, 212.0]"
            ]
          },
          "metadata": {
            "tags": []
          },
          "execution_count": 3
        }
      ]
    },
    {
      "cell_type": "markdown",
      "metadata": {
        "id": "DUavOQ-mjlnC"
      },
      "source": [
        "### map() with multiple iterables\n",
        "map() can accept more than one iterable. The iterables should be the same length - in the event that they are not, map() will stop as soon as the shortest iterable is exhausted.\n",
        "\n",
        "\n",
        "For instance, if our function is trying to add two values **x** and **y**, we can pass a list of **x** values and another list of **y** values to map(). The function (or lambda) will be fed the 0th index from each list, and then the 1st index, and so on until the n-th index is reached.\n"
      ]
    },
    {
      "cell_type": "code",
      "metadata": {
        "id": "mrntk4gCjlnD",
        "outputId": "c115f7d0-a902-4f1d-85a1-fa926fd556fc"
      },
      "source": [
        "a = [1,2,3,4]\n",
        "b = [5,6,7,8]\n",
        "c = [9,10,11,12]\n",
        "\n",
        "list(map(lambda x,y:x+y,a,b))"
      ],
      "execution_count": null,
      "outputs": [
        {
          "output_type": "execute_result",
          "data": {
            "text/plain": [
              "[6, 8, 10, 12]"
            ]
          },
          "metadata": {
            "tags": []
          },
          "execution_count": 4
        }
      ]
    },
    {
      "cell_type": "code",
      "metadata": {
        "id": "jcDisGYljlnJ",
        "outputId": "1621831e-7860-41a2-f68c-7b59cc8c5859"
      },
      "source": [
        "# Now all three lists\n",
        "list(map(lambda x,y,z:x+y+z,a,b,c))"
      ],
      "execution_count": null,
      "outputs": [
        {
          "output_type": "execute_result",
          "data": {
            "text/plain": [
              "[15, 18, 21, 24]"
            ]
          },
          "metadata": {
            "tags": []
          },
          "execution_count": 5
        }
      ]
    },
    {
      "cell_type": "markdown",
      "metadata": {
        "id": "Vs5W_d8yjlnN"
      },
      "source": [
        "We can see in the example above that the parameter **x** gets its values from the list **a**, while **y** gets its values from **b** and **z** from list **c**. Go ahead and play with your own example to make sure you fully understand mapping to more than one iterable.\n",
        "\n"
      ]
    }
  ]
}