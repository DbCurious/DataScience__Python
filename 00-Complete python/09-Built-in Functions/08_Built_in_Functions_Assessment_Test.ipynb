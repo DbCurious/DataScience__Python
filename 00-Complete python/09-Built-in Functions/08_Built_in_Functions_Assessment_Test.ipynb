{
  "nbformat": 4,
  "nbformat_minor": 0,
  "metadata": {
    "kernelspec": {
      "display_name": "Python 3",
      "language": "python",
      "name": "python3"
    },
    "language_info": {
      "codemirror_mode": {
        "name": "ipython",
        "version": 3
      },
      "file_extension": ".py",
      "mimetype": "text/x-python",
      "name": "python",
      "nbconvert_exporter": "python",
      "pygments_lexer": "ipython3",
      "version": "3.6.2"
    },
    "colab": {
      "name": "08-Built-in Functions Assessment Test.ipynb",
      "provenance": [],
      "collapsed_sections": []
    }
  },
  "cells": [
    {
      "cell_type": "markdown",
      "metadata": {
        "id": "phfT5SaZFbJZ"
      },
      "source": [
        "# Built-in Functions Test \n",
        "\n"
      ]
    },
    {
      "cell_type": "markdown",
      "metadata": {
        "id": "t0EPjpTOFbJb"
      },
      "source": [
        "### Problem 1\n",
        "\n",
        "Use map() to create a function which finds the length of each word in the phrase\n",
        "(broken by spaces) and returns the values in a list.\n",
        "\n",
        "The function will have an input of a string, and output a list of integers."
      ]
    },
    {
      "cell_type": "code",
      "metadata": {
        "id": "Y7YqLA1zFbJb"
      },
      "source": [
        "def word_lengths(phrase):\n",
        "    \n",
        "    pass"
      ],
      "execution_count": null,
      "outputs": []
    },
    {
      "cell_type": "code",
      "metadata": {
        "id": "BqLAzPOQFbJf",
        "outputId": "147401c2-2c44-4459-8553-fceb80bd129a"
      },
      "source": [
        "word_lengths('How long are the words in this phrase')"
      ],
      "execution_count": null,
      "outputs": [
        {
          "output_type": "execute_result",
          "data": {
            "text/plain": [
              "[3, 4, 3, 3, 5, 2, 4, 6]"
            ]
          },
          "metadata": {
            "tags": []
          },
          "execution_count": 2
        }
      ]
    },
    {
      "cell_type": "markdown",
      "metadata": {
        "id": "cYWTOUlJFbJj"
      },
      "source": [
        "### Problem 2 \n",
        "\n",
        "Use reduce() to take a list of digits and return the number that they\n",
        "correspond to. For example, \\[1, 2, 3] corresponds to one-hundred-twenty-three. <br>*Do not convert the integers to strings!* "
      ]
    },
    {
      "cell_type": "code",
      "metadata": {
        "id": "8UVua9fsFbJk"
      },
      "source": [
        "from functools import reduce\n",
        "\n",
        "def digits_to_num(digits):\n",
        "    \n",
        "    pass"
      ],
      "execution_count": null,
      "outputs": []
    },
    {
      "cell_type": "code",
      "metadata": {
        "id": "WpklquPnFbJo",
        "outputId": "16bfef14-cb0d-4723-f9e0-230afd1daa82"
      },
      "source": [
        "digits_to_num([3,4,3,2,1])"
      ],
      "execution_count": null,
      "outputs": [
        {
          "output_type": "execute_result",
          "data": {
            "text/plain": [
              "34321"
            ]
          },
          "metadata": {
            "tags": []
          },
          "execution_count": 4
        }
      ]
    },
    {
      "cell_type": "markdown",
      "metadata": {
        "id": "sX6MdRHvFbJr"
      },
      "source": [
        "### Problem 3\n",
        "\n",
        "Use filter to return the words from a list of words which start with a target letter."
      ]
    },
    {
      "cell_type": "code",
      "metadata": {
        "id": "X6PS0_WwFbJr"
      },
      "source": [
        "def filter_words(word_list, letter):\n",
        "    \n",
        "    pass"
      ],
      "execution_count": null,
      "outputs": []
    },
    {
      "cell_type": "code",
      "metadata": {
        "id": "vzlmt1ThFbJu",
        "outputId": "815c950d-97c0-4bac-a1cb-54678febf61f"
      },
      "source": [
        "l = ['hello','are','cat','dog','ham','hi','go','to','heart']\n",
        "filter_words(l,'h')"
      ],
      "execution_count": null,
      "outputs": [
        {
          "output_type": "execute_result",
          "data": {
            "text/plain": [
              "['hello', 'ham', 'hi', 'heart']"
            ]
          },
          "metadata": {
            "tags": []
          },
          "execution_count": 6
        }
      ]
    },
    {
      "cell_type": "markdown",
      "metadata": {
        "id": "PUKVQIpWFbJx"
      },
      "source": [
        "### Problem 4\n",
        "\n",
        "Use zip() and a list comprehension to return a list of the same length where each value is the two strings from\n",
        "L1 and L2 concatenated together with connector between them. "
      ]
    },
    {
      "cell_type": "code",
      "metadata": {
        "id": "vwAQgeMrFbJy"
      },
      "source": [
        "def concatenate(L1, L2, connector):\n",
        "    \n",
        "    pass"
      ],
      "execution_count": null,
      "outputs": []
    },
    {
      "cell_type": "code",
      "metadata": {
        "id": "h-7B-0SuFbJ3",
        "outputId": "72a4348d-85fe-43cc-deac-17be7553ed9d"
      },
      "source": [
        "concatenate(['A','B'],['a','b'],'-')"
      ],
      "execution_count": null,
      "outputs": [
        {
          "output_type": "execute_result",
          "data": {
            "text/plain": [
              "['A-a', 'B-b']"
            ]
          },
          "metadata": {
            "tags": []
          },
          "execution_count": 8
        }
      ]
    },
    {
      "cell_type": "markdown",
      "metadata": {
        "id": "59WxQtksFbJ7"
      },
      "source": [
        "### Problem 5\n",
        "\n",
        "Use enumerate() and other skills to return a dictionary which has the values of the list as keys and the index as the value. You may assume that a value will only appear once in the given list.\n"
      ]
    },
    {
      "cell_type": "code",
      "metadata": {
        "id": "XAvDyAREFbJ8"
      },
      "source": [
        "def d_list(L):\n",
        "    \n",
        "    pass"
      ],
      "execution_count": null,
      "outputs": []
    },
    {
      "cell_type": "code",
      "metadata": {
        "id": "bB6QuMDTFbJ_",
        "outputId": "f048c889-7649-4be9-95d6-f8d2a2af1264"
      },
      "source": [
        "d_list(['a','b','c'])"
      ],
      "execution_count": null,
      "outputs": [
        {
          "output_type": "execute_result",
          "data": {
            "text/plain": [
              "{'a': 0, 'b': 1, 'c': 2}"
            ]
          },
          "metadata": {
            "tags": []
          },
          "execution_count": 10
        }
      ]
    },
    {
      "cell_type": "markdown",
      "metadata": {
        "id": "9lgs49TjFbKB"
      },
      "source": [
        "### Problem 6\n",
        "\n",
        "Use enumerate() and other skills from above to return the count of the number of items in the list whose value equals its index.\n"
      ]
    },
    {
      "cell_type": "code",
      "metadata": {
        "id": "Ak74Y97lFbKB"
      },
      "source": [
        "def count_match_index(L):\n",
        "    \n",
        "    pass"
      ],
      "execution_count": null,
      "outputs": []
    },
    {
      "cell_type": "code",
      "metadata": {
        "id": "XQwgl9DdFbKE",
        "outputId": "04a26306-c0cb-4ff6-e3e0-33cbeb1b9b3d"
      },
      "source": [
        "count_match_index([0,2,2,1,5,5,6,10])"
      ],
      "execution_count": null,
      "outputs": [
        {
          "output_type": "execute_result",
          "data": {
            "text/plain": [
              "4"
            ]
          },
          "metadata": {
            "tags": []
          },
          "execution_count": 12
        }
      ]
    }
  ]
}