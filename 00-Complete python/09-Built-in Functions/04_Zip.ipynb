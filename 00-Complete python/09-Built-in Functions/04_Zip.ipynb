{
  "nbformat": 4,
  "nbformat_minor": 0,
  "metadata": {
    "kernelspec": {
      "display_name": "Python 3",
      "language": "python",
      "name": "python3"
    },
    "language_info": {
      "codemirror_mode": {
        "name": "ipython",
        "version": 3
      },
      "file_extension": ".py",
      "mimetype": "text/x-python",
      "name": "python",
      "nbconvert_exporter": "python",
      "pygments_lexer": "ipython3",
      "version": "3.6.2"
    },
    "colab": {
      "name": "04-Zip.ipynb",
      "provenance": [],
      "collapsed_sections": []
    }
  },
  "cells": [
    {
      "cell_type": "markdown",
      "metadata": {
        "id": "xi8ZhqNGIW8t"
      },
      "source": [
        "# zip\n",
        "\n",
        "zip() makes an iterator that aggregates elements from each of the iterables.\n",
        "\n",
        "Returns an iterator of tuples, where the i-th tuple contains the i-th element from each of the argument sequences or iterables. The iterator stops when the shortest input iterable is exhausted. With a single iterable argument, it returns an iterator of 1-tuples. With no arguments, it returns an empty iterator. \n",
        "\n",
        "zip() is equivalent to:\n",
        "\n",
        "    def zip(*iterables):\n",
        "        # zip('ABCD', 'xy') --> Ax By\n",
        "        sentinel = object()\n",
        "        iterators = [iter(it) for it in iterables]\n",
        "        while iterators:\n",
        "            result = []\n",
        "            for it in iterators:\n",
        "                elem = next(it, sentinel)\n",
        "                if elem is sentinel:\n",
        "                    return\n",
        "                result.append(elem)\n",
        "            yield tuple(result)\n",
        "        \n",
        "\n",
        "zip() should only be used with unequal length inputs when you don’t care about trailing, unmatched values from the longer iterables. \n",
        "\n",
        "\n",
        "\n",
        "## Examples"
      ]
    },
    {
      "cell_type": "code",
      "metadata": {
        "id": "YOTHMnuBIW8z",
        "outputId": "ff655c61-3534-423f-b6e9-d4061db405f1"
      },
      "source": [
        "x = [1,2,3]\n",
        "y = [4,5,6]\n",
        "\n",
        "# Zip the lists together\n",
        "list(zip(x,y))"
      ],
      "execution_count": null,
      "outputs": [
        {
          "output_type": "execute_result",
          "data": {
            "text/plain": [
              "[(1, 4), (2, 5), (3, 6)]"
            ]
          },
          "metadata": {
            "tags": []
          },
          "execution_count": 1
        }
      ]
    },
    {
      "cell_type": "markdown",
      "metadata": {
        "id": "udDfcWkaIW9R"
      },
      "source": [
        "Note how tuples are returned. What if one iterable is longer than the other?"
      ]
    },
    {
      "cell_type": "code",
      "metadata": {
        "id": "HGWWQ209IW9V",
        "outputId": "d60dfe86-d074-4d71-c16c-702c12524286"
      },
      "source": [
        "x = [1,2,3]\n",
        "y = [4,5,6,7,8]\n",
        "\n",
        "# Zip the lists together\n",
        "list(zip(x,y))"
      ],
      "execution_count": null,
      "outputs": [
        {
          "output_type": "execute_result",
          "data": {
            "text/plain": [
              "[(1, 4), (2, 5), (3, 6)]"
            ]
          },
          "metadata": {
            "tags": []
          },
          "execution_count": 2
        }
      ]
    },
    {
      "cell_type": "markdown",
      "metadata": {
        "id": "5uG_ueKYIW9x"
      },
      "source": [
        "Note how the zip is defined by the shortest iterable length. Its generally advised not to zip unequal length iterables unless your very sure you only need partial tuple pairings.\n",
        "\n",
        "What happens if we try to zip together dictionaries?"
      ]
    },
    {
      "cell_type": "code",
      "metadata": {
        "id": "QbTViLLWIW91",
        "outputId": "5af170d8-6b26-4715-c141-fbf859afc772"
      },
      "source": [
        "d1 = {'a':1,'b':2}\n",
        "d2 = {'c':4,'d':5}\n",
        "\n",
        "list(zip(d1,d2))"
      ],
      "execution_count": null,
      "outputs": [
        {
          "output_type": "execute_result",
          "data": {
            "text/plain": [
              "[('a', 'c'), ('b', 'd')]"
            ]
          },
          "metadata": {
            "tags": []
          },
          "execution_count": 3
        }
      ]
    },
    {
      "cell_type": "markdown",
      "metadata": {
        "id": "xmLmDHoNIW-F"
      },
      "source": [
        "This makes sense because simply iterating through the dictionaries will result in just the keys. We would have to call methods to mix keys and values:"
      ]
    },
    {
      "cell_type": "code",
      "metadata": {
        "id": "IHN-l0iyIW-I",
        "outputId": "36ea3a36-004a-4e0b-f6f7-bd2f8783e41a"
      },
      "source": [
        "list(zip(d2,d1.values()))"
      ],
      "execution_count": null,
      "outputs": [
        {
          "output_type": "execute_result",
          "data": {
            "text/plain": [
              "[('c', 1), ('d', 2)]"
            ]
          },
          "metadata": {
            "tags": []
          },
          "execution_count": 4
        }
      ]
    },
    {
      "cell_type": "markdown",
      "metadata": {
        "id": "RUgiUeusIW-S"
      },
      "source": [
        "Great! Finally use zip() to switch the keys and values of the two dictionaries:"
      ]
    },
    {
      "cell_type": "code",
      "metadata": {
        "id": "cSoWWkDUIW-T"
      },
      "source": [
        "def switcharoo(d1,d2):\n",
        "    dout = {}\n",
        "    \n",
        "    for d1key,d2val in zip(d1,d2.values()):\n",
        "        dout[d1key] = d2val\n",
        "    \n",
        "    return dout"
      ],
      "execution_count": null,
      "outputs": []
    },
    {
      "cell_type": "code",
      "metadata": {
        "id": "ssFHElKBIW-g",
        "outputId": "d04cd3a1-96aa-4fcf-f2f2-96cb09f11885"
      },
      "source": [
        "switcharoo(d1,d2)"
      ],
      "execution_count": null,
      "outputs": [
        {
          "output_type": "execute_result",
          "data": {
            "text/plain": [
              "{'a': 4, 'b': 5}"
            ]
          },
          "metadata": {
            "tags": []
          },
          "execution_count": 6
        }
      ]
    }
  ]
}