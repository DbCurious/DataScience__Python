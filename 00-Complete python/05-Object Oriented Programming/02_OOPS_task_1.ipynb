{
  "nbformat": 4,
  "nbformat_minor": 0,
  "metadata": {
    "kernelspec": {
      "display_name": "Python 3",
      "language": "python",
      "name": "python3"
    },
    "language_info": {
      "codemirror_mode": {
        "name": "ipython",
        "version": 3
      },
      "file_extension": ".py",
      "mimetype": "text/x-python",
      "name": "python",
      "nbconvert_exporter": "python",
      "pygments_lexer": "ipython3",
      "version": "3.6.2"
    },
    "colab": {
      "name": "02 OOPS task 1.ipynb",
      "provenance": [],
      "collapsed_sections": []
    }
  },
  "cells": [
    {
      "cell_type": "markdown",
      "metadata": {
        "id": "CS_xwpNmHDi6",
        "colab_type": "text"
      },
      "source": [
        "# Object Oriented Programming\n",
        "\n",
        "\n",
        "#### Problem 1\n",
        "Fill in the Line class methods to accept coordinates as a pair of tuples and return the slope and distance of the line."
      ]
    },
    {
      "cell_type": "code",
      "metadata": {
        "id": "mp5QACClHDi8",
        "colab_type": "code",
        "colab": {}
      },
      "source": [
        "class Line:\n",
        "    \n",
        "    def __init__(self,coor1,coor2):\n",
        "        pass\n",
        "    \n",
        "    def distance(self):\n",
        "        pass\n",
        "    \n",
        "    def slope(self):\n",
        "        pass"
      ],
      "execution_count": null,
      "outputs": []
    },
    {
      "cell_type": "code",
      "metadata": {
        "id": "8aj8aXB8HDjA",
        "colab_type": "code",
        "colab": {}
      },
      "source": [
        "# EXAMPLE OUTPUT\n",
        "\n",
        "coordinate1 = (3,2)\n",
        "coordinate2 = (8,10)\n",
        "\n",
        "li = Line(coordinate1,coordinate2)"
      ],
      "execution_count": null,
      "outputs": []
    },
    {
      "cell_type": "code",
      "metadata": {
        "id": "7OqirngyHDjF",
        "colab_type": "code",
        "colab": {},
        "outputId": "7eaecde2-1b7d-421b-f5f7-4d6dc1fb7df9"
      },
      "source": [
        "li.distance()"
      ],
      "execution_count": null,
      "outputs": [
        {
          "output_type": "execute_result",
          "data": {
            "text/plain": [
              "9.433981132056603"
            ]
          },
          "metadata": {
            "tags": []
          },
          "execution_count": 3
        }
      ]
    },
    {
      "cell_type": "code",
      "metadata": {
        "id": "VjQS06S5HDjK",
        "colab_type": "code",
        "colab": {},
        "outputId": "be5a44b4-f30b-4bc5-baf2-3cd28e7aeacb"
      },
      "source": [
        "li.slope()"
      ],
      "execution_count": null,
      "outputs": [
        {
          "output_type": "execute_result",
          "data": {
            "text/plain": [
              "1.6"
            ]
          },
          "metadata": {
            "tags": []
          },
          "execution_count": 4
        }
      ]
    },
    {
      "cell_type": "markdown",
      "metadata": {
        "id": "yuf-JoFQHDjN",
        "colab_type": "text"
      },
      "source": [
        "________\n",
        "#### Problem 2"
      ]
    },
    {
      "cell_type": "markdown",
      "metadata": {
        "id": "GaY5OxEDHDjP",
        "colab_type": "text"
      },
      "source": [
        "Fill in the class "
      ]
    },
    {
      "cell_type": "code",
      "metadata": {
        "id": "RJpFAUIJHDjQ",
        "colab_type": "code",
        "colab": {}
      },
      "source": [
        "class Cylinder:\n",
        "    \n",
        "    def __init__(self,height=1,radius=1):\n",
        "        pass\n",
        "        \n",
        "    def volume(self):\n",
        "        pass\n",
        "    \n",
        "    def surface_area(self):\n",
        "        pass"
      ],
      "execution_count": null,
      "outputs": []
    },
    {
      "cell_type": "code",
      "metadata": {
        "id": "a7geQ-_2HDjU",
        "colab_type": "code",
        "colab": {}
      },
      "source": [
        "# EXAMPLE OUTPUT\n",
        "c = Cylinder(2,3)"
      ],
      "execution_count": null,
      "outputs": []
    },
    {
      "cell_type": "code",
      "metadata": {
        "id": "dkQKdDKLHDjX",
        "colab_type": "code",
        "colab": {},
        "outputId": "fb2d76b1-6b8a-4bac-bc51-a9872b1d0444"
      },
      "source": [
        "c.volume()"
      ],
      "execution_count": null,
      "outputs": [
        {
          "output_type": "execute_result",
          "data": {
            "text/plain": [
              "56.52"
            ]
          },
          "metadata": {
            "tags": []
          },
          "execution_count": 7
        }
      ]
    },
    {
      "cell_type": "code",
      "metadata": {
        "id": "i14gBzr4HDje",
        "colab_type": "code",
        "colab": {},
        "outputId": "ad70ce81-9961-4077-e14e-3efefed83d0f"
      },
      "source": [
        "c.surface_area()"
      ],
      "execution_count": null,
      "outputs": [
        {
          "output_type": "execute_result",
          "data": {
            "text/plain": [
              "94.2"
            ]
          },
          "metadata": {
            "tags": []
          },
          "execution_count": 8
        }
      ]
    }
  ]
}