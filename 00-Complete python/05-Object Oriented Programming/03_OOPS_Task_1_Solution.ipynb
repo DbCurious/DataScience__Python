{
  "nbformat": 4,
  "nbformat_minor": 0,
  "metadata": {
    "kernelspec": {
      "display_name": "Python 3",
      "language": "python",
      "name": "python3"
    },
    "language_info": {
      "codemirror_mode": {
        "name": "ipython",
        "version": 3
      },
      "file_extension": ".py",
      "mimetype": "text/x-python",
      "name": "python",
      "nbconvert_exporter": "python",
      "pygments_lexer": "ipython3",
      "version": "3.6.2"
    },
    "colab": {
      "name": "03-OOPS Task 1-Solution.ipynb",
      "provenance": [],
      "collapsed_sections": []
    }
  },
  "cells": [
    {
      "cell_type": "markdown",
      "metadata": {
        "id": "RSb7IZiDZmTM",
        "colab_type": "text"
      },
      "source": [
        "# Object Oriented Programming\n",
        "\n",
        "\n",
        "#### Problem 1\n",
        "Fill in the Line class methods to accept coordinates as a pair of tuples and return the slope and distance of the line."
      ]
    },
    {
      "cell_type": "code",
      "metadata": {
        "id": "MyVMTSWbZmTO",
        "colab_type": "code",
        "colab": {}
      },
      "source": [
        "class Line(object):\n",
        "    \n",
        "    def __init__(self,coor1,coor2):\n",
        "        self.coor1 = coor1\n",
        "        self.coor2 = coor2\n",
        "    \n",
        "    def distance(self):\n",
        "        x1,y1 = self.coor1\n",
        "        x2,y2 = self.coor2\n",
        "        return ((x2-x1)**2 + (y2-y1)**2)**0.5\n",
        "    \n",
        "    def slope(self):\n",
        "        x1,y1 = self.coor1\n",
        "        x2,y2 = self.coor2\n",
        "        return (y2-y1)/(x2-x1)"
      ],
      "execution_count": null,
      "outputs": []
    },
    {
      "cell_type": "code",
      "metadata": {
        "id": "hVXYCAUvZmTU",
        "colab_type": "code",
        "colab": {}
      },
      "source": [
        "coordinate1 = (3,2)\n",
        "coordinate2 = (8,10)\n",
        "\n",
        "li = Line(coordinate1,coordinate2)"
      ],
      "execution_count": null,
      "outputs": []
    },
    {
      "cell_type": "code",
      "metadata": {
        "id": "6OAgqFozZmTY",
        "colab_type": "code",
        "colab": {},
        "outputId": "9409d091-1761-4d3a-e358-2be52767a5a6"
      },
      "source": [
        "li.distance()"
      ],
      "execution_count": null,
      "outputs": [
        {
          "output_type": "execute_result",
          "data": {
            "text/plain": [
              "9.433981132056603"
            ]
          },
          "metadata": {
            "tags": []
          },
          "execution_count": 3
        }
      ]
    },
    {
      "cell_type": "code",
      "metadata": {
        "id": "8eZY8zizZmTd",
        "colab_type": "code",
        "colab": {},
        "outputId": "99923c10-5a46-4e81-e22f-0a7a49d0e5cb"
      },
      "source": [
        "li.slope()"
      ],
      "execution_count": null,
      "outputs": [
        {
          "output_type": "execute_result",
          "data": {
            "text/plain": [
              "1.6"
            ]
          },
          "metadata": {
            "tags": []
          },
          "execution_count": 4
        }
      ]
    },
    {
      "cell_type": "markdown",
      "metadata": {
        "id": "WHGb0SjlZmTi",
        "colab_type": "text"
      },
      "source": [
        "________\n",
        "#### Problem 2"
      ]
    },
    {
      "cell_type": "markdown",
      "metadata": {
        "id": "AU25wfSnZmTi",
        "colab_type": "text"
      },
      "source": [
        "Fill in the class "
      ]
    },
    {
      "cell_type": "code",
      "metadata": {
        "id": "sRwqGS2bZmTj",
        "colab_type": "code",
        "colab": {}
      },
      "source": [
        "class Cylinder:\n",
        "    \n",
        "    def __init__(self,height=1,radius=1):\n",
        "        self.height = height\n",
        "        self.radius = radius\n",
        "        \n",
        "    def volume(self):\n",
        "        return self.height*3.14*(self.radius)**2\n",
        "    \n",
        "    def surface_area(self):\n",
        "        top = 3.14 * (self.radius)**2\n",
        "        return (2*top) + (2*3.14*self.radius*self.height)"
      ],
      "execution_count": null,
      "outputs": []
    },
    {
      "cell_type": "code",
      "metadata": {
        "id": "g1yXRlX_ZmTn",
        "colab_type": "code",
        "colab": {}
      },
      "source": [
        "c = Cylinder(2,3)"
      ],
      "execution_count": null,
      "outputs": []
    },
    {
      "cell_type": "code",
      "metadata": {
        "id": "E-KgRam1ZmTs",
        "colab_type": "code",
        "colab": {},
        "outputId": "0534a0a6-1319-4f24-bf05-37ddfab99f0c"
      },
      "source": [
        "c.volume()"
      ],
      "execution_count": null,
      "outputs": [
        {
          "output_type": "execute_result",
          "data": {
            "text/plain": [
              "56.52"
            ]
          },
          "metadata": {
            "tags": []
          },
          "execution_count": 7
        }
      ]
    },
    {
      "cell_type": "code",
      "metadata": {
        "id": "c7Bi4_bKZmT0",
        "colab_type": "code",
        "colab": {},
        "outputId": "ae466bbb-e441-4733-8a7b-a7403844dfdc"
      },
      "source": [
        "c.surface_area()"
      ],
      "execution_count": null,
      "outputs": [
        {
          "output_type": "execute_result",
          "data": {
            "text/plain": [
              "94.2"
            ]
          },
          "metadata": {
            "tags": []
          },
          "execution_count": 8
        }
      ]
    }
  ]
}