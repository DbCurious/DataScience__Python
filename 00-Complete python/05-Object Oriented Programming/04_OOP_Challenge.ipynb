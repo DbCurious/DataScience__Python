{
  "nbformat": 4,
  "nbformat_minor": 0,
  "metadata": {
    "kernelspec": {
      "display_name": "Python 3",
      "language": "python",
      "name": "python3"
    },
    "language_info": {
      "codemirror_mode": {
        "name": "ipython",
        "version": 3
      },
      "file_extension": ".py",
      "mimetype": "text/x-python",
      "name": "python",
      "nbconvert_exporter": "python",
      "pygments_lexer": "ipython3",
      "version": "3.6.2"
    },
    "colab": {
      "name": "04-OOP Challenge.ipynb",
      "provenance": [],
      "collapsed_sections": []
    }
  },
  "cells": [
    {
      "cell_type": "markdown",
      "metadata": {
        "id": "RxIXRz1cxEq4",
        "colab_type": "text"
      },
      "source": [
        "# Object Oriented Programming Challenge\n",
        "\n",
        "For this challenge, create a bank account class that has two attributes:\n",
        "\n",
        "* owner\n",
        "* balance\n",
        "\n",
        "and two methods:\n",
        "\n",
        "* deposit\n",
        "* withdraw\n",
        "\n",
        "As an added requirement, withdrawals may not exceed the available balance.\n",
        "\n",
        "Instantiate your class, make several deposits and withdrawals, and test to make sure the account can't be overdrawn."
      ]
    },
    {
      "cell_type": "code",
      "metadata": {
        "id": "EMNOrjXdxEq6",
        "colab_type": "code",
        "colab": {}
      },
      "source": [
        "class Account:\n",
        "    pass"
      ],
      "execution_count": null,
      "outputs": []
    },
    {
      "cell_type": "code",
      "metadata": {
        "id": "rGGghiEmxEq_",
        "colab_type": "code",
        "colab": {}
      },
      "source": [
        "# 1. Instantiate the class\n",
        "acct1 = Account('Jose',100)"
      ],
      "execution_count": null,
      "outputs": []
    },
    {
      "cell_type": "code",
      "metadata": {
        "id": "blUjlBjlxErE",
        "colab_type": "code",
        "colab": {},
        "outputId": "08018785-9fe5-40c4-fcd3-c8c588d18289"
      },
      "source": [
        "# 2. Print the object\n",
        "print(acct1)"
      ],
      "execution_count": null,
      "outputs": [
        {
          "output_type": "stream",
          "text": [
            "Account owner:   Jose\n",
            "Account balance: $100\n"
          ],
          "name": "stdout"
        }
      ]
    },
    {
      "cell_type": "code",
      "metadata": {
        "id": "u5Miw8xWxErK",
        "colab_type": "code",
        "colab": {},
        "outputId": "0b570072-a3d6-4e39-df8b-749c32fe89c5"
      },
      "source": [
        "# 3. Show the account owner attribute\n",
        "acct1.owner"
      ],
      "execution_count": null,
      "outputs": [
        {
          "output_type": "execute_result",
          "data": {
            "text/plain": [
              "'Jose'"
            ]
          },
          "metadata": {
            "tags": []
          },
          "execution_count": 4
        }
      ]
    },
    {
      "cell_type": "code",
      "metadata": {
        "id": "ME4tPv7ExErO",
        "colab_type": "code",
        "colab": {},
        "outputId": "de9cfb8b-ca6e-416c-97cf-5db69ddbfc7e"
      },
      "source": [
        "# 4. Show the account balance attribute\n",
        "acct1.balance"
      ],
      "execution_count": null,
      "outputs": [
        {
          "output_type": "execute_result",
          "data": {
            "text/plain": [
              "100"
            ]
          },
          "metadata": {
            "tags": []
          },
          "execution_count": 5
        }
      ]
    },
    {
      "cell_type": "code",
      "metadata": {
        "id": "SgVLjKBlxErR",
        "colab_type": "code",
        "colab": {},
        "outputId": "f0a3685a-4be4-4141-e932-9cd0b31a75a2"
      },
      "source": [
        "# 5. Make a series of deposits and withdrawals\n",
        "acct1.deposit(50)"
      ],
      "execution_count": null,
      "outputs": [
        {
          "output_type": "stream",
          "text": [
            "Deposit Accepted\n"
          ],
          "name": "stdout"
        }
      ]
    },
    {
      "cell_type": "code",
      "metadata": {
        "id": "ac4zz9aqxErY",
        "colab_type": "code",
        "colab": {},
        "outputId": "4037275a-9d3f-4e11-9701-d6ce7f55e84b"
      },
      "source": [
        "acct1.withdraw(75)"
      ],
      "execution_count": null,
      "outputs": [
        {
          "output_type": "stream",
          "text": [
            "Withdrawal Accepted\n"
          ],
          "name": "stdout"
        }
      ]
    },
    {
      "cell_type": "code",
      "metadata": {
        "id": "xmlqXPMoxErf",
        "colab_type": "code",
        "colab": {},
        "outputId": "f441d548-e621-445d-ebd3-87a5b19a2b1d"
      },
      "source": [
        "# 6. Make a withdrawal that exceeds the available balance\n",
        "acct1.withdraw(500)"
      ],
      "execution_count": null,
      "outputs": [
        {
          "output_type": "stream",
          "text": [
            "Funds Unavailable!\n"
          ],
          "name": "stdout"
        }
      ]
    }
  ]
}