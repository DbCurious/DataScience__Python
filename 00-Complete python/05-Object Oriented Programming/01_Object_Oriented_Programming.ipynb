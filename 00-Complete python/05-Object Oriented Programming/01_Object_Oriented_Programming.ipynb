{
  "nbformat": 4,
  "nbformat_minor": 0,
  "metadata": {
    "kernelspec": {
      "display_name": "Python 3",
      "language": "python",
      "name": "python3"
    },
    "language_info": {
      "codemirror_mode": {
        "name": "ipython",
        "version": 3
      },
      "file_extension": ".py",
      "mimetype": "text/x-python",
      "name": "python",
      "nbconvert_exporter": "python",
      "pygments_lexer": "ipython3",
      "version": "3.6.2"
    },
    "colab": {
      "name": "01-Object Oriented Programming.ipynb",
      "provenance": [],
      "collapsed_sections": []
    }
  },
  "cells": [
    {
      "cell_type": "markdown",
      "metadata": {
        "collapsed": true,
        "id": "MqWXtTbKAXGN",
        "colab_type": "text"
      },
      "source": [
        "# Object Oriented Programming\n",
        "\n",
        "\n",
        "* Objects\n",
        "* Using the *class* keyword\n",
        "* Creating class attributes\n",
        "* Creating methods in a class\n",
        "* Learning about Inheritance\n",
        "* Learning about Polymorphism\n",
        "* Learning about Special Methods for classes\n",
        "\n"
      ]
    },
    {
      "cell_type": "code",
      "metadata": {
        "id": "QYSkg-emAXGO",
        "colab_type": "code",
        "colab": {}
      },
      "source": [
        "lst = [1,2,3]"
      ],
      "execution_count": null,
      "outputs": []
    },
    {
      "cell_type": "code",
      "metadata": {
        "id": "uC5GtaKJAXGU",
        "colab_type": "code",
        "colab": {},
        "outputId": "615f9b04-88d8-4841-93c8-48cb295a6f42"
      },
      "source": [
        "lst.count(2)"
      ],
      "execution_count": null,
      "outputs": [
        {
          "output_type": "execute_result",
          "data": {
            "text/plain": [
              "1"
            ]
          },
          "metadata": {
            "tags": []
          },
          "execution_count": 2
        }
      ]
    },
    {
      "cell_type": "code",
      "metadata": {
        "id": "zriYozoeAXGZ",
        "colab_type": "code",
        "colab": {},
        "outputId": "69e3a155-898f-4398-a55e-1a97503fd296"
      },
      "source": [
        "print(type(1))\n",
        "print(type([]))\n",
        "print(type(()))\n",
        "print(type({}))"
      ],
      "execution_count": null,
      "outputs": [
        {
          "output_type": "stream",
          "text": [
            "<class 'int'>\n",
            "<class 'list'>\n",
            "<class 'tuple'>\n",
            "<class 'dict'>\n"
          ],
          "name": "stdout"
        }
      ]
    },
    {
      "cell_type": "markdown",
      "metadata": {
        "id": "-RDpx6iKAXGd",
        "colab_type": "text"
      },
      "source": [
        "\n",
        "## class\n",
        "User defined objects are created using the <code>class</code> keyword. The class is a blueprint that defines the nature of a future object. From classes we can construct instances. An instance is a specific object created from a particular class. "
      ]
    },
    {
      "cell_type": "code",
      "metadata": {
        "id": "Xq-jWRQAAXGd",
        "colab_type": "code",
        "colab": {},
        "outputId": "dc7fa3d7-e9e9-4984-879d-1971455b706b"
      },
      "source": [
        "# Create a new object type called Sample\n",
        "class Sample:\n",
        "    pass\n",
        "\n",
        "# Instance of Sample\n",
        "x = Sample()\n",
        "\n",
        "print(type(x))"
      ],
      "execution_count": null,
      "outputs": [
        {
          "output_type": "stream",
          "text": [
            "<class '__main__.Sample'>\n"
          ],
          "name": "stdout"
        }
      ]
    },
    {
      "cell_type": "markdown",
      "metadata": {
        "id": "PDEyJvoZAXGi",
        "colab_type": "text"
      },
      "source": [
        "By convention we give classes a name that starts with a capital letter. Note how <code>x</code> is now the reference to our new instance of a Sample class. In other words, we **instantiate** the Sample class.\n",
        "\n",
        "Inside of the class we currently just have pass. But we can define class attributes and methods.\n",
        "\n",
        "An **attribute** is a characteristic of an object.\n",
        "A **method** is an operation we can perform with the object.\n",
        "\n",
        "For example, we can create a class called Dog. An attribute of a dog may be its breed or its name, while a method of a dog may be defined by a .bark() method which returns a sound.\n",
        "\n",
        "\n",
        "\n",
        "## Attributes\n",
        "The syntax for creating an attribute is:\n",
        "    \n",
        "    self.attribute = something\n",
        "    \n",
        "There is a special method called:\n",
        "\n",
        "    __init__()\n",
        "\n",
        "This method is used to initialize the attributes of an object. For example:"
      ]
    },
    {
      "cell_type": "code",
      "metadata": {
        "id": "tAv2HfHnAXGj",
        "colab_type": "code",
        "colab": {}
      },
      "source": [
        "class Dog:\n",
        "    def __init__(self,breed):\n",
        "        self.breed = breed\n",
        "        \n",
        "sam = Dog(breed='Lab')\n",
        "frank = Dog(breed='Huskie')"
      ],
      "execution_count": null,
      "outputs": []
    },
    {
      "cell_type": "markdown",
      "metadata": {
        "id": "CVH8LTAtAXGo",
        "colab_type": "text"
      },
      "source": [
        "Breaking down what we have above.The special method \n",
        "\n",
        "    __init__() \n",
        "is called automatically right after the object has been created:\n",
        "\n",
        "    def __init__(self, breed):\n",
        "Each attribute in a class definition begins with a reference to the instance object. It is by convention named self. The breed is the argument. The value is passed during the class instantiation.\n",
        "\n",
        "     self.breed = breed"
      ]
    },
    {
      "cell_type": "code",
      "metadata": {
        "id": "hB6ry5GKAXGq",
        "colab_type": "code",
        "colab": {},
        "outputId": "f4e1b333-0cbf-4d41-9d8f-2df4ff4efbae"
      },
      "source": [
        "sam.breed"
      ],
      "execution_count": null,
      "outputs": [
        {
          "output_type": "execute_result",
          "data": {
            "text/plain": [
              "'Lab'"
            ]
          },
          "metadata": {
            "tags": []
          },
          "execution_count": 6
        }
      ]
    },
    {
      "cell_type": "code",
      "metadata": {
        "id": "159RmOKrAXGv",
        "colab_type": "code",
        "colab": {},
        "outputId": "3394d165-eb56-401b-ee35-220d47dda50c"
      },
      "source": [
        "frank.breed"
      ],
      "execution_count": null,
      "outputs": [
        {
          "output_type": "execute_result",
          "data": {
            "text/plain": [
              "'Huskie'"
            ]
          },
          "metadata": {
            "tags": []
          },
          "execution_count": 7
        }
      ]
    },
    {
      "cell_type": "markdown",
      "metadata": {
        "id": "8JtNs4lPAXGy",
        "colab_type": "text"
      },
      "source": [
        "Note no parentheses after breed; this is because it is an attribute and doesn't take any arguments.\n",
        "\n",
        "In Python there are also *class object attributes*. These Class Object Attributes are the same for any instance of the class. "
      ]
    },
    {
      "cell_type": "code",
      "metadata": {
        "id": "_oDVe_qHAXGz",
        "colab_type": "code",
        "colab": {}
      },
      "source": [
        "class Dog:\n",
        "    \n",
        "    # Class Object Attribute\n",
        "    species = 'mammal'\n",
        "    \n",
        "    def __init__(self,breed,name):\n",
        "        self.breed = breed\n",
        "        self.name = name"
      ],
      "execution_count": null,
      "outputs": []
    },
    {
      "cell_type": "code",
      "metadata": {
        "id": "d6dA487sAXG1",
        "colab_type": "code",
        "colab": {}
      },
      "source": [
        "sam = Dog('Lab','Sam')"
      ],
      "execution_count": null,
      "outputs": []
    },
    {
      "cell_type": "code",
      "metadata": {
        "id": "1x8UXBGxAXG4",
        "colab_type": "code",
        "colab": {},
        "outputId": "4ddce332-5b7b-4593-ddb0-366e7f253e27"
      },
      "source": [
        "sam.name"
      ],
      "execution_count": null,
      "outputs": [
        {
          "output_type": "execute_result",
          "data": {
            "text/plain": [
              "'Sam'"
            ]
          },
          "metadata": {
            "tags": []
          },
          "execution_count": 10
        }
      ]
    },
    {
      "cell_type": "markdown",
      "metadata": {
        "id": "ki2q7ywMAXG9",
        "colab_type": "text"
      },
      "source": [
        "Note that the Class Object Attribute is defined outside of any methods in the class. "
      ]
    },
    {
      "cell_type": "code",
      "metadata": {
        "id": "4QVWrl8gAXG-",
        "colab_type": "code",
        "colab": {},
        "outputId": "82775f51-055f-4541-d4fb-fc0ae2be0c97"
      },
      "source": [
        "sam.species"
      ],
      "execution_count": null,
      "outputs": [
        {
          "output_type": "execute_result",
          "data": {
            "text/plain": [
              "'mammal'"
            ]
          },
          "metadata": {
            "tags": []
          },
          "execution_count": 11
        }
      ]
    },
    {
      "cell_type": "markdown",
      "metadata": {
        "id": "hlKcK7SKAXHD",
        "colab_type": "text"
      },
      "source": [
        "## Methods\n",
        "\n",
        "Methods are functions defined inside the body of a class. They are used to perform operations with the attributes of our objects. Methods are a key concept of the OOP paradigm. They are essential to dividing responsibilities in programming, especially in large applications.\n",
        "\n",
        "One can basically think of methods as functions acting on an Object that take the Object itself into account through its *self* argument.\n",
        "\n"
      ]
    },
    {
      "cell_type": "code",
      "metadata": {
        "id": "55d0N6Q7AXHD",
        "colab_type": "code",
        "colab": {},
        "outputId": "6fdf5e49-e841-42a2-b338-a946a6ddf177"
      },
      "source": [
        "class Circle:\n",
        "    pi = 3.14\n",
        "\n",
        "    # Circle gets instantiated with a radius (default is 1)\n",
        "    def __init__(self, radius=1):\n",
        "        self.radius = radius \n",
        "        self.area = radius * radius * Circle.pi\n",
        "\n",
        "    # Method for resetting Radius\n",
        "    def setRadius(self, new_radius):\n",
        "        self.radius = new_radius\n",
        "        self.area = new_radius * new_radius * self.pi\n",
        "\n",
        "    # Method for getting Circumference\n",
        "    def getCircumference(self):\n",
        "        return self.radius * self.pi * 2\n",
        "\n",
        "\n",
        "c = Circle()\n",
        "\n",
        "print('Radius is: ',c.radius)\n",
        "print('Area is: ',c.area)\n",
        "print('Circumference is: ',c.getCircumference())"
      ],
      "execution_count": null,
      "outputs": [
        {
          "output_type": "stream",
          "text": [
            "Radius is:  1\n",
            "Area is:  3.14\n",
            "Circumference is:  6.28\n"
          ],
          "name": "stdout"
        }
      ]
    },
    {
      "cell_type": "markdown",
      "metadata": {
        "id": "OPGj9xMmAXHK",
        "colab_type": "text"
      },
      "source": [
        "In the \\__init__ method above, in order to calculate the area attribute, we had to call Circle.pi. This is because the object does not yet have its own .pi attribute, so we call the Class Object Attribute pi instead.<br>\n",
        "In the setRadius method, however, we'll be working with an existing Circle object that does have its own pi attribute. Here we can use either Circle.pi or self.pi.<br><br>\n",
        "Change the radius and see how that affects our Circle object:"
      ]
    },
    {
      "cell_type": "code",
      "metadata": {
        "id": "xvg5PLd0AXHK",
        "colab_type": "code",
        "colab": {},
        "outputId": "3196283e-593b-4143-e794-e4305f4cdcf3"
      },
      "source": [
        "c.setRadius(2)\n",
        "\n",
        "print('Radius is: ',c.radius)\n",
        "print('Area is: ',c.area)\n",
        "print('Circumference is: ',c.getCircumference())"
      ],
      "execution_count": null,
      "outputs": [
        {
          "output_type": "stream",
          "text": [
            "Radius is:  2\n",
            "Area is:  12.56\n",
            "Circumference is:  12.56\n"
          ],
          "name": "stdout"
        }
      ]
    },
    {
      "cell_type": "markdown",
      "metadata": {
        "id": "8MyDcEwMAXHO",
        "colab_type": "text"
      },
      "source": [
        "\n",
        "\n",
        "## Inheritance\n",
        "\n",
        "Inheritance is a way to form new classes using classes that have already been defined. The newly formed classes are called derived classes, the classes that we derive from are called base classes. Important benefits of inheritance are code reuse and reduction of complexity of a program. The derived classes (descendants) override or extend the functionality of base classes (ancestors).\n",
        "\n"
      ]
    },
    {
      "cell_type": "code",
      "metadata": {
        "id": "GfpbTBVxAXHP",
        "colab_type": "code",
        "colab": {}
      },
      "source": [
        "class Animal:\n",
        "    def __init__(self):\n",
        "        print(\"Animal created\")\n",
        "\n",
        "    def whoAmI(self):\n",
        "        print(\"Animal\")\n",
        "\n",
        "    def eat(self):\n",
        "        print(\"Eating\")\n",
        "\n",
        "\n",
        "class Dog(Animal):\n",
        "    def __init__(self):\n",
        "        Animal.__init__(self)\n",
        "        print(\"Dog created\")\n",
        "\n",
        "    def whoAmI(self):\n",
        "        print(\"Dog\")\n",
        "\n",
        "    def bark(self):\n",
        "        print(\"Woof!\")"
      ],
      "execution_count": null,
      "outputs": []
    },
    {
      "cell_type": "code",
      "metadata": {
        "id": "VSBI4A52AXHR",
        "colab_type": "code",
        "colab": {},
        "outputId": "00483b73-e192-48e2-b638-d63a0a638040"
      },
      "source": [
        "d = Dog()"
      ],
      "execution_count": null,
      "outputs": [
        {
          "output_type": "stream",
          "text": [
            "Animal created\n",
            "Dog created\n"
          ],
          "name": "stdout"
        }
      ]
    },
    {
      "cell_type": "code",
      "metadata": {
        "id": "7NrtVfh3AXHU",
        "colab_type": "code",
        "colab": {},
        "outputId": "e1d3d4fe-bac7-4bbe-85d2-92693389e55b"
      },
      "source": [
        "d.whoAmI()"
      ],
      "execution_count": null,
      "outputs": [
        {
          "output_type": "stream",
          "text": [
            "Dog\n"
          ],
          "name": "stdout"
        }
      ]
    },
    {
      "cell_type": "code",
      "metadata": {
        "id": "iwN_Ppl2AXHX",
        "colab_type": "code",
        "colab": {},
        "outputId": "bf7a52e1-eec3-40aa-ccbd-b0b2da785c61"
      },
      "source": [
        "d.eat()"
      ],
      "execution_count": null,
      "outputs": [
        {
          "output_type": "stream",
          "text": [
            "Eating\n"
          ],
          "name": "stdout"
        }
      ]
    },
    {
      "cell_type": "code",
      "metadata": {
        "id": "7PdqI51oAXHa",
        "colab_type": "code",
        "colab": {},
        "outputId": "41c27a01-e929-4ea4-e8c6-0290d59f3517"
      },
      "source": [
        "d.bark()"
      ],
      "execution_count": null,
      "outputs": [
        {
          "output_type": "stream",
          "text": [
            "Woof!\n"
          ],
          "name": "stdout"
        }
      ]
    },
    {
      "cell_type": "markdown",
      "metadata": {
        "id": "nI3IIKMGAXHd",
        "colab_type": "text"
      },
      "source": [
        "In this example, we have two classes: Animal and Dog. The Animal is the base class, the Dog is the derived class. \n",
        "\n",
        "The derived class inherits the functionality of the base class. \n",
        "\n",
        "* It is shown by the eat() method. \n",
        "\n",
        "The derived class modifies existing behavior of the base class.\n",
        "\n",
        "* shown by the whoAmI() method. \n",
        "\n",
        "Finally, the derived class extends the functionality of the base class, by defining a new bark() method."
      ]
    },
    {
      "cell_type": "markdown",
      "metadata": {
        "id": "AYpb5L3hAXHe",
        "colab_type": "text"
      },
      "source": [
        "## Polymorphism\n",
        "\n",
        "In Python, *polymorphism* refers to the way in which different object classes can share the same method name, and those methods can be called from the same place even though a variety of different objects might be passed in. The best way to explain this is by example:"
      ]
    },
    {
      "cell_type": "code",
      "metadata": {
        "id": "FD_G0iv0AXHe",
        "colab_type": "code",
        "colab": {},
        "outputId": "3afc71fe-c192-498f-9845-1b3debcf667b"
      },
      "source": [
        "class Dog:\n",
        "    def __init__(self, name):\n",
        "        self.name = name\n",
        "\n",
        "    def speak(self):\n",
        "        return self.name+' says Woof!'\n",
        "    \n",
        "class Cat:\n",
        "    def __init__(self, name):\n",
        "        self.name = name\n",
        "\n",
        "    def speak(self):\n",
        "        return self.name+' says Meow!' \n",
        "    \n",
        "niko = Dog('Niko')\n",
        "felix = Cat('Felix')\n",
        "\n",
        "print(niko.speak())\n",
        "print(felix.speak())"
      ],
      "execution_count": null,
      "outputs": [
        {
          "output_type": "stream",
          "text": [
            "Niko says Woof!\n",
            "Felix says Meow!\n"
          ],
          "name": "stdout"
        }
      ]
    },
    {
      "cell_type": "markdown",
      "metadata": {
        "id": "ULolxw1NAXHi",
        "colab_type": "text"
      },
      "source": [
        "Here we have a Dog class and a Cat class, and each has a `.speak()` method. When called, each object's `.speak()` method returns a result unique to the object.\n",
        "\n",
        "There a few different ways to demonstrate polymorphism. First, with a for loop:"
      ]
    },
    {
      "cell_type": "code",
      "metadata": {
        "id": "woazrYBCAXHj",
        "colab_type": "code",
        "colab": {},
        "outputId": "0cd02ac1-1b64-471e-92fc-80752975235f"
      },
      "source": [
        "for pet in [niko,felix]:\n",
        "    print(pet.speak())"
      ],
      "execution_count": null,
      "outputs": [
        {
          "output_type": "stream",
          "text": [
            "Niko says Woof!\n",
            "Felix says Meow!\n"
          ],
          "name": "stdout"
        }
      ]
    },
    {
      "cell_type": "markdown",
      "metadata": {
        "id": "chgjDzAlAXHo",
        "colab_type": "text"
      },
      "source": [
        "Another is with functions:"
      ]
    },
    {
      "cell_type": "code",
      "metadata": {
        "id": "P-zhbwXUAXHp",
        "colab_type": "code",
        "colab": {},
        "outputId": "28a3c016-83b6-4e05-e0f1-91d2c914a1c7"
      },
      "source": [
        "def pet_speak(pet):\n",
        "    print(pet.speak())\n",
        "\n",
        "pet_speak(niko)\n",
        "pet_speak(felix)"
      ],
      "execution_count": null,
      "outputs": [
        {
          "output_type": "stream",
          "text": [
            "Niko says Woof!\n",
            "Felix says Meow!\n"
          ],
          "name": "stdout"
        }
      ]
    },
    {
      "cell_type": "markdown",
      "metadata": {
        "id": "kqQl0FDOAXHu",
        "colab_type": "text"
      },
      "source": [
        "In both cases we were able to pass in different object types, and obtained object-specific results from the same mechanism.\n",
        "\n",
        "A more common practice is to use abstract classes and inheritance. An abstract class is one that never expects to be instantiated."
      ]
    },
    {
      "cell_type": "code",
      "metadata": {
        "id": "KHkMpOrdAXHv",
        "colab_type": "code",
        "colab": {},
        "outputId": "e22d0147-f50f-4014-b5d2-79760fefb623"
      },
      "source": [
        "class Animal:\n",
        "    def __init__(self, name):    # Constructor of the class\n",
        "        self.name = name\n",
        "\n",
        "    def speak(self):              # Abstract method, defined by convention only\n",
        "        raise NotImplementedError(\"Subclass must implement abstract method\")\n",
        "\n",
        "\n",
        "class Dog(Animal):\n",
        "    \n",
        "    def speak(self):\n",
        "        return self.name+' says Woof!'\n",
        "    \n",
        "class Cat(Animal):\n",
        "\n",
        "    def speak(self):\n",
        "        return self.name+' says Meow!'\n",
        "    \n",
        "fido = Dog('Fido')\n",
        "isis = Cat('Isis')\n",
        "\n",
        "print(fido.speak())\n",
        "print(isis.speak())"
      ],
      "execution_count": null,
      "outputs": [
        {
          "output_type": "stream",
          "text": [
            "Fido says Woof!\n",
            "Isis says Meow!\n"
          ],
          "name": "stdout"
        }
      ]
    },
    {
      "cell_type": "markdown",
      "metadata": {
        "id": "msgzI_j5AXH0",
        "colab_type": "text"
      },
      "source": [
        "Real life examples of polymorphism include:\n",
        "* opening different file types - different tools are needed to display Word, pdf and Excel files\n",
        "* adding different objects - the `+` operator performs arithmetic and concatenation"
      ]
    },
    {
      "cell_type": "markdown",
      "metadata": {
        "id": "VmpjKrIyAXH1",
        "colab_type": "text"
      },
      "source": [
        "## Special Methods\n",
        " Classes in Python can implement certain operations with special method names. These methods are not actually called directly but by Python specific language syntax. For example a Book class:"
      ]
    },
    {
      "cell_type": "code",
      "metadata": {
        "id": "iQuIctECAXH1",
        "colab_type": "code",
        "colab": {}
      },
      "source": [
        "class Book:\n",
        "    def __init__(self, title, author, pages):\n",
        "        print(\"A book is created\")\n",
        "        self.title = title\n",
        "        self.author = author\n",
        "        self.pages = pages\n",
        "\n",
        "    def __str__(self):\n",
        "        return \"Title: %s, author: %s, pages: %s\" %(self.title, self.author, self.pages)\n",
        "\n",
        "    def __len__(self):\n",
        "        return self.pages\n",
        "\n",
        "    def __del__(self):\n",
        "        print(\"A book is destroyed\")"
      ],
      "execution_count": null,
      "outputs": []
    },
    {
      "cell_type": "code",
      "metadata": {
        "id": "AbTOE2j5AXH4",
        "colab_type": "code",
        "colab": {},
        "outputId": "79a06c0c-582c-4067-de2d-9f1d815ae4b0"
      },
      "source": [
        "book = Book(\"Python Rocks!\", \"Jose Portilla\", 159)\n",
        "\n",
        "#Special Methods\n",
        "print(book)\n",
        "print(len(book))\n",
        "del book"
      ],
      "execution_count": null,
      "outputs": [
        {
          "output_type": "stream",
          "text": [
            "A book is created\n",
            "Title: Python Rocks!, author: Jose Portilla, pages: 159\n",
            "159\n",
            "A book is destroyed\n"
          ],
          "name": "stdout"
        }
      ]
    },
    {
      "cell_type": "markdown",
      "metadata": {
        "id": "cKG-C7iVAXH8",
        "colab_type": "text"
      },
      "source": [
        "    The __init__(), __str__(), __len__() and __del__() methods\n",
        "These special methods are defined by their use of underscores. They allow us to use Python specific functions on objects created through our class.\n",
        "\n",
        "\n",
        "\n"
      ]
    }
  ]
}