{
  "nbformat": 4,
  "nbformat_minor": 0,
  "metadata": {
    "kernelspec": {
      "display_name": "Python 3",
      "language": "python",
      "name": "python3"
    },
    "language_info": {
      "codemirror_mode": {
        "name": "ipython",
        "version": 3
      },
      "file_extension": ".py",
      "mimetype": "text/x-python",
      "name": "python",
      "nbconvert_exporter": "python",
      "pygments_lexer": "ipython3",
      "version": "3.5.1"
    },
    "colab": {
      "name": "02-Series.ipynb",
      "provenance": [],
      "collapsed_sections": []
    }
  },
  "cells": [
    {
      "cell_type": "markdown",
      "metadata": {
        "id": "gUAcqB5uS0-B",
        "colab_type": "text"
      },
      "source": [
        "\n",
        "# Series"
      ]
    },
    {
      "cell_type": "markdown",
      "metadata": {
        "id": "IkD_dNg-S0-D",
        "colab_type": "text"
      },
      "source": [
        "\n",
        "\n",
        "A Series is very similar to a NumPy array (in fact it is built on top of the NumPy array object). What differentiates the NumPy array from a Series, is that a Series can have axis labels, meaning it can be indexed by a label, instead of just a number location. It also doesn't need to hold numeric data, it can hold any arbitrary Python Object.\n",
        "\n"
      ]
    },
    {
      "cell_type": "code",
      "metadata": {
        "id": "SuII1qhfS0-F",
        "colab_type": "code",
        "colab": {}
      },
      "source": [
        "import numpy as np\n",
        "import pandas as pd"
      ],
      "execution_count": 0,
      "outputs": []
    },
    {
      "cell_type": "markdown",
      "metadata": {
        "id": "XoPWNVC5S0-N",
        "colab_type": "text"
      },
      "source": [
        "### Creating a Series\n",
        "\n",
        "You can convert a list,numpy array, or dictionary to a Series:"
      ]
    },
    {
      "cell_type": "code",
      "metadata": {
        "id": "C3uIkpctS0-O",
        "colab_type": "code",
        "colab": {}
      },
      "source": [
        "labels = ['a','b','c']\n",
        "my_list = [10,20,30]\n",
        "arr = np.array([10,20,30])\n",
        "d = {'a':10,'b':20,'c':30}"
      ],
      "execution_count": 0,
      "outputs": []
    },
    {
      "cell_type": "markdown",
      "metadata": {
        "id": "G25oA-L7S0-V",
        "colab_type": "text"
      },
      "source": [
        "** Using Lists**"
      ]
    },
    {
      "cell_type": "code",
      "metadata": {
        "id": "_4__sCLjS0-W",
        "colab_type": "code",
        "colab": {},
        "outputId": "0c94cdde-528c-417f-aab0-42ec8b43a886"
      },
      "source": [
        "pd.Series(data=my_list)"
      ],
      "execution_count": 0,
      "outputs": [
        {
          "output_type": "execute_result",
          "data": {
            "text/plain": [
              "0    10\n",
              "1    20\n",
              "2    30\n",
              "dtype: int64"
            ]
          },
          "metadata": {
            "tags": []
          },
          "execution_count": 4
        }
      ]
    },
    {
      "cell_type": "code",
      "metadata": {
        "id": "xFThe0sPS0-e",
        "colab_type": "code",
        "colab": {},
        "outputId": "7cd2d5bf-e355-4722-da31-b96e2004c826"
      },
      "source": [
        "pd.Series(data=my_list,index=labels)"
      ],
      "execution_count": 0,
      "outputs": [
        {
          "output_type": "execute_result",
          "data": {
            "text/plain": [
              "a    10\n",
              "b    20\n",
              "c    30\n",
              "dtype: int64"
            ]
          },
          "metadata": {
            "tags": []
          },
          "execution_count": 5
        }
      ]
    },
    {
      "cell_type": "code",
      "metadata": {
        "id": "NSiG9fNvS0-l",
        "colab_type": "code",
        "colab": {},
        "outputId": "ff6f0c6a-4eb3-429a-a4b5-c46896fba368"
      },
      "source": [
        "pd.Series(my_list,labels)"
      ],
      "execution_count": 0,
      "outputs": [
        {
          "output_type": "execute_result",
          "data": {
            "text/plain": [
              "a    10\n",
              "b    20\n",
              "c    30\n",
              "dtype: int64"
            ]
          },
          "metadata": {
            "tags": []
          },
          "execution_count": 6
        }
      ]
    },
    {
      "cell_type": "markdown",
      "metadata": {
        "id": "aQIdyNvXS0-r",
        "colab_type": "text"
      },
      "source": [
        "** NumPy Arrays **"
      ]
    },
    {
      "cell_type": "code",
      "metadata": {
        "id": "r3lttSHnS0-s",
        "colab_type": "code",
        "colab": {},
        "outputId": "789f3621-39c0-4d9e-8ffa-57e432866005"
      },
      "source": [
        "pd.Series(arr)"
      ],
      "execution_count": 0,
      "outputs": [
        {
          "output_type": "execute_result",
          "data": {
            "text/plain": [
              "0    10\n",
              "1    20\n",
              "2    30\n",
              "dtype: int64"
            ]
          },
          "metadata": {
            "tags": []
          },
          "execution_count": 7
        }
      ]
    },
    {
      "cell_type": "code",
      "metadata": {
        "id": "1Po71ZVQS0-0",
        "colab_type": "code",
        "colab": {},
        "outputId": "18fedc41-9858-4616-e9ed-3692912ced6c"
      },
      "source": [
        "pd.Series(arr,labels)"
      ],
      "execution_count": 0,
      "outputs": [
        {
          "output_type": "execute_result",
          "data": {
            "text/plain": [
              "a    10\n",
              "b    20\n",
              "c    30\n",
              "dtype: int64"
            ]
          },
          "metadata": {
            "tags": []
          },
          "execution_count": 8
        }
      ]
    },
    {
      "cell_type": "markdown",
      "metadata": {
        "id": "_UoRj-S6S0--",
        "colab_type": "text"
      },
      "source": [
        "** Dictionary**"
      ]
    },
    {
      "cell_type": "code",
      "metadata": {
        "id": "mXhrlS3eS0-_",
        "colab_type": "code",
        "colab": {},
        "outputId": "6de915f4-a152-4579-f9ff-57fcb31ac82d"
      },
      "source": [
        "pd.Series(d)"
      ],
      "execution_count": 0,
      "outputs": [
        {
          "output_type": "execute_result",
          "data": {
            "text/plain": [
              "a    10\n",
              "b    20\n",
              "c    30\n",
              "dtype: int64"
            ]
          },
          "metadata": {
            "tags": []
          },
          "execution_count": 9
        }
      ]
    },
    {
      "cell_type": "markdown",
      "metadata": {
        "id": "VY2cXJG3S0_G",
        "colab_type": "text"
      },
      "source": [
        "### Data in a Series\n",
        "\n",
        "A pandas Series can hold a variety of object types:"
      ]
    },
    {
      "cell_type": "code",
      "metadata": {
        "id": "OQAmIgGJS0_J",
        "colab_type": "code",
        "colab": {},
        "outputId": "f1f83a3b-5b1b-48a3-f414-3bafc1a1f70c"
      },
      "source": [
        "pd.Series(data=labels)"
      ],
      "execution_count": 0,
      "outputs": [
        {
          "output_type": "execute_result",
          "data": {
            "text/plain": [
              "0    a\n",
              "1    b\n",
              "2    c\n",
              "dtype: object"
            ]
          },
          "metadata": {
            "tags": []
          },
          "execution_count": 10
        }
      ]
    },
    {
      "cell_type": "code",
      "metadata": {
        "id": "WQpWjA6PS0_P",
        "colab_type": "code",
        "colab": {},
        "outputId": "9adf4eae-becb-4ae4-a2d3-81974a6e73af"
      },
      "source": [
        "# Even functions (although unlikely that you will use this)\n",
        "pd.Series([sum,print,len])"
      ],
      "execution_count": 0,
      "outputs": [
        {
          "output_type": "execute_result",
          "data": {
            "text/plain": [
              "0      <built-in function sum>\n",
              "1    <built-in function print>\n",
              "2      <built-in function len>\n",
              "dtype: object"
            ]
          },
          "metadata": {
            "tags": []
          },
          "execution_count": 11
        }
      ]
    },
    {
      "cell_type": "markdown",
      "metadata": {
        "id": "QyJ8jIWeS0_Y",
        "colab_type": "text"
      },
      "source": [
        "## Using an Index\n",
        "\n",
        "The key to using a Series is understanding its index. Pandas makes use of these index names or numbers by allowing for fast look ups of information (works like a hash table or dictionary).\n",
        "\n"
      ]
    },
    {
      "cell_type": "code",
      "metadata": {
        "id": "PQSxgF8QS0_b",
        "colab_type": "code",
        "colab": {}
      },
      "source": [
        "ser1 = pd.Series([1,2,3,4],index = ['USA', 'Germany','USSR', 'Japan'])                                   "
      ],
      "execution_count": 0,
      "outputs": []
    },
    {
      "cell_type": "code",
      "metadata": {
        "id": "2R5y7SBhS0_i",
        "colab_type": "code",
        "colab": {},
        "outputId": "85a85e93-1c37-4554-aa73-a89bc9bb2b59"
      },
      "source": [
        "ser1"
      ],
      "execution_count": 0,
      "outputs": [
        {
          "output_type": "execute_result",
          "data": {
            "text/plain": [
              "USA        1\n",
              "Germany    2\n",
              "USSR       3\n",
              "Japan      4\n",
              "dtype: int64"
            ]
          },
          "metadata": {
            "tags": []
          },
          "execution_count": 13
        }
      ]
    },
    {
      "cell_type": "code",
      "metadata": {
        "id": "aglG5QEZS0_q",
        "colab_type": "code",
        "colab": {}
      },
      "source": [
        "ser2 = pd.Series([1,2,5,4],index = ['USA', 'Germany','Italy', 'Japan'])                                   "
      ],
      "execution_count": 0,
      "outputs": []
    },
    {
      "cell_type": "code",
      "metadata": {
        "id": "J4fREU7yS0_w",
        "colab_type": "code",
        "colab": {},
        "outputId": "9296a020-2247-436d-beec-bef810751834"
      },
      "source": [
        "ser2"
      ],
      "execution_count": 0,
      "outputs": [
        {
          "output_type": "execute_result",
          "data": {
            "text/plain": [
              "USA        1\n",
              "Germany    2\n",
              "Italy      5\n",
              "Japan      4\n",
              "dtype: int64"
            ]
          },
          "metadata": {
            "tags": []
          },
          "execution_count": 15
        }
      ]
    },
    {
      "cell_type": "code",
      "metadata": {
        "id": "WuVZ0lQyS0_5",
        "colab_type": "code",
        "colab": {},
        "outputId": "0b71ba60-a61f-4fae-d89f-aedf26c71474"
      },
      "source": [
        "ser1['USA']"
      ],
      "execution_count": 0,
      "outputs": [
        {
          "output_type": "execute_result",
          "data": {
            "text/plain": [
              "1"
            ]
          },
          "metadata": {
            "tags": []
          },
          "execution_count": 16
        }
      ]
    },
    {
      "cell_type": "markdown",
      "metadata": {
        "collapsed": false,
        "id": "b8oIQ-o3S1AC",
        "colab_type": "text"
      },
      "source": [
        "Operations are then also done based off of index:"
      ]
    },
    {
      "cell_type": "code",
      "metadata": {
        "id": "AnZWFpTnS1AC",
        "colab_type": "code",
        "colab": {},
        "outputId": "d4536e9a-986c-4dea-810a-52e4bf0aa386"
      },
      "source": [
        "ser1 + ser2"
      ],
      "execution_count": 0,
      "outputs": [
        {
          "output_type": "execute_result",
          "data": {
            "text/plain": [
              "Germany    4.0\n",
              "Italy      NaN\n",
              "Japan      8.0\n",
              "USA        2.0\n",
              "USSR       NaN\n",
              "dtype: float64"
            ]
          },
          "metadata": {
            "tags": []
          },
          "execution_count": 17
        }
      ]
    }
  ]
}